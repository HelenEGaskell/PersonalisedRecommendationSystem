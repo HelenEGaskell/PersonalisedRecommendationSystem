{
 "cells": [
  {
   "cell_type": "markdown",
   "id": "f9f2551c",
   "metadata": {},
   "source": [
    "# Collaborative filtering Models"
   ]
  },
  {
   "cell_type": "markdown",
   "id": "12e38bf3",
   "metadata": {},
   "source": [
    "In this notebook I will use turicreate to build a recommendation system. Turicreate has built in models such as popularity, cosine similarity, pearson similarity which makes it very user friendly. It's also designed to handle large datasets which is perfect for this considering the transaction table has 31 million rows. We have to convert pandas Dataframes into SFrames in order for it to deal with the data in a memory-efficient way. \n",
    "\n",
    "I will be building a recommendation system model based on collaborative filtering, which is essentially predicting items a user may like or buy based on their similar purchase behaviour to other users in the past. \n",
    "\n",
    "My prediction results will include a ranking of the top 8 products per customer. Type of collaborative filtering is also referred to as Market Basket Analysis - providing a list of products a customer may want to put in their basket based on previous purchases.\n",
    "\n",
    "I will be using 3 different variations of my datasets. The first one will be a table with customer id, article id and article purchase count. This will show how many of each article a customer bought. \n",
    "\n",
    "The second table will have a purchase dummy column, this will ignore how many of something a customer bought and just mark which articles they bought and which they didn't. This format is useful for cosine and pearson similarity when we are turning the tables into matrices.\n",
    "\n",
    "The third table will have a column which is a normalized column of article purchase count. \n",
    "\n",
    "I will assess turicreate's popularity model, cosine similarity and pearson similarity model on each table and evaluate the results to see which model is most effective"
   ]
  },
  {
   "cell_type": "code",
   "execution_count": 1,
   "id": "18f90f4b",
   "metadata": {},
   "outputs": [],
   "source": [
    "import pandas as pd\n",
    "import numpy as np\n",
    "import time\n",
    "import turicreate as tc\n",
    "\n",
    "from sklearn.model_selection import train_test_split\n"
   ]
  },
  {
   "cell_type": "markdown",
   "id": "18fe43ad",
   "metadata": {},
   "source": [
    "Load the data"
   ]
  },
  {
   "cell_type": "code",
   "execution_count": 3,
   "id": "8947ca2e",
   "metadata": {},
   "outputs": [],
   "source": [
    "customers = pd.read_csv('../src/data/cleancustomers.csv', index_col=0)"
   ]
  },
  {
   "cell_type": "code",
   "execution_count": 4,
   "id": "1e1c0c14",
   "metadata": {},
   "outputs": [],
   "source": [
    "transactions = pd.read_csv('../src/data/cleantransactions.csv', index_col=0)\n"
   ]
  },
  {
   "cell_type": "code",
   "execution_count": 5,
   "id": "9018eac7",
   "metadata": {},
   "outputs": [],
   "source": [
    "articles = pd.read_csv('../src/data/cleanarticles.csv', index_col=0)"
   ]
  },
  {
   "cell_type": "code",
   "execution_count": 6,
   "id": "d4dc4392",
   "metadata": {},
   "outputs": [
    {
     "data": {
      "text/html": [
       "<div>\n",
       "<style scoped>\n",
       "    .dataframe tbody tr th:only-of-type {\n",
       "        vertical-align: middle;\n",
       "    }\n",
       "\n",
       "    .dataframe tbody tr th {\n",
       "        vertical-align: top;\n",
       "    }\n",
       "\n",
       "    .dataframe thead th {\n",
       "        text-align: right;\n",
       "    }\n",
       "</style>\n",
       "<table border=\"1\" class=\"dataframe\">\n",
       "  <thead>\n",
       "    <tr style=\"text-align: right;\">\n",
       "      <th></th>\n",
       "      <th>t_dat</th>\n",
       "      <th>customer_id</th>\n",
       "      <th>article_id</th>\n",
       "      <th>price</th>\n",
       "      <th>sales_channel_id</th>\n",
       "      <th>article_purchase_count</th>\n",
       "    </tr>\n",
       "  </thead>\n",
       "  <tbody>\n",
       "    <tr>\n",
       "      <th>0</th>\n",
       "      <td>2018-09-20</td>\n",
       "      <td>000058a12d5b43e67d225668fa1f8d618c13dc232df0ca...</td>\n",
       "      <td>541518023</td>\n",
       "      <td>0.030492</td>\n",
       "      <td>2</td>\n",
       "      <td>1</td>\n",
       "    </tr>\n",
       "    <tr>\n",
       "      <th>1</th>\n",
       "      <td>2018-09-20</td>\n",
       "      <td>000058a12d5b43e67d225668fa1f8d618c13dc232df0ca...</td>\n",
       "      <td>663713001</td>\n",
       "      <td>0.050831</td>\n",
       "      <td>2</td>\n",
       "      <td>1</td>\n",
       "    </tr>\n",
       "    <tr>\n",
       "      <th>2</th>\n",
       "      <td>2018-09-20</td>\n",
       "      <td>00007d2de826758b65a93dd24ce629ed66842531df6699...</td>\n",
       "      <td>505221001</td>\n",
       "      <td>0.020322</td>\n",
       "      <td>2</td>\n",
       "      <td>1</td>\n",
       "    </tr>\n",
       "    <tr>\n",
       "      <th>3</th>\n",
       "      <td>2018-09-20</td>\n",
       "      <td>00007d2de826758b65a93dd24ce629ed66842531df6699...</td>\n",
       "      <td>505221004</td>\n",
       "      <td>0.015237</td>\n",
       "      <td>2</td>\n",
       "      <td>1</td>\n",
       "    </tr>\n",
       "    <tr>\n",
       "      <th>4</th>\n",
       "      <td>2018-09-20</td>\n",
       "      <td>00007d2de826758b65a93dd24ce629ed66842531df6699...</td>\n",
       "      <td>685687001</td>\n",
       "      <td>0.016932</td>\n",
       "      <td>2</td>\n",
       "      <td>1</td>\n",
       "    </tr>\n",
       "  </tbody>\n",
       "</table>\n",
       "</div>"
      ],
      "text/plain": [
       "        t_dat                                        customer_id  article_id  \\\n",
       "0  2018-09-20  000058a12d5b43e67d225668fa1f8d618c13dc232df0ca...   541518023   \n",
       "1  2018-09-20  000058a12d5b43e67d225668fa1f8d618c13dc232df0ca...   663713001   \n",
       "2  2018-09-20  00007d2de826758b65a93dd24ce629ed66842531df6699...   505221001   \n",
       "3  2018-09-20  00007d2de826758b65a93dd24ce629ed66842531df6699...   505221004   \n",
       "4  2018-09-20  00007d2de826758b65a93dd24ce629ed66842531df6699...   685687001   \n",
       "\n",
       "      price  sales_channel_id  article_purchase_count  \n",
       "0  0.030492                 2                       1  \n",
       "1  0.050831                 2                       1  \n",
       "2  0.020322                 2                       1  \n",
       "3  0.015237                 2                       1  \n",
       "4  0.016932                 2                       1  "
      ]
     },
     "execution_count": 6,
     "metadata": {},
     "output_type": "execute_result"
    }
   ],
   "source": [
    "transactions.head()"
   ]
  },
  {
   "cell_type": "markdown",
   "id": "e144f3c8",
   "metadata": {},
   "source": [
    "Looking at the most popular items by count and assigning to a new table with the column 'no_purchases'"
   ]
  },
  {
   "cell_type": "code",
   "execution_count": 7,
   "id": "987beace",
   "metadata": {},
   "outputs": [],
   "source": [
    "popular_articles = transactions['article_id'].value_counts(ascending=False).rename_axis('article_id').reset_index(name='no_purchases')"
   ]
  },
  {
   "cell_type": "code",
   "execution_count": 8,
   "id": "c19f99bc",
   "metadata": {},
   "outputs": [
    {
     "data": {
      "text/html": [
       "<div>\n",
       "<style scoped>\n",
       "    .dataframe tbody tr th:only-of-type {\n",
       "        vertical-align: middle;\n",
       "    }\n",
       "\n",
       "    .dataframe tbody tr th {\n",
       "        vertical-align: top;\n",
       "    }\n",
       "\n",
       "    .dataframe thead th {\n",
       "        text-align: right;\n",
       "    }\n",
       "</style>\n",
       "<table border=\"1\" class=\"dataframe\">\n",
       "  <thead>\n",
       "    <tr style=\"text-align: right;\">\n",
       "      <th></th>\n",
       "      <th>article_id</th>\n",
       "      <th>no_purchases</th>\n",
       "    </tr>\n",
       "  </thead>\n",
       "  <tbody>\n",
       "    <tr>\n",
       "      <th>0</th>\n",
       "      <td>706016001</td>\n",
       "      <td>42672</td>\n",
       "    </tr>\n",
       "    <tr>\n",
       "      <th>1</th>\n",
       "      <td>706016002</td>\n",
       "      <td>30862</td>\n",
       "    </tr>\n",
       "    <tr>\n",
       "      <th>2</th>\n",
       "      <td>372860001</td>\n",
       "      <td>29337</td>\n",
       "    </tr>\n",
       "    <tr>\n",
       "      <th>3</th>\n",
       "      <td>610776002</td>\n",
       "      <td>25234</td>\n",
       "    </tr>\n",
       "    <tr>\n",
       "      <th>4</th>\n",
       "      <td>759871002</td>\n",
       "      <td>23799</td>\n",
       "    </tr>\n",
       "    <tr>\n",
       "      <th>...</th>\n",
       "      <td>...</td>\n",
       "      <td>...</td>\n",
       "    </tr>\n",
       "    <tr>\n",
       "      <th>104542</th>\n",
       "      <td>598581001</td>\n",
       "      <td>1</td>\n",
       "    </tr>\n",
       "    <tr>\n",
       "      <th>104543</th>\n",
       "      <td>598581002</td>\n",
       "      <td>1</td>\n",
       "    </tr>\n",
       "    <tr>\n",
       "      <th>104544</th>\n",
       "      <td>600665002</td>\n",
       "      <td>1</td>\n",
       "    </tr>\n",
       "    <tr>\n",
       "      <th>104545</th>\n",
       "      <td>656980001</td>\n",
       "      <td>1</td>\n",
       "    </tr>\n",
       "    <tr>\n",
       "      <th>104546</th>\n",
       "      <td>533261032</td>\n",
       "      <td>1</td>\n",
       "    </tr>\n",
       "  </tbody>\n",
       "</table>\n",
       "<p>104547 rows × 2 columns</p>\n",
       "</div>"
      ],
      "text/plain": [
       "        article_id  no_purchases\n",
       "0        706016001         42672\n",
       "1        706016002         30862\n",
       "2        372860001         29337\n",
       "3        610776002         25234\n",
       "4        759871002         23799\n",
       "...            ...           ...\n",
       "104542   598581001             1\n",
       "104543   598581002             1\n",
       "104544   600665002             1\n",
       "104545   656980001             1\n",
       "104546   533261032             1\n",
       "\n",
       "[104547 rows x 2 columns]"
      ]
     },
     "execution_count": 8,
     "metadata": {},
     "output_type": "execute_result"
    }
   ],
   "source": [
    "popular_articles"
   ]
  },
  {
   "cell_type": "code",
   "execution_count": 9,
   "id": "668102b0",
   "metadata": {},
   "outputs": [
    {
     "name": "stdout",
     "output_type": "stream",
     "text": [
      "<class 'pandas.core.frame.DataFrame'>\n",
      "Int64Index: 105126 entries, 0 to 105125\n",
      "Data columns (total 25 columns):\n",
      " #   Column                        Non-Null Count   Dtype \n",
      "---  ------                        --------------   ----- \n",
      " 0   article_id                    105126 non-null  int64 \n",
      " 1   product_code                  105126 non-null  int64 \n",
      " 2   prod_name                     105126 non-null  object\n",
      " 3   product_type_no               105126 non-null  int64 \n",
      " 4   product_type_name             105126 non-null  object\n",
      " 5   product_group_name            105126 non-null  object\n",
      " 6   graphical_appearance_no       105126 non-null  int64 \n",
      " 7   graphical_appearance_name     105126 non-null  object\n",
      " 8   colour_group_code             105126 non-null  int64 \n",
      " 9   colour_group_name             105126 non-null  object\n",
      " 10  perceived_colour_value_id     105126 non-null  int64 \n",
      " 11  perceived_colour_value_name   105126 non-null  object\n",
      " 12  perceived_colour_master_id    105126 non-null  int64 \n",
      " 13  perceived_colour_master_name  105126 non-null  object\n",
      " 14  department_no                 105126 non-null  int64 \n",
      " 15  department_name               105126 non-null  object\n",
      " 16  index_code                    105126 non-null  object\n",
      " 17  index_name                    105126 non-null  object\n",
      " 18  index_group_no                105126 non-null  int64 \n",
      " 19  index_group_name              105126 non-null  object\n",
      " 20  section_no                    105126 non-null  int64 \n",
      " 21  section_name                  105126 non-null  object\n",
      " 22  garment_group_no              105126 non-null  int64 \n",
      " 23  garment_group_name            105126 non-null  object\n",
      " 24  detail_desc                   105126 non-null  object\n",
      "dtypes: int64(11), object(14)\n",
      "memory usage: 20.9+ MB\n"
     ]
    }
   ],
   "source": [
    "articles.info()"
   ]
  },
  {
   "cell_type": "markdown",
   "id": "f5a00167",
   "metadata": {},
   "source": [
    "As there are 105,000 different articles in total, I am going to remove those that weren't that popular. I will eventually be making a matrix with the articles as columns therefore in order to improve run time and accuracy (by only suggesting relatively popular products) I will first look at the products that had over 1000 transactions"
   ]
  },
  {
   "cell_type": "code",
   "execution_count": 10,
   "id": "ecfb103b",
   "metadata": {},
   "outputs": [],
   "source": [
    "overthousand = popular_articles[popular_articles['no_purchases'] > 1000]"
   ]
  },
  {
   "cell_type": "code",
   "execution_count": 11,
   "id": "7595d26a",
   "metadata": {},
   "outputs": [
    {
     "data": {
      "text/plain": [
       "article_id      6864\n",
       "no_purchases    6864\n",
       "dtype: int64"
      ]
     },
     "execution_count": 11,
     "metadata": {},
     "output_type": "execute_result"
    }
   ],
   "source": [
    "overthousand.count()"
   ]
  },
  {
   "cell_type": "markdown",
   "id": "923a9e8e",
   "metadata": {},
   "source": [
    "6848 articles still seems a very big number for my matrix so I will now try > 2000 purchases"
   ]
  },
  {
   "cell_type": "code",
   "execution_count": 12,
   "id": "3d55181a",
   "metadata": {},
   "outputs": [],
   "source": [
    "overtwothousand = popular_articles[popular_articles['no_purchases'] > 2000]"
   ]
  },
  {
   "cell_type": "code",
   "execution_count": 13,
   "id": "0bc0dbc9",
   "metadata": {},
   "outputs": [
    {
     "data": {
      "text/plain": [
       "article_id      2188\n",
       "no_purchases    2188\n",
       "dtype: int64"
      ]
     },
     "execution_count": 13,
     "metadata": {},
     "output_type": "execute_result"
    }
   ],
   "source": [
    "overtwothousand.count()"
   ]
  },
  {
   "cell_type": "markdown",
   "id": "0b2e3d72",
   "metadata": {},
   "source": [
    "I'm going to go with the top 1000 articles "
   ]
  },
  {
   "cell_type": "code",
   "execution_count": 14,
   "id": "d44f4f9d",
   "metadata": {
    "scrolled": false
   },
   "outputs": [],
   "source": [
    "popular_articles = popular_articles.head(1000)"
   ]
  },
  {
   "cell_type": "code",
   "execution_count": 15,
   "id": "02962c16",
   "metadata": {},
   "outputs": [
    {
     "data": {
      "text/html": [
       "<div>\n",
       "<style scoped>\n",
       "    .dataframe tbody tr th:only-of-type {\n",
       "        vertical-align: middle;\n",
       "    }\n",
       "\n",
       "    .dataframe tbody tr th {\n",
       "        vertical-align: top;\n",
       "    }\n",
       "\n",
       "    .dataframe thead th {\n",
       "        text-align: right;\n",
       "    }\n",
       "</style>\n",
       "<table border=\"1\" class=\"dataframe\">\n",
       "  <thead>\n",
       "    <tr style=\"text-align: right;\">\n",
       "      <th></th>\n",
       "      <th>article_id</th>\n",
       "      <th>no_purchases</th>\n",
       "    </tr>\n",
       "  </thead>\n",
       "  <tbody>\n",
       "    <tr>\n",
       "      <th>0</th>\n",
       "      <td>706016001</td>\n",
       "      <td>42672</td>\n",
       "    </tr>\n",
       "    <tr>\n",
       "      <th>1</th>\n",
       "      <td>706016002</td>\n",
       "      <td>30862</td>\n",
       "    </tr>\n",
       "    <tr>\n",
       "      <th>2</th>\n",
       "      <td>372860001</td>\n",
       "      <td>29337</td>\n",
       "    </tr>\n",
       "    <tr>\n",
       "      <th>3</th>\n",
       "      <td>610776002</td>\n",
       "      <td>25234</td>\n",
       "    </tr>\n",
       "    <tr>\n",
       "      <th>4</th>\n",
       "      <td>759871002</td>\n",
       "      <td>23799</td>\n",
       "    </tr>\n",
       "    <tr>\n",
       "      <th>...</th>\n",
       "      <td>...</td>\n",
       "      <td>...</td>\n",
       "    </tr>\n",
       "    <tr>\n",
       "      <th>995</th>\n",
       "      <td>573716002</td>\n",
       "      <td>2906</td>\n",
       "    </tr>\n",
       "    <tr>\n",
       "      <th>996</th>\n",
       "      <td>720125039</td>\n",
       "      <td>2905</td>\n",
       "    </tr>\n",
       "    <tr>\n",
       "      <th>997</th>\n",
       "      <td>733098018</td>\n",
       "      <td>2905</td>\n",
       "    </tr>\n",
       "    <tr>\n",
       "      <th>998</th>\n",
       "      <td>556539016</td>\n",
       "      <td>2904</td>\n",
       "    </tr>\n",
       "    <tr>\n",
       "      <th>999</th>\n",
       "      <td>728156001</td>\n",
       "      <td>2903</td>\n",
       "    </tr>\n",
       "  </tbody>\n",
       "</table>\n",
       "<p>1000 rows × 2 columns</p>\n",
       "</div>"
      ],
      "text/plain": [
       "     article_id  no_purchases\n",
       "0     706016001         42672\n",
       "1     706016002         30862\n",
       "2     372860001         29337\n",
       "3     610776002         25234\n",
       "4     759871002         23799\n",
       "..          ...           ...\n",
       "995   573716002          2906\n",
       "996   720125039          2905\n",
       "997   733098018          2905\n",
       "998   556539016          2904\n",
       "999   728156001          2903\n",
       "\n",
       "[1000 rows x 2 columns]"
      ]
     },
     "execution_count": 15,
     "metadata": {},
     "output_type": "execute_result"
    }
   ],
   "source": [
    "popular_articles"
   ]
  },
  {
   "cell_type": "markdown",
   "id": "42242b26",
   "metadata": {},
   "source": [
    "Selecting only the rows in the transaction table that include the 1000 most popular articles "
   ]
  },
  {
   "cell_type": "code",
   "execution_count": 16,
   "id": "eeb8c274",
   "metadata": {},
   "outputs": [],
   "source": [
    "top1000transactions = transactions[transactions['article_id'].isin(popular_articles['article_id']).reset_index(drop=True)]"
   ]
  },
  {
   "cell_type": "code",
   "execution_count": 17,
   "id": "f1448536",
   "metadata": {},
   "outputs": [
    {
     "data": {
      "text/html": [
       "<div>\n",
       "<style scoped>\n",
       "    .dataframe tbody tr th:only-of-type {\n",
       "        vertical-align: middle;\n",
       "    }\n",
       "\n",
       "    .dataframe tbody tr th {\n",
       "        vertical-align: top;\n",
       "    }\n",
       "\n",
       "    .dataframe thead th {\n",
       "        text-align: right;\n",
       "    }\n",
       "</style>\n",
       "<table border=\"1\" class=\"dataframe\">\n",
       "  <thead>\n",
       "    <tr style=\"text-align: right;\">\n",
       "      <th></th>\n",
       "      <th>t_dat</th>\n",
       "      <th>customer_id</th>\n",
       "      <th>article_id</th>\n",
       "      <th>price</th>\n",
       "      <th>sales_channel_id</th>\n",
       "      <th>article_purchase_count</th>\n",
       "    </tr>\n",
       "  </thead>\n",
       "  <tbody>\n",
       "    <tr>\n",
       "      <th>14</th>\n",
       "      <td>2018-09-20</td>\n",
       "      <td>000aa7f0dc06cd7174389e76c9e132a67860c5f65f9706...</td>\n",
       "      <td>377277001</td>\n",
       "      <td>0.008458</td>\n",
       "      <td>2</td>\n",
       "      <td>2</td>\n",
       "    </tr>\n",
       "    <tr>\n",
       "      <th>48</th>\n",
       "      <td>2018-09-20</td>\n",
       "      <td>00401a367c5ac085cb9d4b77c56f3edcabf25153615db9...</td>\n",
       "      <td>573937001</td>\n",
       "      <td>0.032186</td>\n",
       "      <td>2</td>\n",
       "      <td>1</td>\n",
       "    </tr>\n",
       "    <tr>\n",
       "      <th>56</th>\n",
       "      <td>2018-09-20</td>\n",
       "      <td>00402f4463c8dc1b3ee54abfdea280e96cd87320449eca...</td>\n",
       "      <td>507909001</td>\n",
       "      <td>0.025407</td>\n",
       "      <td>1</td>\n",
       "      <td>1</td>\n",
       "    </tr>\n",
       "    <tr>\n",
       "      <th>67</th>\n",
       "      <td>2018-09-20</td>\n",
       "      <td>00609a1cc562140fa87a6de432bef9c9f0b936b259ad30...</td>\n",
       "      <td>611415001</td>\n",
       "      <td>0.016932</td>\n",
       "      <td>2</td>\n",
       "      <td>1</td>\n",
       "    </tr>\n",
       "    <tr>\n",
       "      <th>68</th>\n",
       "      <td>2018-09-20</td>\n",
       "      <td>00609a1cc562140fa87a6de432bef9c9f0b936b259ad30...</td>\n",
       "      <td>611415005</td>\n",
       "      <td>0.016932</td>\n",
       "      <td>2</td>\n",
       "      <td>1</td>\n",
       "    </tr>\n",
       "    <tr>\n",
       "      <th>...</th>\n",
       "      <td>...</td>\n",
       "      <td>...</td>\n",
       "      <td>...</td>\n",
       "      <td>...</td>\n",
       "      <td>...</td>\n",
       "      <td>...</td>\n",
       "    </tr>\n",
       "    <tr>\n",
       "      <th>28813368</th>\n",
       "      <td>2020-09-22</td>\n",
       "      <td>ff57364873464edd79e4807350b1cc0902d14f24490e48...</td>\n",
       "      <td>706016003</td>\n",
       "      <td>0.033881</td>\n",
       "      <td>2</td>\n",
       "      <td>1</td>\n",
       "    </tr>\n",
       "    <tr>\n",
       "      <th>28813369</th>\n",
       "      <td>2020-09-22</td>\n",
       "      <td>ff57364873464edd79e4807350b1cc0902d14f24490e48...</td>\n",
       "      <td>706016019</td>\n",
       "      <td>0.033881</td>\n",
       "      <td>2</td>\n",
       "      <td>1</td>\n",
       "    </tr>\n",
       "    <tr>\n",
       "      <th>28813386</th>\n",
       "      <td>2020-09-22</td>\n",
       "      <td>ff813df6887c2a6d7065aed247bf1db3d6f629eee23798...</td>\n",
       "      <td>806388002</td>\n",
       "      <td>0.013542</td>\n",
       "      <td>1</td>\n",
       "      <td>1</td>\n",
       "    </tr>\n",
       "    <tr>\n",
       "      <th>28813393</th>\n",
       "      <td>2020-09-22</td>\n",
       "      <td>ffb72741f3bc3d98855703b55d34e05bc7893a5d6a99a3...</td>\n",
       "      <td>762846006</td>\n",
       "      <td>0.025407</td>\n",
       "      <td>2</td>\n",
       "      <td>1</td>\n",
       "    </tr>\n",
       "    <tr>\n",
       "      <th>28813397</th>\n",
       "      <td>2020-09-22</td>\n",
       "      <td>ffc92c3f7b0b302f393c2968b290f6e5c5b5510d1cf1df...</td>\n",
       "      <td>740519002</td>\n",
       "      <td>0.045746</td>\n",
       "      <td>2</td>\n",
       "      <td>1</td>\n",
       "    </tr>\n",
       "  </tbody>\n",
       "</table>\n",
       "<p>5053510 rows × 6 columns</p>\n",
       "</div>"
      ],
      "text/plain": [
       "               t_dat                                        customer_id  \\\n",
       "14        2018-09-20  000aa7f0dc06cd7174389e76c9e132a67860c5f65f9706...   \n",
       "48        2018-09-20  00401a367c5ac085cb9d4b77c56f3edcabf25153615db9...   \n",
       "56        2018-09-20  00402f4463c8dc1b3ee54abfdea280e96cd87320449eca...   \n",
       "67        2018-09-20  00609a1cc562140fa87a6de432bef9c9f0b936b259ad30...   \n",
       "68        2018-09-20  00609a1cc562140fa87a6de432bef9c9f0b936b259ad30...   \n",
       "...              ...                                                ...   \n",
       "28813368  2020-09-22  ff57364873464edd79e4807350b1cc0902d14f24490e48...   \n",
       "28813369  2020-09-22  ff57364873464edd79e4807350b1cc0902d14f24490e48...   \n",
       "28813386  2020-09-22  ff813df6887c2a6d7065aed247bf1db3d6f629eee23798...   \n",
       "28813393  2020-09-22  ffb72741f3bc3d98855703b55d34e05bc7893a5d6a99a3...   \n",
       "28813397  2020-09-22  ffc92c3f7b0b302f393c2968b290f6e5c5b5510d1cf1df...   \n",
       "\n",
       "          article_id     price  sales_channel_id  article_purchase_count  \n",
       "14         377277001  0.008458                 2                       2  \n",
       "48         573937001  0.032186                 2                       1  \n",
       "56         507909001  0.025407                 1                       1  \n",
       "67         611415001  0.016932                 2                       1  \n",
       "68         611415005  0.016932                 2                       1  \n",
       "...              ...       ...               ...                     ...  \n",
       "28813368   706016003  0.033881                 2                       1  \n",
       "28813369   706016019  0.033881                 2                       1  \n",
       "28813386   806388002  0.013542                 1                       1  \n",
       "28813393   762846006  0.025407                 2                       1  \n",
       "28813397   740519002  0.045746                 2                       1  \n",
       "\n",
       "[5053510 rows x 6 columns]"
      ]
     },
     "execution_count": 17,
     "metadata": {},
     "output_type": "execute_result"
    }
   ],
   "source": [
    "top1000transactions"
   ]
  },
  {
   "cell_type": "markdown",
   "id": "e1869edc",
   "metadata": {},
   "source": [
    "Now I will look at the number of articles purchased by each customer. As I will be comparing customers and the items they've bought, I will need to remove those customers who haven't bought many items "
   ]
  },
  {
   "cell_type": "code",
   "execution_count": 18,
   "id": "805a36cb",
   "metadata": {},
   "outputs": [],
   "source": [
    "top_customers = top1000transactions.groupby('customer_id')['article_id'].count().sort_values(ascending=False)"
   ]
  },
  {
   "cell_type": "code",
   "execution_count": 19,
   "id": "ae19ca71",
   "metadata": {},
   "outputs": [
    {
     "data": {
      "text/plain": [
       "customer_id\n",
       "ffc247b933f175b37fccbb4f71c0479d6625e703b36f637be643afc224a8977f    184\n",
       "be1981ab818cf4ef6765b2ecaea7a2cbf14ccd6e8a7ee985513d9e8e53c6d91b    181\n",
       "0bf4c6fd4e9d33f9bfb807bb78348cbf5c565846ff4006acf5c1b9aea77b0e54    167\n",
       "2df54f0d0653811fe06479c93905f3e6ecc6d07edf39d8b56e5b66c86182bedf    162\n",
       "d190fc2dc41e27e5f79f8b1f58bfcd7a13ab22857f39ca9f1cd12230520d58ab    149\n",
       "                                                                   ... \n",
       "bab2682a1f1bff22a1d65d038948b6062ce0640c69ece88b68ba12905668a33b      1\n",
       "4b767c31fae9030812089b6f14befb3f51483815d99b813008776b7d20a8d5d8      1\n",
       "4b77256fcaa3ddbf509f048b30701a51d1b299480e9e8c74b367ee0324f1f686      1\n",
       "4b773691182c0ced6569159bcec31e77eb2891cb8d1e6a57183006f4167bbac5      1\n",
       "ffffd7744cebcf3aca44ae7049d2a94b87074c3d4ffe38b2236865d949d4df6a      1\n",
       "Name: article_id, Length: 904179, dtype: int64"
      ]
     },
     "execution_count": 19,
     "metadata": {},
     "output_type": "execute_result"
    }
   ],
   "source": [
    "top_customers"
   ]
  },
  {
   "cell_type": "code",
   "execution_count": 20,
   "id": "bd39fd2e",
   "metadata": {},
   "outputs": [],
   "source": [
    "# put these into a df \n",
    "top_customers = top_customers.rename_axis('customer_id').reset_index(name='no_purchases')"
   ]
  },
  {
   "cell_type": "code",
   "execution_count": 21,
   "id": "a83848a1",
   "metadata": {},
   "outputs": [
    {
     "data": {
      "text/html": [
       "<div>\n",
       "<style scoped>\n",
       "    .dataframe tbody tr th:only-of-type {\n",
       "        vertical-align: middle;\n",
       "    }\n",
       "\n",
       "    .dataframe tbody tr th {\n",
       "        vertical-align: top;\n",
       "    }\n",
       "\n",
       "    .dataframe thead th {\n",
       "        text-align: right;\n",
       "    }\n",
       "</style>\n",
       "<table border=\"1\" class=\"dataframe\">\n",
       "  <thead>\n",
       "    <tr style=\"text-align: right;\">\n",
       "      <th></th>\n",
       "      <th>customer_id</th>\n",
       "      <th>no_purchases</th>\n",
       "    </tr>\n",
       "  </thead>\n",
       "  <tbody>\n",
       "    <tr>\n",
       "      <th>0</th>\n",
       "      <td>ffc247b933f175b37fccbb4f71c0479d6625e703b36f63...</td>\n",
       "      <td>184</td>\n",
       "    </tr>\n",
       "    <tr>\n",
       "      <th>1</th>\n",
       "      <td>be1981ab818cf4ef6765b2ecaea7a2cbf14ccd6e8a7ee9...</td>\n",
       "      <td>181</td>\n",
       "    </tr>\n",
       "    <tr>\n",
       "      <th>2</th>\n",
       "      <td>0bf4c6fd4e9d33f9bfb807bb78348cbf5c565846ff4006...</td>\n",
       "      <td>167</td>\n",
       "    </tr>\n",
       "    <tr>\n",
       "      <th>3</th>\n",
       "      <td>2df54f0d0653811fe06479c93905f3e6ecc6d07edf39d8...</td>\n",
       "      <td>162</td>\n",
       "    </tr>\n",
       "    <tr>\n",
       "      <th>4</th>\n",
       "      <td>d190fc2dc41e27e5f79f8b1f58bfcd7a13ab22857f39ca...</td>\n",
       "      <td>149</td>\n",
       "    </tr>\n",
       "    <tr>\n",
       "      <th>...</th>\n",
       "      <td>...</td>\n",
       "      <td>...</td>\n",
       "    </tr>\n",
       "    <tr>\n",
       "      <th>904174</th>\n",
       "      <td>bab2682a1f1bff22a1d65d038948b6062ce0640c69ece8...</td>\n",
       "      <td>1</td>\n",
       "    </tr>\n",
       "    <tr>\n",
       "      <th>904175</th>\n",
       "      <td>4b767c31fae9030812089b6f14befb3f51483815d99b81...</td>\n",
       "      <td>1</td>\n",
       "    </tr>\n",
       "    <tr>\n",
       "      <th>904176</th>\n",
       "      <td>4b77256fcaa3ddbf509f048b30701a51d1b299480e9e8c...</td>\n",
       "      <td>1</td>\n",
       "    </tr>\n",
       "    <tr>\n",
       "      <th>904177</th>\n",
       "      <td>4b773691182c0ced6569159bcec31e77eb2891cb8d1e6a...</td>\n",
       "      <td>1</td>\n",
       "    </tr>\n",
       "    <tr>\n",
       "      <th>904178</th>\n",
       "      <td>ffffd7744cebcf3aca44ae7049d2a94b87074c3d4ffe38...</td>\n",
       "      <td>1</td>\n",
       "    </tr>\n",
       "  </tbody>\n",
       "</table>\n",
       "<p>904179 rows × 2 columns</p>\n",
       "</div>"
      ],
      "text/plain": [
       "                                              customer_id  no_purchases\n",
       "0       ffc247b933f175b37fccbb4f71c0479d6625e703b36f63...           184\n",
       "1       be1981ab818cf4ef6765b2ecaea7a2cbf14ccd6e8a7ee9...           181\n",
       "2       0bf4c6fd4e9d33f9bfb807bb78348cbf5c565846ff4006...           167\n",
       "3       2df54f0d0653811fe06479c93905f3e6ecc6d07edf39d8...           162\n",
       "4       d190fc2dc41e27e5f79f8b1f58bfcd7a13ab22857f39ca...           149\n",
       "...                                                   ...           ...\n",
       "904174  bab2682a1f1bff22a1d65d038948b6062ce0640c69ece8...             1\n",
       "904175  4b767c31fae9030812089b6f14befb3f51483815d99b81...             1\n",
       "904176  4b77256fcaa3ddbf509f048b30701a51d1b299480e9e8c...             1\n",
       "904177  4b773691182c0ced6569159bcec31e77eb2891cb8d1e6a...             1\n",
       "904178  ffffd7744cebcf3aca44ae7049d2a94b87074c3d4ffe38...             1\n",
       "\n",
       "[904179 rows x 2 columns]"
      ]
     },
     "execution_count": 21,
     "metadata": {},
     "output_type": "execute_result"
    }
   ],
   "source": [
    "top_customers"
   ]
  },
  {
   "cell_type": "markdown",
   "id": "ab1255e2",
   "metadata": {},
   "source": [
    "User-item collaborative filtering compares users based on the items they've bought, so it is not useful to compare users who only bought 1 or 2 items. I will use 30 as the minimum number of items a customer has bought "
   ]
  },
  {
   "cell_type": "code",
   "execution_count": 22,
   "id": "40d961ac",
   "metadata": {},
   "outputs": [],
   "source": [
    "above30 = top_customers[top_customers['no_purchases'] > 30]"
   ]
  },
  {
   "cell_type": "code",
   "execution_count": 23,
   "id": "685fafd9",
   "metadata": {},
   "outputs": [
    {
     "data": {
      "text/html": [
       "<div>\n",
       "<style scoped>\n",
       "    .dataframe tbody tr th:only-of-type {\n",
       "        vertical-align: middle;\n",
       "    }\n",
       "\n",
       "    .dataframe tbody tr th {\n",
       "        vertical-align: top;\n",
       "    }\n",
       "\n",
       "    .dataframe thead th {\n",
       "        text-align: right;\n",
       "    }\n",
       "</style>\n",
       "<table border=\"1\" class=\"dataframe\">\n",
       "  <thead>\n",
       "    <tr style=\"text-align: right;\">\n",
       "      <th></th>\n",
       "      <th>customer_id</th>\n",
       "      <th>no_purchases</th>\n",
       "    </tr>\n",
       "  </thead>\n",
       "  <tbody>\n",
       "    <tr>\n",
       "      <th>0</th>\n",
       "      <td>ffc247b933f175b37fccbb4f71c0479d6625e703b36f63...</td>\n",
       "      <td>184</td>\n",
       "    </tr>\n",
       "    <tr>\n",
       "      <th>1</th>\n",
       "      <td>be1981ab818cf4ef6765b2ecaea7a2cbf14ccd6e8a7ee9...</td>\n",
       "      <td>181</td>\n",
       "    </tr>\n",
       "    <tr>\n",
       "      <th>2</th>\n",
       "      <td>0bf4c6fd4e9d33f9bfb807bb78348cbf5c565846ff4006...</td>\n",
       "      <td>167</td>\n",
       "    </tr>\n",
       "    <tr>\n",
       "      <th>3</th>\n",
       "      <td>2df54f0d0653811fe06479c93905f3e6ecc6d07edf39d8...</td>\n",
       "      <td>162</td>\n",
       "    </tr>\n",
       "    <tr>\n",
       "      <th>4</th>\n",
       "      <td>d190fc2dc41e27e5f79f8b1f58bfcd7a13ab22857f39ca...</td>\n",
       "      <td>149</td>\n",
       "    </tr>\n",
       "    <tr>\n",
       "      <th>...</th>\n",
       "      <td>...</td>\n",
       "      <td>...</td>\n",
       "    </tr>\n",
       "    <tr>\n",
       "      <th>11061</th>\n",
       "      <td>6da15d4c7e1f1ef76a436840ab38743556648ff800dc45...</td>\n",
       "      <td>31</td>\n",
       "    </tr>\n",
       "    <tr>\n",
       "      <th>11062</th>\n",
       "      <td>bebb648bb2d9523e5786d13a87b02dec2548973a901326...</td>\n",
       "      <td>31</td>\n",
       "    </tr>\n",
       "    <tr>\n",
       "      <th>11063</th>\n",
       "      <td>f30e2bed1a14665fdf7fc7887a1b2c4ea701f7bdd68f3a...</td>\n",
       "      <td>31</td>\n",
       "    </tr>\n",
       "    <tr>\n",
       "      <th>11064</th>\n",
       "      <td>d19933b2457ec2f7dce6d4daabe20de332127fbe18c256...</td>\n",
       "      <td>31</td>\n",
       "    </tr>\n",
       "    <tr>\n",
       "      <th>11065</th>\n",
       "      <td>c575615f9d39a2837974bfe676832990b83d7a9f740c16...</td>\n",
       "      <td>31</td>\n",
       "    </tr>\n",
       "  </tbody>\n",
       "</table>\n",
       "<p>11066 rows × 2 columns</p>\n",
       "</div>"
      ],
      "text/plain": [
       "                                             customer_id  no_purchases\n",
       "0      ffc247b933f175b37fccbb4f71c0479d6625e703b36f63...           184\n",
       "1      be1981ab818cf4ef6765b2ecaea7a2cbf14ccd6e8a7ee9...           181\n",
       "2      0bf4c6fd4e9d33f9bfb807bb78348cbf5c565846ff4006...           167\n",
       "3      2df54f0d0653811fe06479c93905f3e6ecc6d07edf39d8...           162\n",
       "4      d190fc2dc41e27e5f79f8b1f58bfcd7a13ab22857f39ca...           149\n",
       "...                                                  ...           ...\n",
       "11061  6da15d4c7e1f1ef76a436840ab38743556648ff800dc45...            31\n",
       "11062  bebb648bb2d9523e5786d13a87b02dec2548973a901326...            31\n",
       "11063  f30e2bed1a14665fdf7fc7887a1b2c4ea701f7bdd68f3a...            31\n",
       "11064  d19933b2457ec2f7dce6d4daabe20de332127fbe18c256...            31\n",
       "11065  c575615f9d39a2837974bfe676832990b83d7a9f740c16...            31\n",
       "\n",
       "[11066 rows x 2 columns]"
      ]
     },
     "execution_count": 23,
     "metadata": {},
     "output_type": "execute_result"
    }
   ],
   "source": [
    "above30"
   ]
  },
  {
   "cell_type": "markdown",
   "id": "fe76a503",
   "metadata": {},
   "source": [
    "Now I will select the transactions of the above30 customers from the original transactions table"
   ]
  },
  {
   "cell_type": "code",
   "execution_count": 24,
   "id": "2dbbee5f",
   "metadata": {},
   "outputs": [],
   "source": [
    "filtered_df1 = transactions[transactions['customer_id'].isin(above30['customer_id']).reset_index(drop=True)]"
   ]
  },
  {
   "cell_type": "code",
   "execution_count": 25,
   "id": "a445dfd8",
   "metadata": {},
   "outputs": [
    {
     "data": {
      "text/html": [
       "<div>\n",
       "<style scoped>\n",
       "    .dataframe tbody tr th:only-of-type {\n",
       "        vertical-align: middle;\n",
       "    }\n",
       "\n",
       "    .dataframe tbody tr th {\n",
       "        vertical-align: top;\n",
       "    }\n",
       "\n",
       "    .dataframe thead th {\n",
       "        text-align: right;\n",
       "    }\n",
       "</style>\n",
       "<table border=\"1\" class=\"dataframe\">\n",
       "  <thead>\n",
       "    <tr style=\"text-align: right;\">\n",
       "      <th></th>\n",
       "      <th>t_dat</th>\n",
       "      <th>customer_id</th>\n",
       "      <th>article_id</th>\n",
       "      <th>price</th>\n",
       "      <th>sales_channel_id</th>\n",
       "      <th>article_purchase_count</th>\n",
       "    </tr>\n",
       "  </thead>\n",
       "  <tbody>\n",
       "    <tr>\n",
       "      <th>66</th>\n",
       "      <td>2018-09-20</td>\n",
       "      <td>00609a1cc562140fa87a6de432bef9c9f0b936b259ad30...</td>\n",
       "      <td>578374001</td>\n",
       "      <td>0.042356</td>\n",
       "      <td>2</td>\n",
       "      <td>1</td>\n",
       "    </tr>\n",
       "    <tr>\n",
       "      <th>67</th>\n",
       "      <td>2018-09-20</td>\n",
       "      <td>00609a1cc562140fa87a6de432bef9c9f0b936b259ad30...</td>\n",
       "      <td>611415001</td>\n",
       "      <td>0.016932</td>\n",
       "      <td>2</td>\n",
       "      <td>1</td>\n",
       "    </tr>\n",
       "    <tr>\n",
       "      <th>68</th>\n",
       "      <td>2018-09-20</td>\n",
       "      <td>00609a1cc562140fa87a6de432bef9c9f0b936b259ad30...</td>\n",
       "      <td>611415005</td>\n",
       "      <td>0.016932</td>\n",
       "      <td>2</td>\n",
       "      <td>1</td>\n",
       "    </tr>\n",
       "    <tr>\n",
       "      <th>69</th>\n",
       "      <td>2018-09-20</td>\n",
       "      <td>00609a1cc562140fa87a6de432bef9c9f0b936b259ad30...</td>\n",
       "      <td>673677002</td>\n",
       "      <td>0.016932</td>\n",
       "      <td>2</td>\n",
       "      <td>1</td>\n",
       "    </tr>\n",
       "    <tr>\n",
       "      <th>70</th>\n",
       "      <td>2018-09-20</td>\n",
       "      <td>00609a1cc562140fa87a6de432bef9c9f0b936b259ad30...</td>\n",
       "      <td>676352001</td>\n",
       "      <td>0.025407</td>\n",
       "      <td>2</td>\n",
       "      <td>1</td>\n",
       "    </tr>\n",
       "    <tr>\n",
       "      <th>...</th>\n",
       "      <td>...</td>\n",
       "      <td>...</td>\n",
       "      <td>...</td>\n",
       "      <td>...</td>\n",
       "      <td>...</td>\n",
       "      <td>...</td>\n",
       "    </tr>\n",
       "    <tr>\n",
       "      <th>28813410</th>\n",
       "      <td>2020-09-22</td>\n",
       "      <td>ffd4cf2217de4a0a3f9f610cdec334c803692a18af08ac...</td>\n",
       "      <td>856440002</td>\n",
       "      <td>0.042356</td>\n",
       "      <td>2</td>\n",
       "      <td>1</td>\n",
       "    </tr>\n",
       "    <tr>\n",
       "      <th>28813411</th>\n",
       "      <td>2020-09-22</td>\n",
       "      <td>ffd4cf2217de4a0a3f9f610cdec334c803692a18af08ac...</td>\n",
       "      <td>896169005</td>\n",
       "      <td>0.050831</td>\n",
       "      <td>2</td>\n",
       "      <td>1</td>\n",
       "    </tr>\n",
       "    <tr>\n",
       "      <th>28813412</th>\n",
       "      <td>2020-09-22</td>\n",
       "      <td>ffd4cf2217de4a0a3f9f610cdec334c803692a18af08ac...</td>\n",
       "      <td>902288001</td>\n",
       "      <td>0.022017</td>\n",
       "      <td>2</td>\n",
       "      <td>1</td>\n",
       "    </tr>\n",
       "    <tr>\n",
       "      <th>28813413</th>\n",
       "      <td>2020-09-22</td>\n",
       "      <td>ffd4cf2217de4a0a3f9f610cdec334c803692a18af08ac...</td>\n",
       "      <td>910949002</td>\n",
       "      <td>0.050831</td>\n",
       "      <td>2</td>\n",
       "      <td>1</td>\n",
       "    </tr>\n",
       "    <tr>\n",
       "      <th>28813417</th>\n",
       "      <td>2020-09-22</td>\n",
       "      <td>fff4d3a8b1f3b60af93e78c30a7cb4cf75edaf2590d3e5...</td>\n",
       "      <td>833459002</td>\n",
       "      <td>0.006763</td>\n",
       "      <td>1</td>\n",
       "      <td>1</td>\n",
       "    </tr>\n",
       "  </tbody>\n",
       "</table>\n",
       "<p>2209605 rows × 6 columns</p>\n",
       "</div>"
      ],
      "text/plain": [
       "               t_dat                                        customer_id  \\\n",
       "66        2018-09-20  00609a1cc562140fa87a6de432bef9c9f0b936b259ad30...   \n",
       "67        2018-09-20  00609a1cc562140fa87a6de432bef9c9f0b936b259ad30...   \n",
       "68        2018-09-20  00609a1cc562140fa87a6de432bef9c9f0b936b259ad30...   \n",
       "69        2018-09-20  00609a1cc562140fa87a6de432bef9c9f0b936b259ad30...   \n",
       "70        2018-09-20  00609a1cc562140fa87a6de432bef9c9f0b936b259ad30...   \n",
       "...              ...                                                ...   \n",
       "28813410  2020-09-22  ffd4cf2217de4a0a3f9f610cdec334c803692a18af08ac...   \n",
       "28813411  2020-09-22  ffd4cf2217de4a0a3f9f610cdec334c803692a18af08ac...   \n",
       "28813412  2020-09-22  ffd4cf2217de4a0a3f9f610cdec334c803692a18af08ac...   \n",
       "28813413  2020-09-22  ffd4cf2217de4a0a3f9f610cdec334c803692a18af08ac...   \n",
       "28813417  2020-09-22  fff4d3a8b1f3b60af93e78c30a7cb4cf75edaf2590d3e5...   \n",
       "\n",
       "          article_id     price  sales_channel_id  article_purchase_count  \n",
       "66         578374001  0.042356                 2                       1  \n",
       "67         611415001  0.016932                 2                       1  \n",
       "68         611415005  0.016932                 2                       1  \n",
       "69         673677002  0.016932                 2                       1  \n",
       "70         676352001  0.025407                 2                       1  \n",
       "...              ...       ...               ...                     ...  \n",
       "28813410   856440002  0.042356                 2                       1  \n",
       "28813411   896169005  0.050831                 2                       1  \n",
       "28813412   902288001  0.022017                 2                       1  \n",
       "28813413   910949002  0.050831                 2                       1  \n",
       "28813417   833459002  0.006763                 1                       1  \n",
       "\n",
       "[2209605 rows x 6 columns]"
      ]
     },
     "execution_count": 25,
     "metadata": {},
     "output_type": "execute_result"
    }
   ],
   "source": [
    "filtered_df1"
   ]
  },
  {
   "cell_type": "code",
   "execution_count": 26,
   "id": "84a2ebc4",
   "metadata": {},
   "outputs": [],
   "source": [
    "# grouping by customer_id and article id to make a column with the number of times each customer bought a certain item\n",
    "no_purchases = filtered_df1.groupby(['customer_id', 'article_id'])['article_purchase_count'].count().reset_index()"
   ]
  },
  {
   "cell_type": "markdown",
   "id": "c0e1f03a",
   "metadata": {},
   "source": [
    "### No Purchases Table, 1st table for Modeling"
   ]
  },
  {
   "cell_type": "code",
   "execution_count": 27,
   "id": "48219580",
   "metadata": {},
   "outputs": [
    {
     "data": {
      "text/html": [
       "<div>\n",
       "<style scoped>\n",
       "    .dataframe tbody tr th:only-of-type {\n",
       "        vertical-align: middle;\n",
       "    }\n",
       "\n",
       "    .dataframe tbody tr th {\n",
       "        vertical-align: top;\n",
       "    }\n",
       "\n",
       "    .dataframe thead th {\n",
       "        text-align: right;\n",
       "    }\n",
       "</style>\n",
       "<table border=\"1\" class=\"dataframe\">\n",
       "  <thead>\n",
       "    <tr style=\"text-align: right;\">\n",
       "      <th></th>\n",
       "      <th>customer_id</th>\n",
       "      <th>article_id</th>\n",
       "      <th>article_purchase_count</th>\n",
       "    </tr>\n",
       "  </thead>\n",
       "  <tbody>\n",
       "    <tr>\n",
       "      <th>0</th>\n",
       "      <td>000fb6e772c5d0023892065e659963da90b1866035558e...</td>\n",
       "      <td>108775044</td>\n",
       "      <td>2</td>\n",
       "    </tr>\n",
       "    <tr>\n",
       "      <th>1</th>\n",
       "      <td>000fb6e772c5d0023892065e659963da90b1866035558e...</td>\n",
       "      <td>111565001</td>\n",
       "      <td>1</td>\n",
       "    </tr>\n",
       "    <tr>\n",
       "      <th>2</th>\n",
       "      <td>000fb6e772c5d0023892065e659963da90b1866035558e...</td>\n",
       "      <td>111586001</td>\n",
       "      <td>1</td>\n",
       "    </tr>\n",
       "    <tr>\n",
       "      <th>3</th>\n",
       "      <td>000fb6e772c5d0023892065e659963da90b1866035558e...</td>\n",
       "      <td>111593001</td>\n",
       "      <td>1</td>\n",
       "    </tr>\n",
       "    <tr>\n",
       "      <th>4</th>\n",
       "      <td>000fb6e772c5d0023892065e659963da90b1866035558e...</td>\n",
       "      <td>158340001</td>\n",
       "      <td>3</td>\n",
       "    </tr>\n",
       "    <tr>\n",
       "      <th>...</th>\n",
       "      <td>...</td>\n",
       "      <td>...</td>\n",
       "      <td>...</td>\n",
       "    </tr>\n",
       "    <tr>\n",
       "      <th>2006346</th>\n",
       "      <td>fffb68e203e88449a1dc7173e938b1b3e91b0c93ff4e1d...</td>\n",
       "      <td>841699003</td>\n",
       "      <td>1</td>\n",
       "    </tr>\n",
       "    <tr>\n",
       "      <th>2006347</th>\n",
       "      <td>fffb68e203e88449a1dc7173e938b1b3e91b0c93ff4e1d...</td>\n",
       "      <td>842063001</td>\n",
       "      <td>1</td>\n",
       "    </tr>\n",
       "    <tr>\n",
       "      <th>2006348</th>\n",
       "      <td>fffb68e203e88449a1dc7173e938b1b3e91b0c93ff4e1d...</td>\n",
       "      <td>878508003</td>\n",
       "      <td>1</td>\n",
       "    </tr>\n",
       "    <tr>\n",
       "      <th>2006349</th>\n",
       "      <td>fffb68e203e88449a1dc7173e938b1b3e91b0c93ff4e1d...</td>\n",
       "      <td>897693002</td>\n",
       "      <td>1</td>\n",
       "    </tr>\n",
       "    <tr>\n",
       "      <th>2006350</th>\n",
       "      <td>fffb68e203e88449a1dc7173e938b1b3e91b0c93ff4e1d...</td>\n",
       "      <td>914441003</td>\n",
       "      <td>1</td>\n",
       "    </tr>\n",
       "  </tbody>\n",
       "</table>\n",
       "<p>2006351 rows × 3 columns</p>\n",
       "</div>"
      ],
      "text/plain": [
       "                                               customer_id  article_id  \\\n",
       "0        000fb6e772c5d0023892065e659963da90b1866035558e...   108775044   \n",
       "1        000fb6e772c5d0023892065e659963da90b1866035558e...   111565001   \n",
       "2        000fb6e772c5d0023892065e659963da90b1866035558e...   111586001   \n",
       "3        000fb6e772c5d0023892065e659963da90b1866035558e...   111593001   \n",
       "4        000fb6e772c5d0023892065e659963da90b1866035558e...   158340001   \n",
       "...                                                    ...         ...   \n",
       "2006346  fffb68e203e88449a1dc7173e938b1b3e91b0c93ff4e1d...   841699003   \n",
       "2006347  fffb68e203e88449a1dc7173e938b1b3e91b0c93ff4e1d...   842063001   \n",
       "2006348  fffb68e203e88449a1dc7173e938b1b3e91b0c93ff4e1d...   878508003   \n",
       "2006349  fffb68e203e88449a1dc7173e938b1b3e91b0c93ff4e1d...   897693002   \n",
       "2006350  fffb68e203e88449a1dc7173e938b1b3e91b0c93ff4e1d...   914441003   \n",
       "\n",
       "         article_purchase_count  \n",
       "0                             2  \n",
       "1                             1  \n",
       "2                             1  \n",
       "3                             1  \n",
       "4                             3  \n",
       "...                         ...  \n",
       "2006346                       1  \n",
       "2006347                       1  \n",
       "2006348                       1  \n",
       "2006349                       1  \n",
       "2006350                       1  \n",
       "\n",
       "[2006351 rows x 3 columns]"
      ]
     },
     "execution_count": 27,
     "metadata": {},
     "output_type": "execute_result"
    }
   ],
   "source": [
    "no_purchases"
   ]
  },
  {
   "cell_type": "markdown",
   "id": "e801d860",
   "metadata": {},
   "source": [
    "The no_purchases table will be my first table used for modeling."
   ]
  },
  {
   "cell_type": "markdown",
   "id": "1585a613",
   "metadata": {},
   "source": [
    "### Dummy df - 2nd table for modeling\n",
    "### Creating 2nd table showing whether a customer bought a product or not"
   ]
  },
  {
   "cell_type": "markdown",
   "id": "930f7119",
   "metadata": {},
   "source": [
    "Creating a dummy column which represents 1 for every article id bought.  "
   ]
  },
  {
   "cell_type": "code",
   "execution_count": 28,
   "id": "d9cdc637",
   "metadata": {},
   "outputs": [],
   "source": [
    "# making a copy of previous table\n",
    "dummy_df = no_purchases.copy()"
   ]
  },
  {
   "cell_type": "code",
   "execution_count": 29,
   "id": "1ae764d0",
   "metadata": {},
   "outputs": [],
   "source": [
    "# adding a column to table \n",
    "dummy_df['dummy'] = 1"
   ]
  },
  {
   "cell_type": "code",
   "execution_count": 30,
   "id": "ff81f225",
   "metadata": {
    "scrolled": true
   },
   "outputs": [
    {
     "data": {
      "text/plain": [
       "(2006351, 4)"
      ]
     },
     "execution_count": 30,
     "metadata": {},
     "output_type": "execute_result"
    }
   ],
   "source": [
    "dummy_df.shape"
   ]
  },
  {
   "cell_type": "code",
   "execution_count": 74,
   "id": "e07c4662",
   "metadata": {},
   "outputs": [],
   "source": [
    "dummy_df.to_csv('../src/Data/dummy_df.csv')"
   ]
  },
  {
   "cell_type": "markdown",
   "id": "d5da5ad1",
   "metadata": {},
   "source": [
    "### Data Normalized - 3rd table for modeling\n",
    "### Creating 3rd table which normalizes the purchase frequency of a customer per item, 0 = not purchased and 1 = the most purchased"
   ]
  },
  {
   "cell_type": "markdown",
   "id": "7938eef5",
   "metadata": {},
   "source": [
    "Creating a user-item matrix using the no_purchases table"
   ]
  },
  {
   "cell_type": "code",
   "execution_count": 31,
   "id": "245e0c98",
   "metadata": {},
   "outputs": [],
   "source": [
    "# matrix of customer id as rows and articles id as columns \n",
    "df_matrix = pd.pivot_table(no_purchases, values='article_purchase_count', index='customer_id', columns='article_id')"
   ]
  },
  {
   "cell_type": "code",
   "execution_count": 32,
   "id": "d8217c98",
   "metadata": {},
   "outputs": [
    {
     "data": {
      "text/html": [
       "<div>\n",
       "<style scoped>\n",
       "    .dataframe tbody tr th:only-of-type {\n",
       "        vertical-align: middle;\n",
       "    }\n",
       "\n",
       "    .dataframe tbody tr th {\n",
       "        vertical-align: top;\n",
       "    }\n",
       "\n",
       "    .dataframe thead th {\n",
       "        text-align: right;\n",
       "    }\n",
       "</style>\n",
       "<table border=\"1\" class=\"dataframe\">\n",
       "  <thead>\n",
       "    <tr style=\"text-align: right;\">\n",
       "      <th>article_id</th>\n",
       "      <th>108775015</th>\n",
       "      <th>108775044</th>\n",
       "      <th>108775051</th>\n",
       "      <th>110065001</th>\n",
       "      <th>110065002</th>\n",
       "      <th>110065011</th>\n",
       "      <th>111565001</th>\n",
       "      <th>111565003</th>\n",
       "      <th>111586001</th>\n",
       "      <th>111593001</th>\n",
       "      <th>...</th>\n",
       "      <th>947509001</th>\n",
       "      <th>947599001</th>\n",
       "      <th>947934001</th>\n",
       "      <th>949198001</th>\n",
       "      <th>949551001</th>\n",
       "      <th>949551002</th>\n",
       "      <th>952267001</th>\n",
       "      <th>952938001</th>\n",
       "      <th>953763001</th>\n",
       "      <th>956217002</th>\n",
       "    </tr>\n",
       "    <tr>\n",
       "      <th>customer_id</th>\n",
       "      <th></th>\n",
       "      <th></th>\n",
       "      <th></th>\n",
       "      <th></th>\n",
       "      <th></th>\n",
       "      <th></th>\n",
       "      <th></th>\n",
       "      <th></th>\n",
       "      <th></th>\n",
       "      <th></th>\n",
       "      <th></th>\n",
       "      <th></th>\n",
       "      <th></th>\n",
       "      <th></th>\n",
       "      <th></th>\n",
       "      <th></th>\n",
       "      <th></th>\n",
       "      <th></th>\n",
       "      <th></th>\n",
       "      <th></th>\n",
       "      <th></th>\n",
       "    </tr>\n",
       "  </thead>\n",
       "  <tbody>\n",
       "    <tr>\n",
       "      <th>000fb6e772c5d0023892065e659963da90b1866035558ec16fca51b0dcfb7e59</th>\n",
       "      <td>NaN</td>\n",
       "      <td>2.0</td>\n",
       "      <td>NaN</td>\n",
       "      <td>NaN</td>\n",
       "      <td>NaN</td>\n",
       "      <td>NaN</td>\n",
       "      <td>1.0</td>\n",
       "      <td>NaN</td>\n",
       "      <td>1.0</td>\n",
       "      <td>1.0</td>\n",
       "      <td>...</td>\n",
       "      <td>NaN</td>\n",
       "      <td>NaN</td>\n",
       "      <td>NaN</td>\n",
       "      <td>NaN</td>\n",
       "      <td>NaN</td>\n",
       "      <td>NaN</td>\n",
       "      <td>NaN</td>\n",
       "      <td>NaN</td>\n",
       "      <td>NaN</td>\n",
       "      <td>NaN</td>\n",
       "    </tr>\n",
       "    <tr>\n",
       "      <th>0024dea548c64fb75a563e0b300c0b16210decee446f1aa9ed6dcf2cc965d462</th>\n",
       "      <td>NaN</td>\n",
       "      <td>NaN</td>\n",
       "      <td>NaN</td>\n",
       "      <td>NaN</td>\n",
       "      <td>NaN</td>\n",
       "      <td>NaN</td>\n",
       "      <td>NaN</td>\n",
       "      <td>NaN</td>\n",
       "      <td>NaN</td>\n",
       "      <td>NaN</td>\n",
       "      <td>...</td>\n",
       "      <td>NaN</td>\n",
       "      <td>NaN</td>\n",
       "      <td>NaN</td>\n",
       "      <td>NaN</td>\n",
       "      <td>NaN</td>\n",
       "      <td>NaN</td>\n",
       "      <td>NaN</td>\n",
       "      <td>NaN</td>\n",
       "      <td>NaN</td>\n",
       "      <td>NaN</td>\n",
       "    </tr>\n",
       "    <tr>\n",
       "      <th>00357b192b81fc83261a45be87f5f3d59112db7d117513c1e908e6a7021edc35</th>\n",
       "      <td>NaN</td>\n",
       "      <td>NaN</td>\n",
       "      <td>NaN</td>\n",
       "      <td>NaN</td>\n",
       "      <td>NaN</td>\n",
       "      <td>NaN</td>\n",
       "      <td>NaN</td>\n",
       "      <td>NaN</td>\n",
       "      <td>NaN</td>\n",
       "      <td>NaN</td>\n",
       "      <td>...</td>\n",
       "      <td>NaN</td>\n",
       "      <td>NaN</td>\n",
       "      <td>NaN</td>\n",
       "      <td>NaN</td>\n",
       "      <td>NaN</td>\n",
       "      <td>NaN</td>\n",
       "      <td>NaN</td>\n",
       "      <td>NaN</td>\n",
       "      <td>NaN</td>\n",
       "      <td>NaN</td>\n",
       "    </tr>\n",
       "    <tr>\n",
       "      <th>0036a44bd648ce2dbc32688a465b9628b7a78395302f26dd57b4ed75dce9b70c</th>\n",
       "      <td>NaN</td>\n",
       "      <td>NaN</td>\n",
       "      <td>NaN</td>\n",
       "      <td>NaN</td>\n",
       "      <td>NaN</td>\n",
       "      <td>NaN</td>\n",
       "      <td>NaN</td>\n",
       "      <td>NaN</td>\n",
       "      <td>NaN</td>\n",
       "      <td>NaN</td>\n",
       "      <td>...</td>\n",
       "      <td>NaN</td>\n",
       "      <td>NaN</td>\n",
       "      <td>NaN</td>\n",
       "      <td>NaN</td>\n",
       "      <td>NaN</td>\n",
       "      <td>NaN</td>\n",
       "      <td>NaN</td>\n",
       "      <td>NaN</td>\n",
       "      <td>NaN</td>\n",
       "      <td>NaN</td>\n",
       "    </tr>\n",
       "    <tr>\n",
       "      <th>0040e2fc2d1e7931a38355aca56b2c62b87e65051b72878c813c093d7b9b87aa</th>\n",
       "      <td>NaN</td>\n",
       "      <td>NaN</td>\n",
       "      <td>NaN</td>\n",
       "      <td>NaN</td>\n",
       "      <td>NaN</td>\n",
       "      <td>NaN</td>\n",
       "      <td>NaN</td>\n",
       "      <td>NaN</td>\n",
       "      <td>4.0</td>\n",
       "      <td>1.0</td>\n",
       "      <td>...</td>\n",
       "      <td>NaN</td>\n",
       "      <td>NaN</td>\n",
       "      <td>NaN</td>\n",
       "      <td>NaN</td>\n",
       "      <td>NaN</td>\n",
       "      <td>NaN</td>\n",
       "      <td>NaN</td>\n",
       "      <td>NaN</td>\n",
       "      <td>NaN</td>\n",
       "      <td>NaN</td>\n",
       "    </tr>\n",
       "    <tr>\n",
       "      <th>...</th>\n",
       "      <td>...</td>\n",
       "      <td>...</td>\n",
       "      <td>...</td>\n",
       "      <td>...</td>\n",
       "      <td>...</td>\n",
       "      <td>...</td>\n",
       "      <td>...</td>\n",
       "      <td>...</td>\n",
       "      <td>...</td>\n",
       "      <td>...</td>\n",
       "      <td>...</td>\n",
       "      <td>...</td>\n",
       "      <td>...</td>\n",
       "      <td>...</td>\n",
       "      <td>...</td>\n",
       "      <td>...</td>\n",
       "      <td>...</td>\n",
       "      <td>...</td>\n",
       "      <td>...</td>\n",
       "      <td>...</td>\n",
       "      <td>...</td>\n",
       "    </tr>\n",
       "    <tr>\n",
       "      <th>ffddc52a24cd9e170570b48773779eec8ad05bd0cf81639e278ceff3eb7a64d5</th>\n",
       "      <td>NaN</td>\n",
       "      <td>NaN</td>\n",
       "      <td>NaN</td>\n",
       "      <td>NaN</td>\n",
       "      <td>NaN</td>\n",
       "      <td>NaN</td>\n",
       "      <td>NaN</td>\n",
       "      <td>NaN</td>\n",
       "      <td>NaN</td>\n",
       "      <td>NaN</td>\n",
       "      <td>...</td>\n",
       "      <td>NaN</td>\n",
       "      <td>NaN</td>\n",
       "      <td>NaN</td>\n",
       "      <td>NaN</td>\n",
       "      <td>NaN</td>\n",
       "      <td>NaN</td>\n",
       "      <td>NaN</td>\n",
       "      <td>NaN</td>\n",
       "      <td>NaN</td>\n",
       "      <td>NaN</td>\n",
       "    </tr>\n",
       "    <tr>\n",
       "      <th>ffe6376eb6b854d842e5a7714ea758de127f086a60d67d5cf425ef20361acea1</th>\n",
       "      <td>NaN</td>\n",
       "      <td>NaN</td>\n",
       "      <td>NaN</td>\n",
       "      <td>NaN</td>\n",
       "      <td>NaN</td>\n",
       "      <td>NaN</td>\n",
       "      <td>NaN</td>\n",
       "      <td>NaN</td>\n",
       "      <td>NaN</td>\n",
       "      <td>NaN</td>\n",
       "      <td>...</td>\n",
       "      <td>NaN</td>\n",
       "      <td>NaN</td>\n",
       "      <td>NaN</td>\n",
       "      <td>NaN</td>\n",
       "      <td>NaN</td>\n",
       "      <td>NaN</td>\n",
       "      <td>NaN</td>\n",
       "      <td>NaN</td>\n",
       "      <td>NaN</td>\n",
       "      <td>NaN</td>\n",
       "    </tr>\n",
       "    <tr>\n",
       "      <th>fff4d3a8b1f3b60af93e78c30a7cb4cf75edaf2590d3e593881ae6007d775f0f</th>\n",
       "      <td>NaN</td>\n",
       "      <td>NaN</td>\n",
       "      <td>NaN</td>\n",
       "      <td>NaN</td>\n",
       "      <td>NaN</td>\n",
       "      <td>NaN</td>\n",
       "      <td>NaN</td>\n",
       "      <td>NaN</td>\n",
       "      <td>NaN</td>\n",
       "      <td>NaN</td>\n",
       "      <td>...</td>\n",
       "      <td>NaN</td>\n",
       "      <td>NaN</td>\n",
       "      <td>NaN</td>\n",
       "      <td>NaN</td>\n",
       "      <td>NaN</td>\n",
       "      <td>NaN</td>\n",
       "      <td>NaN</td>\n",
       "      <td>NaN</td>\n",
       "      <td>NaN</td>\n",
       "      <td>NaN</td>\n",
       "    </tr>\n",
       "    <tr>\n",
       "      <th>fffae8eb3a282d8c43c77dd2ca0621703b71e90904dfde2189bdd644f59071dd</th>\n",
       "      <td>NaN</td>\n",
       "      <td>NaN</td>\n",
       "      <td>NaN</td>\n",
       "      <td>NaN</td>\n",
       "      <td>NaN</td>\n",
       "      <td>NaN</td>\n",
       "      <td>NaN</td>\n",
       "      <td>NaN</td>\n",
       "      <td>NaN</td>\n",
       "      <td>NaN</td>\n",
       "      <td>...</td>\n",
       "      <td>NaN</td>\n",
       "      <td>NaN</td>\n",
       "      <td>NaN</td>\n",
       "      <td>NaN</td>\n",
       "      <td>NaN</td>\n",
       "      <td>NaN</td>\n",
       "      <td>NaN</td>\n",
       "      <td>NaN</td>\n",
       "      <td>NaN</td>\n",
       "      <td>NaN</td>\n",
       "    </tr>\n",
       "    <tr>\n",
       "      <th>fffb68e203e88449a1dc7173e938b1b3e91b0c93ff4e1dd854c1d66b22d3d2b6</th>\n",
       "      <td>NaN</td>\n",
       "      <td>NaN</td>\n",
       "      <td>NaN</td>\n",
       "      <td>NaN</td>\n",
       "      <td>NaN</td>\n",
       "      <td>NaN</td>\n",
       "      <td>NaN</td>\n",
       "      <td>NaN</td>\n",
       "      <td>NaN</td>\n",
       "      <td>NaN</td>\n",
       "      <td>...</td>\n",
       "      <td>NaN</td>\n",
       "      <td>NaN</td>\n",
       "      <td>NaN</td>\n",
       "      <td>NaN</td>\n",
       "      <td>NaN</td>\n",
       "      <td>NaN</td>\n",
       "      <td>NaN</td>\n",
       "      <td>NaN</td>\n",
       "      <td>NaN</td>\n",
       "      <td>NaN</td>\n",
       "    </tr>\n",
       "  </tbody>\n",
       "</table>\n",
       "<p>11066 rows × 76548 columns</p>\n",
       "</div>"
      ],
      "text/plain": [
       "article_id                                          108775015  108775044  \\\n",
       "customer_id                                                                \n",
       "000fb6e772c5d0023892065e659963da90b1866035558ec...        NaN        2.0   \n",
       "0024dea548c64fb75a563e0b300c0b16210decee446f1aa...        NaN        NaN   \n",
       "00357b192b81fc83261a45be87f5f3d59112db7d117513c...        NaN        NaN   \n",
       "0036a44bd648ce2dbc32688a465b9628b7a78395302f26d...        NaN        NaN   \n",
       "0040e2fc2d1e7931a38355aca56b2c62b87e65051b72878...        NaN        NaN   \n",
       "...                                                       ...        ...   \n",
       "ffddc52a24cd9e170570b48773779eec8ad05bd0cf81639...        NaN        NaN   \n",
       "ffe6376eb6b854d842e5a7714ea758de127f086a60d67d5...        NaN        NaN   \n",
       "fff4d3a8b1f3b60af93e78c30a7cb4cf75edaf2590d3e59...        NaN        NaN   \n",
       "fffae8eb3a282d8c43c77dd2ca0621703b71e90904dfde2...        NaN        NaN   \n",
       "fffb68e203e88449a1dc7173e938b1b3e91b0c93ff4e1dd...        NaN        NaN   \n",
       "\n",
       "article_id                                          108775051  110065001  \\\n",
       "customer_id                                                                \n",
       "000fb6e772c5d0023892065e659963da90b1866035558ec...        NaN        NaN   \n",
       "0024dea548c64fb75a563e0b300c0b16210decee446f1aa...        NaN        NaN   \n",
       "00357b192b81fc83261a45be87f5f3d59112db7d117513c...        NaN        NaN   \n",
       "0036a44bd648ce2dbc32688a465b9628b7a78395302f26d...        NaN        NaN   \n",
       "0040e2fc2d1e7931a38355aca56b2c62b87e65051b72878...        NaN        NaN   \n",
       "...                                                       ...        ...   \n",
       "ffddc52a24cd9e170570b48773779eec8ad05bd0cf81639...        NaN        NaN   \n",
       "ffe6376eb6b854d842e5a7714ea758de127f086a60d67d5...        NaN        NaN   \n",
       "fff4d3a8b1f3b60af93e78c30a7cb4cf75edaf2590d3e59...        NaN        NaN   \n",
       "fffae8eb3a282d8c43c77dd2ca0621703b71e90904dfde2...        NaN        NaN   \n",
       "fffb68e203e88449a1dc7173e938b1b3e91b0c93ff4e1dd...        NaN        NaN   \n",
       "\n",
       "article_id                                          110065002  110065011  \\\n",
       "customer_id                                                                \n",
       "000fb6e772c5d0023892065e659963da90b1866035558ec...        NaN        NaN   \n",
       "0024dea548c64fb75a563e0b300c0b16210decee446f1aa...        NaN        NaN   \n",
       "00357b192b81fc83261a45be87f5f3d59112db7d117513c...        NaN        NaN   \n",
       "0036a44bd648ce2dbc32688a465b9628b7a78395302f26d...        NaN        NaN   \n",
       "0040e2fc2d1e7931a38355aca56b2c62b87e65051b72878...        NaN        NaN   \n",
       "...                                                       ...        ...   \n",
       "ffddc52a24cd9e170570b48773779eec8ad05bd0cf81639...        NaN        NaN   \n",
       "ffe6376eb6b854d842e5a7714ea758de127f086a60d67d5...        NaN        NaN   \n",
       "fff4d3a8b1f3b60af93e78c30a7cb4cf75edaf2590d3e59...        NaN        NaN   \n",
       "fffae8eb3a282d8c43c77dd2ca0621703b71e90904dfde2...        NaN        NaN   \n",
       "fffb68e203e88449a1dc7173e938b1b3e91b0c93ff4e1dd...        NaN        NaN   \n",
       "\n",
       "article_id                                          111565001  111565003  \\\n",
       "customer_id                                                                \n",
       "000fb6e772c5d0023892065e659963da90b1866035558ec...        1.0        NaN   \n",
       "0024dea548c64fb75a563e0b300c0b16210decee446f1aa...        NaN        NaN   \n",
       "00357b192b81fc83261a45be87f5f3d59112db7d117513c...        NaN        NaN   \n",
       "0036a44bd648ce2dbc32688a465b9628b7a78395302f26d...        NaN        NaN   \n",
       "0040e2fc2d1e7931a38355aca56b2c62b87e65051b72878...        NaN        NaN   \n",
       "...                                                       ...        ...   \n",
       "ffddc52a24cd9e170570b48773779eec8ad05bd0cf81639...        NaN        NaN   \n",
       "ffe6376eb6b854d842e5a7714ea758de127f086a60d67d5...        NaN        NaN   \n",
       "fff4d3a8b1f3b60af93e78c30a7cb4cf75edaf2590d3e59...        NaN        NaN   \n",
       "fffae8eb3a282d8c43c77dd2ca0621703b71e90904dfde2...        NaN        NaN   \n",
       "fffb68e203e88449a1dc7173e938b1b3e91b0c93ff4e1dd...        NaN        NaN   \n",
       "\n",
       "article_id                                          111586001  111593001  ...  \\\n",
       "customer_id                                                               ...   \n",
       "000fb6e772c5d0023892065e659963da90b1866035558ec...        1.0        1.0  ...   \n",
       "0024dea548c64fb75a563e0b300c0b16210decee446f1aa...        NaN        NaN  ...   \n",
       "00357b192b81fc83261a45be87f5f3d59112db7d117513c...        NaN        NaN  ...   \n",
       "0036a44bd648ce2dbc32688a465b9628b7a78395302f26d...        NaN        NaN  ...   \n",
       "0040e2fc2d1e7931a38355aca56b2c62b87e65051b72878...        4.0        1.0  ...   \n",
       "...                                                       ...        ...  ...   \n",
       "ffddc52a24cd9e170570b48773779eec8ad05bd0cf81639...        NaN        NaN  ...   \n",
       "ffe6376eb6b854d842e5a7714ea758de127f086a60d67d5...        NaN        NaN  ...   \n",
       "fff4d3a8b1f3b60af93e78c30a7cb4cf75edaf2590d3e59...        NaN        NaN  ...   \n",
       "fffae8eb3a282d8c43c77dd2ca0621703b71e90904dfde2...        NaN        NaN  ...   \n",
       "fffb68e203e88449a1dc7173e938b1b3e91b0c93ff4e1dd...        NaN        NaN  ...   \n",
       "\n",
       "article_id                                          947509001  947599001  \\\n",
       "customer_id                                                                \n",
       "000fb6e772c5d0023892065e659963da90b1866035558ec...        NaN        NaN   \n",
       "0024dea548c64fb75a563e0b300c0b16210decee446f1aa...        NaN        NaN   \n",
       "00357b192b81fc83261a45be87f5f3d59112db7d117513c...        NaN        NaN   \n",
       "0036a44bd648ce2dbc32688a465b9628b7a78395302f26d...        NaN        NaN   \n",
       "0040e2fc2d1e7931a38355aca56b2c62b87e65051b72878...        NaN        NaN   \n",
       "...                                                       ...        ...   \n",
       "ffddc52a24cd9e170570b48773779eec8ad05bd0cf81639...        NaN        NaN   \n",
       "ffe6376eb6b854d842e5a7714ea758de127f086a60d67d5...        NaN        NaN   \n",
       "fff4d3a8b1f3b60af93e78c30a7cb4cf75edaf2590d3e59...        NaN        NaN   \n",
       "fffae8eb3a282d8c43c77dd2ca0621703b71e90904dfde2...        NaN        NaN   \n",
       "fffb68e203e88449a1dc7173e938b1b3e91b0c93ff4e1dd...        NaN        NaN   \n",
       "\n",
       "article_id                                          947934001  949198001  \\\n",
       "customer_id                                                                \n",
       "000fb6e772c5d0023892065e659963da90b1866035558ec...        NaN        NaN   \n",
       "0024dea548c64fb75a563e0b300c0b16210decee446f1aa...        NaN        NaN   \n",
       "00357b192b81fc83261a45be87f5f3d59112db7d117513c...        NaN        NaN   \n",
       "0036a44bd648ce2dbc32688a465b9628b7a78395302f26d...        NaN        NaN   \n",
       "0040e2fc2d1e7931a38355aca56b2c62b87e65051b72878...        NaN        NaN   \n",
       "...                                                       ...        ...   \n",
       "ffddc52a24cd9e170570b48773779eec8ad05bd0cf81639...        NaN        NaN   \n",
       "ffe6376eb6b854d842e5a7714ea758de127f086a60d67d5...        NaN        NaN   \n",
       "fff4d3a8b1f3b60af93e78c30a7cb4cf75edaf2590d3e59...        NaN        NaN   \n",
       "fffae8eb3a282d8c43c77dd2ca0621703b71e90904dfde2...        NaN        NaN   \n",
       "fffb68e203e88449a1dc7173e938b1b3e91b0c93ff4e1dd...        NaN        NaN   \n",
       "\n",
       "article_id                                          949551001  949551002  \\\n",
       "customer_id                                                                \n",
       "000fb6e772c5d0023892065e659963da90b1866035558ec...        NaN        NaN   \n",
       "0024dea548c64fb75a563e0b300c0b16210decee446f1aa...        NaN        NaN   \n",
       "00357b192b81fc83261a45be87f5f3d59112db7d117513c...        NaN        NaN   \n",
       "0036a44bd648ce2dbc32688a465b9628b7a78395302f26d...        NaN        NaN   \n",
       "0040e2fc2d1e7931a38355aca56b2c62b87e65051b72878...        NaN        NaN   \n",
       "...                                                       ...        ...   \n",
       "ffddc52a24cd9e170570b48773779eec8ad05bd0cf81639...        NaN        NaN   \n",
       "ffe6376eb6b854d842e5a7714ea758de127f086a60d67d5...        NaN        NaN   \n",
       "fff4d3a8b1f3b60af93e78c30a7cb4cf75edaf2590d3e59...        NaN        NaN   \n",
       "fffae8eb3a282d8c43c77dd2ca0621703b71e90904dfde2...        NaN        NaN   \n",
       "fffb68e203e88449a1dc7173e938b1b3e91b0c93ff4e1dd...        NaN        NaN   \n",
       "\n",
       "article_id                                          952267001  952938001  \\\n",
       "customer_id                                                                \n",
       "000fb6e772c5d0023892065e659963da90b1866035558ec...        NaN        NaN   \n",
       "0024dea548c64fb75a563e0b300c0b16210decee446f1aa...        NaN        NaN   \n",
       "00357b192b81fc83261a45be87f5f3d59112db7d117513c...        NaN        NaN   \n",
       "0036a44bd648ce2dbc32688a465b9628b7a78395302f26d...        NaN        NaN   \n",
       "0040e2fc2d1e7931a38355aca56b2c62b87e65051b72878...        NaN        NaN   \n",
       "...                                                       ...        ...   \n",
       "ffddc52a24cd9e170570b48773779eec8ad05bd0cf81639...        NaN        NaN   \n",
       "ffe6376eb6b854d842e5a7714ea758de127f086a60d67d5...        NaN        NaN   \n",
       "fff4d3a8b1f3b60af93e78c30a7cb4cf75edaf2590d3e59...        NaN        NaN   \n",
       "fffae8eb3a282d8c43c77dd2ca0621703b71e90904dfde2...        NaN        NaN   \n",
       "fffb68e203e88449a1dc7173e938b1b3e91b0c93ff4e1dd...        NaN        NaN   \n",
       "\n",
       "article_id                                          953763001  956217002  \n",
       "customer_id                                                               \n",
       "000fb6e772c5d0023892065e659963da90b1866035558ec...        NaN        NaN  \n",
       "0024dea548c64fb75a563e0b300c0b16210decee446f1aa...        NaN        NaN  \n",
       "00357b192b81fc83261a45be87f5f3d59112db7d117513c...        NaN        NaN  \n",
       "0036a44bd648ce2dbc32688a465b9628b7a78395302f26d...        NaN        NaN  \n",
       "0040e2fc2d1e7931a38355aca56b2c62b87e65051b72878...        NaN        NaN  \n",
       "...                                                       ...        ...  \n",
       "ffddc52a24cd9e170570b48773779eec8ad05bd0cf81639...        NaN        NaN  \n",
       "ffe6376eb6b854d842e5a7714ea758de127f086a60d67d5...        NaN        NaN  \n",
       "fff4d3a8b1f3b60af93e78c30a7cb4cf75edaf2590d3e59...        NaN        NaN  \n",
       "fffae8eb3a282d8c43c77dd2ca0621703b71e90904dfde2...        NaN        NaN  \n",
       "fffb68e203e88449a1dc7173e938b1b3e91b0c93ff4e1dd...        NaN        NaN  \n",
       "\n",
       "[11066 rows x 76548 columns]"
      ]
     },
     "execution_count": 32,
     "metadata": {},
     "output_type": "execute_result"
    }
   ],
   "source": [
    "df_matrix"
   ]
  },
  {
   "cell_type": "markdown",
   "id": "85da6c0c",
   "metadata": {},
   "source": [
    "Scaling the values"
   ]
  },
  {
   "cell_type": "code",
   "execution_count": 33,
   "id": "28a01448",
   "metadata": {},
   "outputs": [],
   "source": [
    "# subtracting each cell value with the minimum count and then dividing by difference in max and minimum purchase count \n",
    "df_matrix_norm = (df_matrix-df_matrix.min())/(df_matrix.max()-df_matrix.min())"
   ]
  },
  {
   "cell_type": "code",
   "execution_count": 34,
   "id": "199f30df",
   "metadata": {},
   "outputs": [
    {
     "data": {
      "text/html": [
       "<div>\n",
       "<style scoped>\n",
       "    .dataframe tbody tr th:only-of-type {\n",
       "        vertical-align: middle;\n",
       "    }\n",
       "\n",
       "    .dataframe tbody tr th {\n",
       "        vertical-align: top;\n",
       "    }\n",
       "\n",
       "    .dataframe thead th {\n",
       "        text-align: right;\n",
       "    }\n",
       "</style>\n",
       "<table border=\"1\" class=\"dataframe\">\n",
       "  <thead>\n",
       "    <tr style=\"text-align: right;\">\n",
       "      <th>article_id</th>\n",
       "      <th>108775015</th>\n",
       "      <th>108775044</th>\n",
       "      <th>108775051</th>\n",
       "      <th>110065001</th>\n",
       "      <th>110065002</th>\n",
       "      <th>110065011</th>\n",
       "      <th>111565001</th>\n",
       "      <th>111565003</th>\n",
       "      <th>111586001</th>\n",
       "      <th>111593001</th>\n",
       "      <th>...</th>\n",
       "      <th>947509001</th>\n",
       "      <th>947599001</th>\n",
       "      <th>947934001</th>\n",
       "      <th>949198001</th>\n",
       "      <th>949551001</th>\n",
       "      <th>949551002</th>\n",
       "      <th>952267001</th>\n",
       "      <th>952938001</th>\n",
       "      <th>953763001</th>\n",
       "      <th>956217002</th>\n",
       "    </tr>\n",
       "    <tr>\n",
       "      <th>customer_id</th>\n",
       "      <th></th>\n",
       "      <th></th>\n",
       "      <th></th>\n",
       "      <th></th>\n",
       "      <th></th>\n",
       "      <th></th>\n",
       "      <th></th>\n",
       "      <th></th>\n",
       "      <th></th>\n",
       "      <th></th>\n",
       "      <th></th>\n",
       "      <th></th>\n",
       "      <th></th>\n",
       "      <th></th>\n",
       "      <th></th>\n",
       "      <th></th>\n",
       "      <th></th>\n",
       "      <th></th>\n",
       "      <th></th>\n",
       "      <th></th>\n",
       "      <th></th>\n",
       "    </tr>\n",
       "  </thead>\n",
       "  <tbody>\n",
       "    <tr>\n",
       "      <th>000fb6e772c5d0023892065e659963da90b1866035558ec16fca51b0dcfb7e59</th>\n",
       "      <td>NaN</td>\n",
       "      <td>0.333333</td>\n",
       "      <td>NaN</td>\n",
       "      <td>NaN</td>\n",
       "      <td>NaN</td>\n",
       "      <td>NaN</td>\n",
       "      <td>0.0</td>\n",
       "      <td>NaN</td>\n",
       "      <td>0.0</td>\n",
       "      <td>0.0</td>\n",
       "      <td>...</td>\n",
       "      <td>NaN</td>\n",
       "      <td>NaN</td>\n",
       "      <td>NaN</td>\n",
       "      <td>NaN</td>\n",
       "      <td>NaN</td>\n",
       "      <td>NaN</td>\n",
       "      <td>NaN</td>\n",
       "      <td>NaN</td>\n",
       "      <td>NaN</td>\n",
       "      <td>NaN</td>\n",
       "    </tr>\n",
       "    <tr>\n",
       "      <th>0024dea548c64fb75a563e0b300c0b16210decee446f1aa9ed6dcf2cc965d462</th>\n",
       "      <td>NaN</td>\n",
       "      <td>NaN</td>\n",
       "      <td>NaN</td>\n",
       "      <td>NaN</td>\n",
       "      <td>NaN</td>\n",
       "      <td>NaN</td>\n",
       "      <td>NaN</td>\n",
       "      <td>NaN</td>\n",
       "      <td>NaN</td>\n",
       "      <td>NaN</td>\n",
       "      <td>...</td>\n",
       "      <td>NaN</td>\n",
       "      <td>NaN</td>\n",
       "      <td>NaN</td>\n",
       "      <td>NaN</td>\n",
       "      <td>NaN</td>\n",
       "      <td>NaN</td>\n",
       "      <td>NaN</td>\n",
       "      <td>NaN</td>\n",
       "      <td>NaN</td>\n",
       "      <td>NaN</td>\n",
       "    </tr>\n",
       "    <tr>\n",
       "      <th>00357b192b81fc83261a45be87f5f3d59112db7d117513c1e908e6a7021edc35</th>\n",
       "      <td>NaN</td>\n",
       "      <td>NaN</td>\n",
       "      <td>NaN</td>\n",
       "      <td>NaN</td>\n",
       "      <td>NaN</td>\n",
       "      <td>NaN</td>\n",
       "      <td>NaN</td>\n",
       "      <td>NaN</td>\n",
       "      <td>NaN</td>\n",
       "      <td>NaN</td>\n",
       "      <td>...</td>\n",
       "      <td>NaN</td>\n",
       "      <td>NaN</td>\n",
       "      <td>NaN</td>\n",
       "      <td>NaN</td>\n",
       "      <td>NaN</td>\n",
       "      <td>NaN</td>\n",
       "      <td>NaN</td>\n",
       "      <td>NaN</td>\n",
       "      <td>NaN</td>\n",
       "      <td>NaN</td>\n",
       "    </tr>\n",
       "    <tr>\n",
       "      <th>0036a44bd648ce2dbc32688a465b9628b7a78395302f26dd57b4ed75dce9b70c</th>\n",
       "      <td>NaN</td>\n",
       "      <td>NaN</td>\n",
       "      <td>NaN</td>\n",
       "      <td>NaN</td>\n",
       "      <td>NaN</td>\n",
       "      <td>NaN</td>\n",
       "      <td>NaN</td>\n",
       "      <td>NaN</td>\n",
       "      <td>NaN</td>\n",
       "      <td>NaN</td>\n",
       "      <td>...</td>\n",
       "      <td>NaN</td>\n",
       "      <td>NaN</td>\n",
       "      <td>NaN</td>\n",
       "      <td>NaN</td>\n",
       "      <td>NaN</td>\n",
       "      <td>NaN</td>\n",
       "      <td>NaN</td>\n",
       "      <td>NaN</td>\n",
       "      <td>NaN</td>\n",
       "      <td>NaN</td>\n",
       "    </tr>\n",
       "    <tr>\n",
       "      <th>0040e2fc2d1e7931a38355aca56b2c62b87e65051b72878c813c093d7b9b87aa</th>\n",
       "      <td>NaN</td>\n",
       "      <td>NaN</td>\n",
       "      <td>NaN</td>\n",
       "      <td>NaN</td>\n",
       "      <td>NaN</td>\n",
       "      <td>NaN</td>\n",
       "      <td>NaN</td>\n",
       "      <td>NaN</td>\n",
       "      <td>0.3</td>\n",
       "      <td>0.0</td>\n",
       "      <td>...</td>\n",
       "      <td>NaN</td>\n",
       "      <td>NaN</td>\n",
       "      <td>NaN</td>\n",
       "      <td>NaN</td>\n",
       "      <td>NaN</td>\n",
       "      <td>NaN</td>\n",
       "      <td>NaN</td>\n",
       "      <td>NaN</td>\n",
       "      <td>NaN</td>\n",
       "      <td>NaN</td>\n",
       "    </tr>\n",
       "    <tr>\n",
       "      <th>...</th>\n",
       "      <td>...</td>\n",
       "      <td>...</td>\n",
       "      <td>...</td>\n",
       "      <td>...</td>\n",
       "      <td>...</td>\n",
       "      <td>...</td>\n",
       "      <td>...</td>\n",
       "      <td>...</td>\n",
       "      <td>...</td>\n",
       "      <td>...</td>\n",
       "      <td>...</td>\n",
       "      <td>...</td>\n",
       "      <td>...</td>\n",
       "      <td>...</td>\n",
       "      <td>...</td>\n",
       "      <td>...</td>\n",
       "      <td>...</td>\n",
       "      <td>...</td>\n",
       "      <td>...</td>\n",
       "      <td>...</td>\n",
       "      <td>...</td>\n",
       "    </tr>\n",
       "    <tr>\n",
       "      <th>ffddc52a24cd9e170570b48773779eec8ad05bd0cf81639e278ceff3eb7a64d5</th>\n",
       "      <td>NaN</td>\n",
       "      <td>NaN</td>\n",
       "      <td>NaN</td>\n",
       "      <td>NaN</td>\n",
       "      <td>NaN</td>\n",
       "      <td>NaN</td>\n",
       "      <td>NaN</td>\n",
       "      <td>NaN</td>\n",
       "      <td>NaN</td>\n",
       "      <td>NaN</td>\n",
       "      <td>...</td>\n",
       "      <td>NaN</td>\n",
       "      <td>NaN</td>\n",
       "      <td>NaN</td>\n",
       "      <td>NaN</td>\n",
       "      <td>NaN</td>\n",
       "      <td>NaN</td>\n",
       "      <td>NaN</td>\n",
       "      <td>NaN</td>\n",
       "      <td>NaN</td>\n",
       "      <td>NaN</td>\n",
       "    </tr>\n",
       "    <tr>\n",
       "      <th>ffe6376eb6b854d842e5a7714ea758de127f086a60d67d5cf425ef20361acea1</th>\n",
       "      <td>NaN</td>\n",
       "      <td>NaN</td>\n",
       "      <td>NaN</td>\n",
       "      <td>NaN</td>\n",
       "      <td>NaN</td>\n",
       "      <td>NaN</td>\n",
       "      <td>NaN</td>\n",
       "      <td>NaN</td>\n",
       "      <td>NaN</td>\n",
       "      <td>NaN</td>\n",
       "      <td>...</td>\n",
       "      <td>NaN</td>\n",
       "      <td>NaN</td>\n",
       "      <td>NaN</td>\n",
       "      <td>NaN</td>\n",
       "      <td>NaN</td>\n",
       "      <td>NaN</td>\n",
       "      <td>NaN</td>\n",
       "      <td>NaN</td>\n",
       "      <td>NaN</td>\n",
       "      <td>NaN</td>\n",
       "    </tr>\n",
       "    <tr>\n",
       "      <th>fff4d3a8b1f3b60af93e78c30a7cb4cf75edaf2590d3e593881ae6007d775f0f</th>\n",
       "      <td>NaN</td>\n",
       "      <td>NaN</td>\n",
       "      <td>NaN</td>\n",
       "      <td>NaN</td>\n",
       "      <td>NaN</td>\n",
       "      <td>NaN</td>\n",
       "      <td>NaN</td>\n",
       "      <td>NaN</td>\n",
       "      <td>NaN</td>\n",
       "      <td>NaN</td>\n",
       "      <td>...</td>\n",
       "      <td>NaN</td>\n",
       "      <td>NaN</td>\n",
       "      <td>NaN</td>\n",
       "      <td>NaN</td>\n",
       "      <td>NaN</td>\n",
       "      <td>NaN</td>\n",
       "      <td>NaN</td>\n",
       "      <td>NaN</td>\n",
       "      <td>NaN</td>\n",
       "      <td>NaN</td>\n",
       "    </tr>\n",
       "    <tr>\n",
       "      <th>fffae8eb3a282d8c43c77dd2ca0621703b71e90904dfde2189bdd644f59071dd</th>\n",
       "      <td>NaN</td>\n",
       "      <td>NaN</td>\n",
       "      <td>NaN</td>\n",
       "      <td>NaN</td>\n",
       "      <td>NaN</td>\n",
       "      <td>NaN</td>\n",
       "      <td>NaN</td>\n",
       "      <td>NaN</td>\n",
       "      <td>NaN</td>\n",
       "      <td>NaN</td>\n",
       "      <td>...</td>\n",
       "      <td>NaN</td>\n",
       "      <td>NaN</td>\n",
       "      <td>NaN</td>\n",
       "      <td>NaN</td>\n",
       "      <td>NaN</td>\n",
       "      <td>NaN</td>\n",
       "      <td>NaN</td>\n",
       "      <td>NaN</td>\n",
       "      <td>NaN</td>\n",
       "      <td>NaN</td>\n",
       "    </tr>\n",
       "    <tr>\n",
       "      <th>fffb68e203e88449a1dc7173e938b1b3e91b0c93ff4e1dd854c1d66b22d3d2b6</th>\n",
       "      <td>NaN</td>\n",
       "      <td>NaN</td>\n",
       "      <td>NaN</td>\n",
       "      <td>NaN</td>\n",
       "      <td>NaN</td>\n",
       "      <td>NaN</td>\n",
       "      <td>NaN</td>\n",
       "      <td>NaN</td>\n",
       "      <td>NaN</td>\n",
       "      <td>NaN</td>\n",
       "      <td>...</td>\n",
       "      <td>NaN</td>\n",
       "      <td>NaN</td>\n",
       "      <td>NaN</td>\n",
       "      <td>NaN</td>\n",
       "      <td>NaN</td>\n",
       "      <td>NaN</td>\n",
       "      <td>NaN</td>\n",
       "      <td>NaN</td>\n",
       "      <td>NaN</td>\n",
       "      <td>NaN</td>\n",
       "    </tr>\n",
       "  </tbody>\n",
       "</table>\n",
       "<p>11066 rows × 76548 columns</p>\n",
       "</div>"
      ],
      "text/plain": [
       "article_id                                          108775015  108775044  \\\n",
       "customer_id                                                                \n",
       "000fb6e772c5d0023892065e659963da90b1866035558ec...        NaN   0.333333   \n",
       "0024dea548c64fb75a563e0b300c0b16210decee446f1aa...        NaN        NaN   \n",
       "00357b192b81fc83261a45be87f5f3d59112db7d117513c...        NaN        NaN   \n",
       "0036a44bd648ce2dbc32688a465b9628b7a78395302f26d...        NaN        NaN   \n",
       "0040e2fc2d1e7931a38355aca56b2c62b87e65051b72878...        NaN        NaN   \n",
       "...                                                       ...        ...   \n",
       "ffddc52a24cd9e170570b48773779eec8ad05bd0cf81639...        NaN        NaN   \n",
       "ffe6376eb6b854d842e5a7714ea758de127f086a60d67d5...        NaN        NaN   \n",
       "fff4d3a8b1f3b60af93e78c30a7cb4cf75edaf2590d3e59...        NaN        NaN   \n",
       "fffae8eb3a282d8c43c77dd2ca0621703b71e90904dfde2...        NaN        NaN   \n",
       "fffb68e203e88449a1dc7173e938b1b3e91b0c93ff4e1dd...        NaN        NaN   \n",
       "\n",
       "article_id                                          108775051  110065001  \\\n",
       "customer_id                                                                \n",
       "000fb6e772c5d0023892065e659963da90b1866035558ec...        NaN        NaN   \n",
       "0024dea548c64fb75a563e0b300c0b16210decee446f1aa...        NaN        NaN   \n",
       "00357b192b81fc83261a45be87f5f3d59112db7d117513c...        NaN        NaN   \n",
       "0036a44bd648ce2dbc32688a465b9628b7a78395302f26d...        NaN        NaN   \n",
       "0040e2fc2d1e7931a38355aca56b2c62b87e65051b72878...        NaN        NaN   \n",
       "...                                                       ...        ...   \n",
       "ffddc52a24cd9e170570b48773779eec8ad05bd0cf81639...        NaN        NaN   \n",
       "ffe6376eb6b854d842e5a7714ea758de127f086a60d67d5...        NaN        NaN   \n",
       "fff4d3a8b1f3b60af93e78c30a7cb4cf75edaf2590d3e59...        NaN        NaN   \n",
       "fffae8eb3a282d8c43c77dd2ca0621703b71e90904dfde2...        NaN        NaN   \n",
       "fffb68e203e88449a1dc7173e938b1b3e91b0c93ff4e1dd...        NaN        NaN   \n",
       "\n",
       "article_id                                          110065002  110065011  \\\n",
       "customer_id                                                                \n",
       "000fb6e772c5d0023892065e659963da90b1866035558ec...        NaN        NaN   \n",
       "0024dea548c64fb75a563e0b300c0b16210decee446f1aa...        NaN        NaN   \n",
       "00357b192b81fc83261a45be87f5f3d59112db7d117513c...        NaN        NaN   \n",
       "0036a44bd648ce2dbc32688a465b9628b7a78395302f26d...        NaN        NaN   \n",
       "0040e2fc2d1e7931a38355aca56b2c62b87e65051b72878...        NaN        NaN   \n",
       "...                                                       ...        ...   \n",
       "ffddc52a24cd9e170570b48773779eec8ad05bd0cf81639...        NaN        NaN   \n",
       "ffe6376eb6b854d842e5a7714ea758de127f086a60d67d5...        NaN        NaN   \n",
       "fff4d3a8b1f3b60af93e78c30a7cb4cf75edaf2590d3e59...        NaN        NaN   \n",
       "fffae8eb3a282d8c43c77dd2ca0621703b71e90904dfde2...        NaN        NaN   \n",
       "fffb68e203e88449a1dc7173e938b1b3e91b0c93ff4e1dd...        NaN        NaN   \n",
       "\n",
       "article_id                                          111565001  111565003  \\\n",
       "customer_id                                                                \n",
       "000fb6e772c5d0023892065e659963da90b1866035558ec...        0.0        NaN   \n",
       "0024dea548c64fb75a563e0b300c0b16210decee446f1aa...        NaN        NaN   \n",
       "00357b192b81fc83261a45be87f5f3d59112db7d117513c...        NaN        NaN   \n",
       "0036a44bd648ce2dbc32688a465b9628b7a78395302f26d...        NaN        NaN   \n",
       "0040e2fc2d1e7931a38355aca56b2c62b87e65051b72878...        NaN        NaN   \n",
       "...                                                       ...        ...   \n",
       "ffddc52a24cd9e170570b48773779eec8ad05bd0cf81639...        NaN        NaN   \n",
       "ffe6376eb6b854d842e5a7714ea758de127f086a60d67d5...        NaN        NaN   \n",
       "fff4d3a8b1f3b60af93e78c30a7cb4cf75edaf2590d3e59...        NaN        NaN   \n",
       "fffae8eb3a282d8c43c77dd2ca0621703b71e90904dfde2...        NaN        NaN   \n",
       "fffb68e203e88449a1dc7173e938b1b3e91b0c93ff4e1dd...        NaN        NaN   \n",
       "\n",
       "article_id                                          111586001  111593001  ...  \\\n",
       "customer_id                                                               ...   \n",
       "000fb6e772c5d0023892065e659963da90b1866035558ec...        0.0        0.0  ...   \n",
       "0024dea548c64fb75a563e0b300c0b16210decee446f1aa...        NaN        NaN  ...   \n",
       "00357b192b81fc83261a45be87f5f3d59112db7d117513c...        NaN        NaN  ...   \n",
       "0036a44bd648ce2dbc32688a465b9628b7a78395302f26d...        NaN        NaN  ...   \n",
       "0040e2fc2d1e7931a38355aca56b2c62b87e65051b72878...        0.3        0.0  ...   \n",
       "...                                                       ...        ...  ...   \n",
       "ffddc52a24cd9e170570b48773779eec8ad05bd0cf81639...        NaN        NaN  ...   \n",
       "ffe6376eb6b854d842e5a7714ea758de127f086a60d67d5...        NaN        NaN  ...   \n",
       "fff4d3a8b1f3b60af93e78c30a7cb4cf75edaf2590d3e59...        NaN        NaN  ...   \n",
       "fffae8eb3a282d8c43c77dd2ca0621703b71e90904dfde2...        NaN        NaN  ...   \n",
       "fffb68e203e88449a1dc7173e938b1b3e91b0c93ff4e1dd...        NaN        NaN  ...   \n",
       "\n",
       "article_id                                          947509001  947599001  \\\n",
       "customer_id                                                                \n",
       "000fb6e772c5d0023892065e659963da90b1866035558ec...        NaN        NaN   \n",
       "0024dea548c64fb75a563e0b300c0b16210decee446f1aa...        NaN        NaN   \n",
       "00357b192b81fc83261a45be87f5f3d59112db7d117513c...        NaN        NaN   \n",
       "0036a44bd648ce2dbc32688a465b9628b7a78395302f26d...        NaN        NaN   \n",
       "0040e2fc2d1e7931a38355aca56b2c62b87e65051b72878...        NaN        NaN   \n",
       "...                                                       ...        ...   \n",
       "ffddc52a24cd9e170570b48773779eec8ad05bd0cf81639...        NaN        NaN   \n",
       "ffe6376eb6b854d842e5a7714ea758de127f086a60d67d5...        NaN        NaN   \n",
       "fff4d3a8b1f3b60af93e78c30a7cb4cf75edaf2590d3e59...        NaN        NaN   \n",
       "fffae8eb3a282d8c43c77dd2ca0621703b71e90904dfde2...        NaN        NaN   \n",
       "fffb68e203e88449a1dc7173e938b1b3e91b0c93ff4e1dd...        NaN        NaN   \n",
       "\n",
       "article_id                                          947934001  949198001  \\\n",
       "customer_id                                                                \n",
       "000fb6e772c5d0023892065e659963da90b1866035558ec...        NaN        NaN   \n",
       "0024dea548c64fb75a563e0b300c0b16210decee446f1aa...        NaN        NaN   \n",
       "00357b192b81fc83261a45be87f5f3d59112db7d117513c...        NaN        NaN   \n",
       "0036a44bd648ce2dbc32688a465b9628b7a78395302f26d...        NaN        NaN   \n",
       "0040e2fc2d1e7931a38355aca56b2c62b87e65051b72878...        NaN        NaN   \n",
       "...                                                       ...        ...   \n",
       "ffddc52a24cd9e170570b48773779eec8ad05bd0cf81639...        NaN        NaN   \n",
       "ffe6376eb6b854d842e5a7714ea758de127f086a60d67d5...        NaN        NaN   \n",
       "fff4d3a8b1f3b60af93e78c30a7cb4cf75edaf2590d3e59...        NaN        NaN   \n",
       "fffae8eb3a282d8c43c77dd2ca0621703b71e90904dfde2...        NaN        NaN   \n",
       "fffb68e203e88449a1dc7173e938b1b3e91b0c93ff4e1dd...        NaN        NaN   \n",
       "\n",
       "article_id                                          949551001  949551002  \\\n",
       "customer_id                                                                \n",
       "000fb6e772c5d0023892065e659963da90b1866035558ec...        NaN        NaN   \n",
       "0024dea548c64fb75a563e0b300c0b16210decee446f1aa...        NaN        NaN   \n",
       "00357b192b81fc83261a45be87f5f3d59112db7d117513c...        NaN        NaN   \n",
       "0036a44bd648ce2dbc32688a465b9628b7a78395302f26d...        NaN        NaN   \n",
       "0040e2fc2d1e7931a38355aca56b2c62b87e65051b72878...        NaN        NaN   \n",
       "...                                                       ...        ...   \n",
       "ffddc52a24cd9e170570b48773779eec8ad05bd0cf81639...        NaN        NaN   \n",
       "ffe6376eb6b854d842e5a7714ea758de127f086a60d67d5...        NaN        NaN   \n",
       "fff4d3a8b1f3b60af93e78c30a7cb4cf75edaf2590d3e59...        NaN        NaN   \n",
       "fffae8eb3a282d8c43c77dd2ca0621703b71e90904dfde2...        NaN        NaN   \n",
       "fffb68e203e88449a1dc7173e938b1b3e91b0c93ff4e1dd...        NaN        NaN   \n",
       "\n",
       "article_id                                          952267001  952938001  \\\n",
       "customer_id                                                                \n",
       "000fb6e772c5d0023892065e659963da90b1866035558ec...        NaN        NaN   \n",
       "0024dea548c64fb75a563e0b300c0b16210decee446f1aa...        NaN        NaN   \n",
       "00357b192b81fc83261a45be87f5f3d59112db7d117513c...        NaN        NaN   \n",
       "0036a44bd648ce2dbc32688a465b9628b7a78395302f26d...        NaN        NaN   \n",
       "0040e2fc2d1e7931a38355aca56b2c62b87e65051b72878...        NaN        NaN   \n",
       "...                                                       ...        ...   \n",
       "ffddc52a24cd9e170570b48773779eec8ad05bd0cf81639...        NaN        NaN   \n",
       "ffe6376eb6b854d842e5a7714ea758de127f086a60d67d5...        NaN        NaN   \n",
       "fff4d3a8b1f3b60af93e78c30a7cb4cf75edaf2590d3e59...        NaN        NaN   \n",
       "fffae8eb3a282d8c43c77dd2ca0621703b71e90904dfde2...        NaN        NaN   \n",
       "fffb68e203e88449a1dc7173e938b1b3e91b0c93ff4e1dd...        NaN        NaN   \n",
       "\n",
       "article_id                                          953763001  956217002  \n",
       "customer_id                                                               \n",
       "000fb6e772c5d0023892065e659963da90b1866035558ec...        NaN        NaN  \n",
       "0024dea548c64fb75a563e0b300c0b16210decee446f1aa...        NaN        NaN  \n",
       "00357b192b81fc83261a45be87f5f3d59112db7d117513c...        NaN        NaN  \n",
       "0036a44bd648ce2dbc32688a465b9628b7a78395302f26d...        NaN        NaN  \n",
       "0040e2fc2d1e7931a38355aca56b2c62b87e65051b72878...        NaN        NaN  \n",
       "...                                                       ...        ...  \n",
       "ffddc52a24cd9e170570b48773779eec8ad05bd0cf81639...        NaN        NaN  \n",
       "ffe6376eb6b854d842e5a7714ea758de127f086a60d67d5...        NaN        NaN  \n",
       "fff4d3a8b1f3b60af93e78c30a7cb4cf75edaf2590d3e59...        NaN        NaN  \n",
       "fffae8eb3a282d8c43c77dd2ca0621703b71e90904dfde2...        NaN        NaN  \n",
       "fffb68e203e88449a1dc7173e938b1b3e91b0c93ff4e1dd...        NaN        NaN  \n",
       "\n",
       "[11066 rows x 76548 columns]"
      ]
     },
     "execution_count": 34,
     "metadata": {},
     "output_type": "execute_result"
    }
   ],
   "source": [
    "df_matrix_norm"
   ]
  },
  {
   "cell_type": "code",
   "execution_count": 35,
   "id": "c2c06316",
   "metadata": {},
   "outputs": [
    {
     "name": "stdout",
     "output_type": "stream",
     "text": [
      "(1758923, 3)\n"
     ]
    },
    {
     "data": {
      "text/html": [
       "<div>\n",
       "<style scoped>\n",
       "    .dataframe tbody tr th:only-of-type {\n",
       "        vertical-align: middle;\n",
       "    }\n",
       "\n",
       "    .dataframe tbody tr th {\n",
       "        vertical-align: top;\n",
       "    }\n",
       "\n",
       "    .dataframe thead th {\n",
       "        text-align: right;\n",
       "    }\n",
       "</style>\n",
       "<table border=\"1\" class=\"dataframe\">\n",
       "  <thead>\n",
       "    <tr style=\"text-align: right;\">\n",
       "      <th></th>\n",
       "      <th>customer_id</th>\n",
       "      <th>article_id</th>\n",
       "      <th>scaled_purchase_freq</th>\n",
       "    </tr>\n",
       "  </thead>\n",
       "  <tbody>\n",
       "    <tr>\n",
       "      <th>18</th>\n",
       "      <td>00b19d74d6d60c157a9e08e8d83d9b38b1142a32676543...</td>\n",
       "      <td>108775015</td>\n",
       "      <td>0.0</td>\n",
       "    </tr>\n",
       "    <tr>\n",
       "      <th>29</th>\n",
       "      <td>00e59bc10e162c83758a8ece0d6536d96fe2c7afdae9d5...</td>\n",
       "      <td>108775015</td>\n",
       "      <td>0.0</td>\n",
       "    </tr>\n",
       "    <tr>\n",
       "      <th>31</th>\n",
       "      <td>00ef0d28ba9c5077e4758b08bc04210c4fecdfc154c084...</td>\n",
       "      <td>108775015</td>\n",
       "      <td>0.0</td>\n",
       "    </tr>\n",
       "    <tr>\n",
       "      <th>39</th>\n",
       "      <td>010109a899c4706836f7a96ec878ceb7ea9b0c24693205...</td>\n",
       "      <td>108775015</td>\n",
       "      <td>0.0</td>\n",
       "    </tr>\n",
       "    <tr>\n",
       "      <th>44</th>\n",
       "      <td>01111989ee5b96b0f0a47c6fed861fbe19f6d63d3cdb48...</td>\n",
       "      <td>108775015</td>\n",
       "      <td>0.0</td>\n",
       "    </tr>\n",
       "  </tbody>\n",
       "</table>\n",
       "</div>"
      ],
      "text/plain": [
       "                                          customer_id article_id  \\\n",
       "18  00b19d74d6d60c157a9e08e8d83d9b38b1142a32676543...  108775015   \n",
       "29  00e59bc10e162c83758a8ece0d6536d96fe2c7afdae9d5...  108775015   \n",
       "31  00ef0d28ba9c5077e4758b08bc04210c4fecdfc154c084...  108775015   \n",
       "39  010109a899c4706836f7a96ec878ceb7ea9b0c24693205...  108775015   \n",
       "44  01111989ee5b96b0f0a47c6fed861fbe19f6d63d3cdb48...  108775015   \n",
       "\n",
       "    scaled_purchase_freq  \n",
       "18                   0.0  \n",
       "29                   0.0  \n",
       "31                   0.0  \n",
       "39                   0.0  \n",
       "44                   0.0  "
      ]
     },
     "execution_count": 35,
     "metadata": {},
     "output_type": "execute_result"
    }
   ],
   "source": [
    "# putting this back into a table to get rid of so many nan values  \n",
    "df = df_matrix_norm.reset_index() \n",
    "df.index.names = ['scaled_purchase_freq'] #creating scaled column\n",
    "# using melt to unpivot table \n",
    "#id_vars = identifier variable, to specify unique values in rows \n",
    "data_normalized = pd.melt(df, id_vars=['customer_id'], value_name='scaled_purchase_freq').dropna()\n",
    "print(data_normalized.shape)\n",
    "data_normalized.head()"
   ]
  },
  {
   "cell_type": "code",
   "execution_count": 36,
   "id": "671b24ee",
   "metadata": {
    "scrolled": true
   },
   "outputs": [
    {
     "name": "stdout",
     "output_type": "stream",
     "text": [
      "<class 'pandas.core.frame.DataFrame'>\n",
      "Int64Index: 1758923 entries, 18 to 847024420\n",
      "Data columns (total 3 columns):\n",
      " #   Column                Dtype  \n",
      "---  ------                -----  \n",
      " 0   customer_id           object \n",
      " 1   article_id            object \n",
      " 2   scaled_purchase_freq  float64\n",
      "dtypes: float64(1), object(2)\n",
      "memory usage: 53.7+ MB\n"
     ]
    }
   ],
   "source": [
    "data_normalized.info()"
   ]
  },
  {
   "cell_type": "code",
   "execution_count": 37,
   "id": "4ec55b89",
   "metadata": {},
   "outputs": [
    {
     "data": {
      "text/plain": [
       "117"
      ]
     },
     "execution_count": 37,
     "metadata": {},
     "output_type": "execute_result"
    }
   ],
   "source": [
    "data_normalized['scaled_purchase_freq'].nunique()"
   ]
  },
  {
   "cell_type": "markdown",
   "id": "64efe163",
   "metadata": {},
   "source": [
    "### Splitting train and test data "
   ]
  },
  {
   "cell_type": "markdown",
   "id": "749b10eb",
   "metadata": {},
   "source": [
    "Splitting each table into train and test. This will prevent data leakage when testing the accuracy of the models later on"
   ]
  },
  {
   "cell_type": "code",
   "execution_count": 38,
   "id": "7a18b728",
   "metadata": {},
   "outputs": [],
   "source": [
    "df1 = no_purchases\n",
    "df2 = dummy_df\n",
    "df3 = data_normalized"
   ]
  },
  {
   "cell_type": "code",
   "execution_count": 39,
   "id": "79d6008a",
   "metadata": {},
   "outputs": [],
   "source": [
    "# function to split each table, using 0.25 as test set \n",
    "# using tc.Sframe as it is much better equipped to handle large data than pandas\n",
    "def tt_split(data):\n",
    "    train, test = train_test_split(data, test_size = .25)\n",
    "    train_data = tc.SFrame(train)\n",
    "    test_data = tc.SFrame(test)\n",
    "    return train_data, test_data"
   ]
  },
  {
   "cell_type": "code",
   "execution_count": 40,
   "id": "7f70173a",
   "metadata": {},
   "outputs": [],
   "source": [
    "# calling the train test split function\n",
    "train_purchases, test_purchases = tt_split(df1)\n",
    "train_dummy, test_dummy = tt_split(df2)\n",
    "train_normalized, test_normalized = tt_split(df3)"
   ]
  },
  {
   "cell_type": "markdown",
   "id": "45e3f1f7",
   "metadata": {},
   "source": [
    "Sanity check that splits of each table have the same number of rows"
   ]
  },
  {
   "cell_type": "code",
   "execution_count": 41,
   "id": "723888e1",
   "metadata": {
    "scrolled": false
   },
   "outputs": [
    {
     "data": {
      "text/plain": [
       "(1504763, 3)"
      ]
     },
     "execution_count": 41,
     "metadata": {},
     "output_type": "execute_result"
    }
   ],
   "source": [
    "train_purchases.shape"
   ]
  },
  {
   "cell_type": "code",
   "execution_count": 42,
   "id": "46a69386",
   "metadata": {},
   "outputs": [
    {
     "data": {
      "text/plain": [
       "(501588, 3)"
      ]
     },
     "execution_count": 42,
     "metadata": {},
     "output_type": "execute_result"
    }
   ],
   "source": [
    "test_purchases.shape"
   ]
  },
  {
   "cell_type": "code",
   "execution_count": 43,
   "id": "cad33f4d",
   "metadata": {},
   "outputs": [
    {
     "data": {
      "text/plain": [
       "(1504763, 4)"
      ]
     },
     "execution_count": 43,
     "metadata": {},
     "output_type": "execute_result"
    }
   ],
   "source": [
    "train_dummy.shape"
   ]
  },
  {
   "cell_type": "code",
   "execution_count": 44,
   "id": "932a5c8d",
   "metadata": {},
   "outputs": [
    {
     "data": {
      "text/plain": [
       "(501588, 4)"
      ]
     },
     "execution_count": 44,
     "metadata": {},
     "output_type": "execute_result"
    }
   ],
   "source": [
    "test_dummy.shape"
   ]
  },
  {
   "cell_type": "markdown",
   "id": "299bafd9",
   "metadata": {},
   "source": [
    "In order to understand the results of more complex recommendation systems like collaborative filtering, I am going to start with a baseline model which recommends customers the most popular products. This way I can compare the accuracy of my more advanced model to make sure it's more accurate than something as obvious as recommending a customer the most popular product"
   ]
  },
  {
   "cell_type": "code",
   "execution_count": 45,
   "id": "cb20bc7b",
   "metadata": {},
   "outputs": [],
   "source": [
    "# defining the constant variables for my turicreate models \n",
    "user_id = 'customer_id'\n",
    "item_id = 'article_id'\n",
    "# customer_to_rec defines the customers that we will be using in our model\n",
    "customers_to_rec = list(train_purchases['customer_id'].unique())\n",
    "# n_rec is the number of items we will recommend to each customer\n",
    "n_rec = 8\n",
    "# number of rows we want to see in the initial output \n",
    "n_display = 24\n"
   ]
  },
  {
   "cell_type": "markdown",
   "id": "ea647f05",
   "metadata": {},
   "source": [
    "defining a function of 3 different models from turicreate that we will be using:\n",
    "\n",
    "    - popularity\n",
    "    - cosine similarity\n",
    "    - pearson correlation "
   ]
  },
  {
   "cell_type": "code",
   "execution_count": 46,
   "id": "e13cc863",
   "metadata": {},
   "outputs": [],
   "source": [
    "def model(train_data, name, user_id, item_id, target, customers_to_rec, n_rec, n_display):\n",
    "    if name == 'popularity':\n",
    "        model = tc.popularity_recommender.create(train_data, \n",
    "                                                    user_id=user_id, \n",
    "                                                    item_id=item_id, \n",
    "                                                    target=target)\n",
    "    elif name == 'cosine':\n",
    "        model = tc.item_similarity_recommender.create(train_data, \n",
    "                                                    user_id=user_id, \n",
    "                                                    item_id=item_id, \n",
    "                                                    target=target, \n",
    "                                                    similarity_type='cosine')\n",
    "    elif name == 'pearson':\n",
    "        model = tc.item_similarity_recommender.create(train_data, \n",
    "                                                    user_id=user_id, \n",
    "                                                    item_id=item_id, \n",
    "                                                    target=target, \n",
    "                                                    similarity_type='pearson')\n",
    "        \n",
    "    recom = model.recommend(users=customers_to_rec, k=n_rec)\n",
    "    recom.print_rows(n_display)\n",
    "    return model, recom"
   ]
  },
  {
   "cell_type": "code",
   "execution_count": 47,
   "id": "574df3df",
   "metadata": {},
   "outputs": [
    {
     "data": {
      "text/html": [
       "<div style=\"max-height:1000px;max-width:1500px;overflow:auto;\"><table frame=\"box\" rules=\"cols\">\n",
       "    <tr>\n",
       "        <th style=\"padding-left: 1em; padding-right: 1em; text-align: center\">customer_id</th>\n",
       "        <th style=\"padding-left: 1em; padding-right: 1em; text-align: center\">article_id</th>\n",
       "        <th style=\"padding-left: 1em; padding-right: 1em; text-align: center\">article_purchase_count</th>\n",
       "    </tr>\n",
       "    <tr>\n",
       "        <td style=\"padding-left: 1em; padding-right: 1em; text-align: center; vertical-align: top\">d734b8669438f34b1878dc078<br>1f540dd889deb02f939f6 ...</td>\n",
       "        <td style=\"padding-left: 1em; padding-right: 1em; text-align: center; vertical-align: top\">516859002</td>\n",
       "        <td style=\"padding-left: 1em; padding-right: 1em; text-align: center; vertical-align: top\">1</td>\n",
       "    </tr>\n",
       "    <tr>\n",
       "        <td style=\"padding-left: 1em; padding-right: 1em; text-align: center; vertical-align: top\">cae43013ac28d76c74c98fd77<br>caaea2f937da1c2f743c7 ...</td>\n",
       "        <td style=\"padding-left: 1em; padding-right: 1em; text-align: center; vertical-align: top\">721762002</td>\n",
       "        <td style=\"padding-left: 1em; padding-right: 1em; text-align: center; vertical-align: top\">1</td>\n",
       "    </tr>\n",
       "    <tr>\n",
       "        <td style=\"padding-left: 1em; padding-right: 1em; text-align: center; vertical-align: top\">214375b663ccc87230c66d96d<br>8963a132ae0cb5c07a40c ...</td>\n",
       "        <td style=\"padding-left: 1em; padding-right: 1em; text-align: center; vertical-align: top\">894135001</td>\n",
       "        <td style=\"padding-left: 1em; padding-right: 1em; text-align: center; vertical-align: top\">1</td>\n",
       "    </tr>\n",
       "    <tr>\n",
       "        <td style=\"padding-left: 1em; padding-right: 1em; text-align: center; vertical-align: top\">ff0709a27864e67ae3eaef133<br>6da05d0f93a742a9f0e01 ...</td>\n",
       "        <td style=\"padding-left: 1em; padding-right: 1em; text-align: center; vertical-align: top\">697054008</td>\n",
       "        <td style=\"padding-left: 1em; padding-right: 1em; text-align: center; vertical-align: top\">1</td>\n",
       "    </tr>\n",
       "    <tr>\n",
       "        <td style=\"padding-left: 1em; padding-right: 1em; text-align: center; vertical-align: top\">1f21c6fe5ac3385492780d488<br>54d3cb02e378cfef7f83e ...</td>\n",
       "        <td style=\"padding-left: 1em; padding-right: 1em; text-align: center; vertical-align: top\">456163053</td>\n",
       "        <td style=\"padding-left: 1em; padding-right: 1em; text-align: center; vertical-align: top\">1</td>\n",
       "    </tr>\n",
       "</table>\n",
       "[5 rows x 3 columns]<br/>\n",
       "</div>"
      ],
      "text/plain": [
       "Columns:\n",
       "\tcustomer_id\tstr\n",
       "\tarticle_id\tint\n",
       "\tarticle_purchase_count\tint\n",
       "\n",
       "Rows: 5\n",
       "\n",
       "Data:\n",
       "+-------------------------------+------------+------------------------+\n",
       "|          customer_id          | article_id | article_purchase_count |\n",
       "+-------------------------------+------------+------------------------+\n",
       "| d734b8669438f34b1878dc0781... | 516859002  |           1            |\n",
       "| cae43013ac28d76c74c98fd77c... | 721762002  |           1            |\n",
       "| 214375b663ccc87230c66d96d8... | 894135001  |           1            |\n",
       "| ff0709a27864e67ae3eaef1336... | 697054008  |           1            |\n",
       "| 1f21c6fe5ac3385492780d4885... | 456163053  |           1            |\n",
       "+-------------------------------+------------+------------------------+\n",
       "[5 rows x 3 columns]"
      ]
     },
     "execution_count": 47,
     "metadata": {},
     "output_type": "execute_result"
    }
   ],
   "source": [
    "train_purchases.head(5)"
   ]
  },
  {
   "cell_type": "code",
   "execution_count": 48,
   "id": "d553aeca",
   "metadata": {},
   "outputs": [
    {
     "data": {
      "text/html": [
       "<div style=\"max-height:1000px;max-width:1500px;overflow:auto;\"><table frame=\"box\" rules=\"cols\">\n",
       "    <tr>\n",
       "        <th style=\"padding-left: 1em; padding-right: 1em; text-align: center\">customer_id</th>\n",
       "        <th style=\"padding-left: 1em; padding-right: 1em; text-align: center\">article_id</th>\n",
       "        <th style=\"padding-left: 1em; padding-right: 1em; text-align: center\">article_purchase_count</th>\n",
       "        <th style=\"padding-left: 1em; padding-right: 1em; text-align: center\">dummy</th>\n",
       "    </tr>\n",
       "    <tr>\n",
       "        <td style=\"padding-left: 1em; padding-right: 1em; text-align: center; vertical-align: top\">9de8892353db619dfda6b6ab5<br>99f7ee745b36f92d0757f ...</td>\n",
       "        <td style=\"padding-left: 1em; padding-right: 1em; text-align: center; vertical-align: top\">663564006</td>\n",
       "        <td style=\"padding-left: 1em; padding-right: 1em; text-align: center; vertical-align: top\">1</td>\n",
       "        <td style=\"padding-left: 1em; padding-right: 1em; text-align: center; vertical-align: top\">1</td>\n",
       "    </tr>\n",
       "    <tr>\n",
       "        <td style=\"padding-left: 1em; padding-right: 1em; text-align: center; vertical-align: top\">bfd273cb02e60c527ecc82f2e<br>6c2102d110c1067714704 ...</td>\n",
       "        <td style=\"padding-left: 1em; padding-right: 1em; text-align: center; vertical-align: top\">632832006</td>\n",
       "        <td style=\"padding-left: 1em; padding-right: 1em; text-align: center; vertical-align: top\">1</td>\n",
       "        <td style=\"padding-left: 1em; padding-right: 1em; text-align: center; vertical-align: top\">1</td>\n",
       "    </tr>\n",
       "    <tr>\n",
       "        <td style=\"padding-left: 1em; padding-right: 1em; text-align: center; vertical-align: top\">abf06a79182a8b5e4bba18b62<br>377eabbc363aee42e8de5 ...</td>\n",
       "        <td style=\"padding-left: 1em; padding-right: 1em; text-align: center; vertical-align: top\">658298007</td>\n",
       "        <td style=\"padding-left: 1em; padding-right: 1em; text-align: center; vertical-align: top\">1</td>\n",
       "        <td style=\"padding-left: 1em; padding-right: 1em; text-align: center; vertical-align: top\">1</td>\n",
       "    </tr>\n",
       "    <tr>\n",
       "        <td style=\"padding-left: 1em; padding-right: 1em; text-align: center; vertical-align: top\">2bdcbd16a0e11e87335237a2f<br>bdcc4b4556afc130bad4e ...</td>\n",
       "        <td style=\"padding-left: 1em; padding-right: 1em; text-align: center; vertical-align: top\">854043006</td>\n",
       "        <td style=\"padding-left: 1em; padding-right: 1em; text-align: center; vertical-align: top\">1</td>\n",
       "        <td style=\"padding-left: 1em; padding-right: 1em; text-align: center; vertical-align: top\">1</td>\n",
       "    </tr>\n",
       "    <tr>\n",
       "        <td style=\"padding-left: 1em; padding-right: 1em; text-align: center; vertical-align: top\">9e471f421774d518e31b3cefb<br>d7472a2733db531e18c7a ...</td>\n",
       "        <td style=\"padding-left: 1em; padding-right: 1em; text-align: center; vertical-align: top\">824079001</td>\n",
       "        <td style=\"padding-left: 1em; padding-right: 1em; text-align: center; vertical-align: top\">1</td>\n",
       "        <td style=\"padding-left: 1em; padding-right: 1em; text-align: center; vertical-align: top\">1</td>\n",
       "    </tr>\n",
       "</table>\n",
       "[5 rows x 4 columns]<br/>\n",
       "</div>"
      ],
      "text/plain": [
       "Columns:\n",
       "\tcustomer_id\tstr\n",
       "\tarticle_id\tint\n",
       "\tarticle_purchase_count\tint\n",
       "\tdummy\tint\n",
       "\n",
       "Rows: 5\n",
       "\n",
       "Data:\n",
       "+-------------------------------+------------+------------------------+-------+\n",
       "|          customer_id          | article_id | article_purchase_count | dummy |\n",
       "+-------------------------------+------------+------------------------+-------+\n",
       "| 9de8892353db619dfda6b6ab59... | 663564006  |           1            |   1   |\n",
       "| bfd273cb02e60c527ecc82f2e6... | 632832006  |           1            |   1   |\n",
       "| abf06a79182a8b5e4bba18b623... | 658298007  |           1            |   1   |\n",
       "| 2bdcbd16a0e11e87335237a2fb... | 854043006  |           1            |   1   |\n",
       "| 9e471f421774d518e31b3cefbd... | 824079001  |           1            |   1   |\n",
       "+-------------------------------+------------+------------------------+-------+\n",
       "[5 rows x 4 columns]"
      ]
     },
     "execution_count": 48,
     "metadata": {},
     "output_type": "execute_result"
    }
   ],
   "source": [
    "train_dummy.head(5)"
   ]
  },
  {
   "cell_type": "code",
   "execution_count": 49,
   "id": "1007df1d",
   "metadata": {},
   "outputs": [
    {
     "data": {
      "text/html": [
       "<div style=\"max-height:1000px;max-width:1500px;overflow:auto;\"><table frame=\"box\" rules=\"cols\">\n",
       "    <tr>\n",
       "        <th style=\"padding-left: 1em; padding-right: 1em; text-align: center\">customer_id</th>\n",
       "        <th style=\"padding-left: 1em; padding-right: 1em; text-align: center\">article_id</th>\n",
       "        <th style=\"padding-left: 1em; padding-right: 1em; text-align: center\">scaled_purchase_freq</th>\n",
       "    </tr>\n",
       "    <tr>\n",
       "        <td style=\"padding-left: 1em; padding-right: 1em; text-align: center; vertical-align: top\">8bfb613161a72097298c42551<br>1479f64e17a1985fea336 ...</td>\n",
       "        <td style=\"padding-left: 1em; padding-right: 1em; text-align: center; vertical-align: top\">803592001</td>\n",
       "        <td style=\"padding-left: 1em; padding-right: 1em; text-align: center; vertical-align: top\">0.0</td>\n",
       "    </tr>\n",
       "    <tr>\n",
       "        <td style=\"padding-left: 1em; padding-right: 1em; text-align: center; vertical-align: top\">e47526e62a1804059294f8ef3<br>9f543836f81a98593efec ...</td>\n",
       "        <td style=\"padding-left: 1em; padding-right: 1em; text-align: center; vertical-align: top\">706016006</td>\n",
       "        <td style=\"padding-left: 1em; padding-right: 1em; text-align: center; vertical-align: top\">0.0</td>\n",
       "    </tr>\n",
       "    <tr>\n",
       "        <td style=\"padding-left: 1em; padding-right: 1em; text-align: center; vertical-align: top\">45c29301075615c4e896dddf7<br>3f5a08b8b0c8d9e6d2bec ...</td>\n",
       "        <td style=\"padding-left: 1em; padding-right: 1em; text-align: center; vertical-align: top\">653828014</td>\n",
       "        <td style=\"padding-left: 1em; padding-right: 1em; text-align: center; vertical-align: top\">0.0</td>\n",
       "    </tr>\n",
       "    <tr>\n",
       "        <td style=\"padding-left: 1em; padding-right: 1em; text-align: center; vertical-align: top\">7f83f69e4c5605835f6beba0c<br>045c8e62ac472115016a8 ...</td>\n",
       "        <td style=\"padding-left: 1em; padding-right: 1em; text-align: center; vertical-align: top\">373506001</td>\n",
       "        <td style=\"padding-left: 1em; padding-right: 1em; text-align: center; vertical-align: top\">0.0</td>\n",
       "    </tr>\n",
       "    <tr>\n",
       "        <td style=\"padding-left: 1em; padding-right: 1em; text-align: center; vertical-align: top\">e2b69a4ddfff8ec812755ebfc<br>57e8bfcec676435d6647c ...</td>\n",
       "        <td style=\"padding-left: 1em; padding-right: 1em; text-align: center; vertical-align: top\">697564022</td>\n",
       "        <td style=\"padding-left: 1em; padding-right: 1em; text-align: center; vertical-align: top\">0.0</td>\n",
       "    </tr>\n",
       "</table>\n",
       "[5 rows x 3 columns]<br/>\n",
       "</div>"
      ],
      "text/plain": [
       "Columns:\n",
       "\tcustomer_id\tstr\n",
       "\tarticle_id\tint\n",
       "\tscaled_purchase_freq\tfloat\n",
       "\n",
       "Rows: 5\n",
       "\n",
       "Data:\n",
       "+-------------------------------+------------+----------------------+\n",
       "|          customer_id          | article_id | scaled_purchase_freq |\n",
       "+-------------------------------+------------+----------------------+\n",
       "| 8bfb613161a72097298c425511... | 803592001  |         0.0          |\n",
       "| e47526e62a1804059294f8ef39... | 706016006  |         0.0          |\n",
       "| 45c29301075615c4e896dddf73... | 653828014  |         0.0          |\n",
       "| 7f83f69e4c5605835f6beba0c0... | 373506001  |         0.0          |\n",
       "| e2b69a4ddfff8ec812755ebfc5... | 697564022  |         0.0          |\n",
       "+-------------------------------+------------+----------------------+\n",
       "[5 rows x 3 columns]"
      ]
     },
     "execution_count": 49,
     "metadata": {},
     "output_type": "execute_result"
    }
   ],
   "source": [
    "train_normalized.head(5)"
   ]
  },
  {
   "cell_type": "markdown",
   "id": "11174b5a",
   "metadata": {},
   "source": [
    "## Popularity model"
   ]
  },
  {
   "cell_type": "markdown",
   "id": "ea8bed14",
   "metadata": {},
   "source": [
    "### Train_purchases table"
   ]
  },
  {
   "cell_type": "code",
   "execution_count": 50,
   "id": "bbc00d02",
   "metadata": {
    "scrolled": false
   },
   "outputs": [
    {
     "data": {
      "text/html": [
       "<pre>Preparing data set.</pre>"
      ],
      "text/plain": [
       "Preparing data set."
      ]
     },
     "metadata": {},
     "output_type": "display_data"
    },
    {
     "data": {
      "text/html": [
       "<pre>    Data has 1504763 observations with 11066 users and 72482 items.</pre>"
      ],
      "text/plain": [
       "    Data has 1504763 observations with 11066 users and 72482 items."
      ]
     },
     "metadata": {},
     "output_type": "display_data"
    },
    {
     "data": {
      "text/html": [
       "<pre>    Data prepared in: 0.852343s</pre>"
      ],
      "text/plain": [
       "    Data prepared in: 0.852343s"
      ]
     },
     "metadata": {},
     "output_type": "display_data"
    },
    {
     "data": {
      "text/html": [
       "<pre>1504763 observations to process; with 72482 unique items.</pre>"
      ],
      "text/plain": [
       "1504763 observations to process; with 72482 unique items."
      ]
     },
     "metadata": {},
     "output_type": "display_data"
    },
    {
     "data": {
      "text/html": [
       "<pre>recommendations finished on 1000/11066 queries. users per second: 2739.78</pre>"
      ],
      "text/plain": [
       "recommendations finished on 1000/11066 queries. users per second: 2739.78"
      ]
     },
     "metadata": {},
     "output_type": "display_data"
    },
    {
     "data": {
      "text/html": [
       "<pre>recommendations finished on 2000/11066 queries. users per second: 3071.13</pre>"
      ],
      "text/plain": [
       "recommendations finished on 2000/11066 queries. users per second: 3071.13"
      ]
     },
     "metadata": {},
     "output_type": "display_data"
    },
    {
     "data": {
      "text/html": [
       "<pre>recommendations finished on 3000/11066 queries. users per second: 3287.04</pre>"
      ],
      "text/plain": [
       "recommendations finished on 3000/11066 queries. users per second: 3287.04"
      ]
     },
     "metadata": {},
     "output_type": "display_data"
    },
    {
     "data": {
      "text/html": [
       "<pre>recommendations finished on 4000/11066 queries. users per second: 3257.76</pre>"
      ],
      "text/plain": [
       "recommendations finished on 4000/11066 queries. users per second: 3257.76"
      ]
     },
     "metadata": {},
     "output_type": "display_data"
    },
    {
     "data": {
      "text/html": [
       "<pre>recommendations finished on 5000/11066 queries. users per second: 3266.57</pre>"
      ],
      "text/plain": [
       "recommendations finished on 5000/11066 queries. users per second: 3266.57"
      ]
     },
     "metadata": {},
     "output_type": "display_data"
    },
    {
     "data": {
      "text/html": [
       "<pre>recommendations finished on 6000/11066 queries. users per second: 3239.67</pre>"
      ],
      "text/plain": [
       "recommendations finished on 6000/11066 queries. users per second: 3239.67"
      ]
     },
     "metadata": {},
     "output_type": "display_data"
    },
    {
     "data": {
      "text/html": [
       "<pre>recommendations finished on 7000/11066 queries. users per second: 3334.82</pre>"
      ],
      "text/plain": [
       "recommendations finished on 7000/11066 queries. users per second: 3334.82"
      ]
     },
     "metadata": {},
     "output_type": "display_data"
    },
    {
     "data": {
      "text/html": [
       "<pre>recommendations finished on 8000/11066 queries. users per second: 3416.58</pre>"
      ],
      "text/plain": [
       "recommendations finished on 8000/11066 queries. users per second: 3416.58"
      ]
     },
     "metadata": {},
     "output_type": "display_data"
    },
    {
     "data": {
      "text/html": [
       "<pre>recommendations finished on 9000/11066 queries. users per second: 3487.29</pre>"
      ],
      "text/plain": [
       "recommendations finished on 9000/11066 queries. users per second: 3487.29"
      ]
     },
     "metadata": {},
     "output_type": "display_data"
    },
    {
     "data": {
      "text/html": [
       "<pre>recommendations finished on 10000/11066 queries. users per second: 3383</pre>"
      ],
      "text/plain": [
       "recommendations finished on 10000/11066 queries. users per second: 3383"
      ]
     },
     "metadata": {},
     "output_type": "display_data"
    },
    {
     "data": {
      "text/html": [
       "<pre>recommendations finished on 11000/11066 queries. users per second: 3324.58</pre>"
      ],
      "text/plain": [
       "recommendations finished on 11000/11066 queries. users per second: 3324.58"
      ]
     },
     "metadata": {},
     "output_type": "display_data"
    },
    {
     "name": "stdout",
     "output_type": "stream",
     "text": [
      "+-------------------------------+------------+-------+------+\n",
      "|          customer_id          | article_id | score | rank |\n",
      "+-------------------------------+------------+-------+------+\n",
      "| 250039015607871019994d80d9... | 554141018  |  8.0  |  1   |\n",
      "| 250039015607871019994d80d9... | 822161001  |  5.0  |  2   |\n",
      "| 250039015607871019994d80d9... | 653358001  |  4.5  |  3   |\n",
      "| 250039015607871019994d80d9... | 644032001  |  4.0  |  4   |\n",
      "| 250039015607871019994d80d9... | 652671001  |  4.0  |  5   |\n",
      "| 250039015607871019994d80d9... | 237222016  |  4.0  |  6   |\n",
      "| 250039015607871019994d80d9... | 703737003  |  4.0  |  7   |\n",
      "| 250039015607871019994d80d9... | 647837001  |  4.0  |  8   |\n",
      "| eae27980951a8e176ee6721ba1... | 554141018  |  8.0  |  1   |\n",
      "| eae27980951a8e176ee6721ba1... | 822161001  |  5.0  |  2   |\n",
      "| eae27980951a8e176ee6721ba1... | 653358001  |  4.5  |  3   |\n",
      "| eae27980951a8e176ee6721ba1... | 644032001  |  4.0  |  4   |\n",
      "| eae27980951a8e176ee6721ba1... | 652671001  |  4.0  |  5   |\n",
      "| eae27980951a8e176ee6721ba1... | 237222016  |  4.0  |  6   |\n",
      "| eae27980951a8e176ee6721ba1... | 703737003  |  4.0  |  7   |\n",
      "| eae27980951a8e176ee6721ba1... | 647837001  |  4.0  |  8   |\n",
      "| 77c980e1d7894da46146746d3b... | 554141018  |  8.0  |  1   |\n",
      "| 77c980e1d7894da46146746d3b... | 822161001  |  5.0  |  2   |\n",
      "| 77c980e1d7894da46146746d3b... | 653358001  |  4.5  |  3   |\n",
      "| 77c980e1d7894da46146746d3b... | 644032001  |  4.0  |  4   |\n",
      "| 77c980e1d7894da46146746d3b... | 652671001  |  4.0  |  5   |\n",
      "| 77c980e1d7894da46146746d3b... | 237222016  |  4.0  |  6   |\n",
      "| 77c980e1d7894da46146746d3b... | 703737003  |  4.0  |  7   |\n",
      "| 77c980e1d7894da46146746d3b... | 647837001  |  4.0  |  8   |\n",
      "+-------------------------------+------------+-------+------+\n",
      "[88528 rows x 4 columns]\n",
      "\n"
     ]
    },
    {
     "data": {
      "text/plain": [
       "11"
      ]
     },
     "execution_count": 50,
     "metadata": {},
     "output_type": "execute_result"
    }
   ],
   "source": [
    "name = 'popularity'\n",
    "target = 'article_purchase_count'\n",
    "\n",
    "popularity_purchase, _ = model(train_purchases, name, user_id, item_id, target, customers_to_rec, n_rec, n_display)\n",
    "_.to_dataframe()[\"article_id\"].nunique()"
   ]
  },
  {
   "cell_type": "code",
   "execution_count": 51,
   "id": "cf22ca4f",
   "metadata": {
    "scrolled": false
   },
   "outputs": [
    {
     "data": {
      "text/html": [
       "<div style=\"max-height:1000px;max-width:1500px;overflow:auto;\"><table frame=\"box\" rules=\"cols\">\n",
       "    <tr>\n",
       "        <th style=\"padding-left: 1em; padding-right: 1em; text-align: center\">customer_id</th>\n",
       "        <th style=\"padding-left: 1em; padding-right: 1em; text-align: center\">article_id</th>\n",
       "        <th style=\"padding-left: 1em; padding-right: 1em; text-align: center\">article_purchase_count</th>\n",
       "    </tr>\n",
       "    <tr>\n",
       "        <td style=\"padding-left: 1em; padding-right: 1em; text-align: center; vertical-align: top\">d734b8669438f34b1878dc078<br>1f540dd889deb02f939f6 ...</td>\n",
       "        <td style=\"padding-left: 1em; padding-right: 1em; text-align: center; vertical-align: top\">516859002</td>\n",
       "        <td style=\"padding-left: 1em; padding-right: 1em; text-align: center; vertical-align: top\">1</td>\n",
       "    </tr>\n",
       "    <tr>\n",
       "        <td style=\"padding-left: 1em; padding-right: 1em; text-align: center; vertical-align: top\">cae43013ac28d76c74c98fd77<br>caaea2f937da1c2f743c7 ...</td>\n",
       "        <td style=\"padding-left: 1em; padding-right: 1em; text-align: center; vertical-align: top\">721762002</td>\n",
       "        <td style=\"padding-left: 1em; padding-right: 1em; text-align: center; vertical-align: top\">1</td>\n",
       "    </tr>\n",
       "    <tr>\n",
       "        <td style=\"padding-left: 1em; padding-right: 1em; text-align: center; vertical-align: top\">214375b663ccc87230c66d96d<br>8963a132ae0cb5c07a40c ...</td>\n",
       "        <td style=\"padding-left: 1em; padding-right: 1em; text-align: center; vertical-align: top\">894135001</td>\n",
       "        <td style=\"padding-left: 1em; padding-right: 1em; text-align: center; vertical-align: top\">1</td>\n",
       "    </tr>\n",
       "    <tr>\n",
       "        <td style=\"padding-left: 1em; padding-right: 1em; text-align: center; vertical-align: top\">ff0709a27864e67ae3eaef133<br>6da05d0f93a742a9f0e01 ...</td>\n",
       "        <td style=\"padding-left: 1em; padding-right: 1em; text-align: center; vertical-align: top\">697054008</td>\n",
       "        <td style=\"padding-left: 1em; padding-right: 1em; text-align: center; vertical-align: top\">1</td>\n",
       "    </tr>\n",
       "    <tr>\n",
       "        <td style=\"padding-left: 1em; padding-right: 1em; text-align: center; vertical-align: top\">1f21c6fe5ac3385492780d488<br>54d3cb02e378cfef7f83e ...</td>\n",
       "        <td style=\"padding-left: 1em; padding-right: 1em; text-align: center; vertical-align: top\">456163053</td>\n",
       "        <td style=\"padding-left: 1em; padding-right: 1em; text-align: center; vertical-align: top\">1</td>\n",
       "    </tr>\n",
       "    <tr>\n",
       "        <td style=\"padding-left: 1em; padding-right: 1em; text-align: center; vertical-align: top\">a6e1e553ca1df628a9ef6d209<br>350077b531c82aa3ab185 ...</td>\n",
       "        <td style=\"padding-left: 1em; padding-right: 1em; text-align: center; vertical-align: top\">649397006</td>\n",
       "        <td style=\"padding-left: 1em; padding-right: 1em; text-align: center; vertical-align: top\">2</td>\n",
       "    </tr>\n",
       "    <tr>\n",
       "        <td style=\"padding-left: 1em; padding-right: 1em; text-align: center; vertical-align: top\">682604048737103df0e40f176<br>e7530a1c604e77c35bb79 ...</td>\n",
       "        <td style=\"padding-left: 1em; padding-right: 1em; text-align: center; vertical-align: top\">160442043</td>\n",
       "        <td style=\"padding-left: 1em; padding-right: 1em; text-align: center; vertical-align: top\">1</td>\n",
       "    </tr>\n",
       "    <tr>\n",
       "        <td style=\"padding-left: 1em; padding-right: 1em; text-align: center; vertical-align: top\">4a8be1df5f257d049cce39cb6<br>69aab869980b13e93482b ...</td>\n",
       "        <td style=\"padding-left: 1em; padding-right: 1em; text-align: center; vertical-align: top\">625773003</td>\n",
       "        <td style=\"padding-left: 1em; padding-right: 1em; text-align: center; vertical-align: top\">1</td>\n",
       "    </tr>\n",
       "    <tr>\n",
       "        <td style=\"padding-left: 1em; padding-right: 1em; text-align: center; vertical-align: top\">823a95fecfa24a9b3ab371398<br>f0b897c95727e245475b6 ...</td>\n",
       "        <td style=\"padding-left: 1em; padding-right: 1em; text-align: center; vertical-align: top\">448509018</td>\n",
       "        <td style=\"padding-left: 1em; padding-right: 1em; text-align: center; vertical-align: top\">1</td>\n",
       "    </tr>\n",
       "    <tr>\n",
       "        <td style=\"padding-left: 1em; padding-right: 1em; text-align: center; vertical-align: top\">5a7e208f8b34f09b7ba95c267<br>225075a4062f64ff43a4e ...</td>\n",
       "        <td style=\"padding-left: 1em; padding-right: 1em; text-align: center; vertical-align: top\">661610001</td>\n",
       "        <td style=\"padding-left: 1em; padding-right: 1em; text-align: center; vertical-align: top\">1</td>\n",
       "    </tr>\n",
       "</table>\n",
       "[1504763 rows x 3 columns]<br/>Note: Only the head of the SFrame is printed.<br/>You can use print_rows(num_rows=m, num_columns=n) to print more rows and columns.\n",
       "</div>"
      ],
      "text/plain": [
       "Columns:\n",
       "\tcustomer_id\tstr\n",
       "\tarticle_id\tint\n",
       "\tarticle_purchase_count\tint\n",
       "\n",
       "Rows: 1504763\n",
       "\n",
       "Data:\n",
       "+-------------------------------+------------+------------------------+\n",
       "|          customer_id          | article_id | article_purchase_count |\n",
       "+-------------------------------+------------+------------------------+\n",
       "| d734b8669438f34b1878dc0781... | 516859002  |           1            |\n",
       "| cae43013ac28d76c74c98fd77c... | 721762002  |           1            |\n",
       "| 214375b663ccc87230c66d96d8... | 894135001  |           1            |\n",
       "| ff0709a27864e67ae3eaef1336... | 697054008  |           1            |\n",
       "| 1f21c6fe5ac3385492780d4885... | 456163053  |           1            |\n",
       "| a6e1e553ca1df628a9ef6d2093... | 649397006  |           2            |\n",
       "| 682604048737103df0e40f176e... | 160442043  |           1            |\n",
       "| 4a8be1df5f257d049cce39cb66... | 625773003  |           1            |\n",
       "| 823a95fecfa24a9b3ab371398f... | 448509018  |           1            |\n",
       "| 5a7e208f8b34f09b7ba95c2672... | 661610001  |           1            |\n",
       "+-------------------------------+------------+------------------------+\n",
       "[1504763 rows x 3 columns]\n",
       "Note: Only the head of the SFrame is printed.\n",
       "You can use print_rows(num_rows=m, num_columns=n) to print more rows and columns."
      ]
     },
     "execution_count": 51,
     "metadata": {},
     "output_type": "execute_result"
    }
   ],
   "source": [
    "train_purchases"
   ]
  },
  {
   "cell_type": "code",
   "execution_count": 52,
   "id": "a7994c9f",
   "metadata": {},
   "outputs": [],
   "source": [
    "train_pd = train_purchases.to_dataframe()"
   ]
  },
  {
   "cell_type": "code",
   "execution_count": 53,
   "id": "42c2526b",
   "metadata": {
    "scrolled": true
   },
   "outputs": [
    {
     "data": {
      "text/html": [
       "<div>\n",
       "<style scoped>\n",
       "    .dataframe tbody tr th:only-of-type {\n",
       "        vertical-align: middle;\n",
       "    }\n",
       "\n",
       "    .dataframe tbody tr th {\n",
       "        vertical-align: top;\n",
       "    }\n",
       "\n",
       "    .dataframe thead th {\n",
       "        text-align: right;\n",
       "    }\n",
       "</style>\n",
       "<table border=\"1\" class=\"dataframe\">\n",
       "  <thead>\n",
       "    <tr style=\"text-align: right;\">\n",
       "      <th></th>\n",
       "      <th>customer_id</th>\n",
       "      <th>article_id</th>\n",
       "      <th>article_purchase_count</th>\n",
       "    </tr>\n",
       "  </thead>\n",
       "  <tbody>\n",
       "    <tr>\n",
       "      <th>0</th>\n",
       "      <td>d734b8669438f34b1878dc0781f540dd889deb02f939f6...</td>\n",
       "      <td>516859002</td>\n",
       "      <td>1</td>\n",
       "    </tr>\n",
       "    <tr>\n",
       "      <th>1</th>\n",
       "      <td>cae43013ac28d76c74c98fd77caaea2f937da1c2f743c7...</td>\n",
       "      <td>721762002</td>\n",
       "      <td>1</td>\n",
       "    </tr>\n",
       "    <tr>\n",
       "      <th>2</th>\n",
       "      <td>214375b663ccc87230c66d96d8963a132ae0cb5c07a40c...</td>\n",
       "      <td>894135001</td>\n",
       "      <td>1</td>\n",
       "    </tr>\n",
       "    <tr>\n",
       "      <th>3</th>\n",
       "      <td>ff0709a27864e67ae3eaef1336da05d0f93a742a9f0e01...</td>\n",
       "      <td>697054008</td>\n",
       "      <td>1</td>\n",
       "    </tr>\n",
       "    <tr>\n",
       "      <th>4</th>\n",
       "      <td>1f21c6fe5ac3385492780d48854d3cb02e378cfef7f83e...</td>\n",
       "      <td>456163053</td>\n",
       "      <td>1</td>\n",
       "    </tr>\n",
       "  </tbody>\n",
       "</table>\n",
       "</div>"
      ],
      "text/plain": [
       "                                         customer_id  article_id  \\\n",
       "0  d734b8669438f34b1878dc0781f540dd889deb02f939f6...   516859002   \n",
       "1  cae43013ac28d76c74c98fd77caaea2f937da1c2f743c7...   721762002   \n",
       "2  214375b663ccc87230c66d96d8963a132ae0cb5c07a40c...   894135001   \n",
       "3  ff0709a27864e67ae3eaef1336da05d0f93a742a9f0e01...   697054008   \n",
       "4  1f21c6fe5ac3385492780d48854d3cb02e378cfef7f83e...   456163053   \n",
       "\n",
       "   article_purchase_count  \n",
       "0                       1  \n",
       "1                       1  \n",
       "2                       1  \n",
       "3                       1  \n",
       "4                       1  "
      ]
     },
     "execution_count": 53,
     "metadata": {},
     "output_type": "execute_result"
    }
   ],
   "source": [
    "train_pd.head(5)"
   ]
  },
  {
   "cell_type": "code",
   "execution_count": 54,
   "id": "132c3b7b",
   "metadata": {
    "scrolled": true
   },
   "outputs": [
    {
     "data": {
      "text/plain": [
       "article_id\n",
       "706016001    3766\n",
       "706016002    2333\n",
       "610776002    1985\n",
       "706016003    1647\n",
       "610776001    1508\n",
       "             ... \n",
       "830747001       1\n",
       "688700001       1\n",
       "688692008       1\n",
       "688662002       1\n",
       "714885001       1\n",
       "Name: article_purchase_count, Length: 72482, dtype: int64"
      ]
     },
     "execution_count": 54,
     "metadata": {},
     "output_type": "execute_result"
    }
   ],
   "source": [
    "train_pd.groupby('article_id')['article_purchase_count'].sum().sort_values(ascending=False)"
   ]
  },
  {
   "cell_type": "code",
   "execution_count": 55,
   "id": "86c2c91c",
   "metadata": {},
   "outputs": [
    {
     "data": {
      "text/plain": [
       "article_id\n",
       "554141018    8.0\n",
       "822161001    5.0\n",
       "653358001    4.5\n",
       "237222016    4.0\n",
       "652671001    4.0\n",
       "            ... \n",
       "685814037    1.0\n",
       "685814050    1.0\n",
       "685814051    1.0\n",
       "685814052    1.0\n",
       "956217002    1.0\n",
       "Name: article_purchase_count, Length: 72482, dtype: float64"
      ]
     },
     "execution_count": 55,
     "metadata": {},
     "output_type": "execute_result"
    }
   ],
   "source": [
    "train_pd.groupby('article_id')['article_purchase_count'].mean().sort_values(ascending=False)"
   ]
  },
  {
   "cell_type": "markdown",
   "id": "3fb59df4",
   "metadata": {},
   "source": [
    "### Train_dummy table"
   ]
  },
  {
   "cell_type": "code",
   "execution_count": 56,
   "id": "94b442ae",
   "metadata": {
    "scrolled": false
   },
   "outputs": [
    {
     "data": {
      "text/html": [
       "<pre>Warning: Ignoring columns article_purchase_count;</pre>"
      ],
      "text/plain": [
       "Warning: Ignoring columns article_purchase_count;"
      ]
     },
     "metadata": {},
     "output_type": "display_data"
    },
    {
     "data": {
      "text/html": [
       "<pre>    To use these columns in scoring predictions, use a model that allows the use of additional features.</pre>"
      ],
      "text/plain": [
       "    To use these columns in scoring predictions, use a model that allows the use of additional features."
      ]
     },
     "metadata": {},
     "output_type": "display_data"
    },
    {
     "data": {
      "text/html": [
       "<pre>Preparing data set.</pre>"
      ],
      "text/plain": [
       "Preparing data set."
      ]
     },
     "metadata": {},
     "output_type": "display_data"
    },
    {
     "data": {
      "text/html": [
       "<pre>    Data has 1504763 observations with 11066 users and 72420 items.</pre>"
      ],
      "text/plain": [
       "    Data has 1504763 observations with 11066 users and 72420 items."
      ]
     },
     "metadata": {},
     "output_type": "display_data"
    },
    {
     "data": {
      "text/html": [
       "<pre>    Data prepared in: 0.84785s</pre>"
      ],
      "text/plain": [
       "    Data prepared in: 0.84785s"
      ]
     },
     "metadata": {},
     "output_type": "display_data"
    },
    {
     "data": {
      "text/html": [
       "<pre>1504763 observations to process; with 72420 unique items.</pre>"
      ],
      "text/plain": [
       "1504763 observations to process; with 72420 unique items."
      ]
     },
     "metadata": {},
     "output_type": "display_data"
    },
    {
     "data": {
      "text/html": [
       "<pre>recommendations finished on 1000/11066 queries. users per second: 2819.11</pre>"
      ],
      "text/plain": [
       "recommendations finished on 1000/11066 queries. users per second: 2819.11"
      ]
     },
     "metadata": {},
     "output_type": "display_data"
    },
    {
     "data": {
      "text/html": [
       "<pre>recommendations finished on 2000/11066 queries. users per second: 3104.03</pre>"
      ],
      "text/plain": [
       "recommendations finished on 2000/11066 queries. users per second: 3104.03"
      ]
     },
     "metadata": {},
     "output_type": "display_data"
    },
    {
     "data": {
      "text/html": [
       "<pre>recommendations finished on 3000/11066 queries. users per second: 3453.09</pre>"
      ],
      "text/plain": [
       "recommendations finished on 3000/11066 queries. users per second: 3453.09"
      ]
     },
     "metadata": {},
     "output_type": "display_data"
    },
    {
     "data": {
      "text/html": [
       "<pre>recommendations finished on 4000/11066 queries. users per second: 3577</pre>"
      ],
      "text/plain": [
       "recommendations finished on 4000/11066 queries. users per second: 3577"
      ]
     },
     "metadata": {},
     "output_type": "display_data"
    },
    {
     "data": {
      "text/html": [
       "<pre>recommendations finished on 5000/11066 queries. users per second: 3644.34</pre>"
      ],
      "text/plain": [
       "recommendations finished on 5000/11066 queries. users per second: 3644.34"
      ]
     },
     "metadata": {},
     "output_type": "display_data"
    },
    {
     "data": {
      "text/html": [
       "<pre>recommendations finished on 6000/11066 queries. users per second: 3703.08</pre>"
      ],
      "text/plain": [
       "recommendations finished on 6000/11066 queries. users per second: 3703.08"
      ]
     },
     "metadata": {},
     "output_type": "display_data"
    },
    {
     "data": {
      "text/html": [
       "<pre>recommendations finished on 7000/11066 queries. users per second: 3822.42</pre>"
      ],
      "text/plain": [
       "recommendations finished on 7000/11066 queries. users per second: 3822.42"
      ]
     },
     "metadata": {},
     "output_type": "display_data"
    },
    {
     "data": {
      "text/html": [
       "<pre>recommendations finished on 8000/11066 queries. users per second: 3875.28</pre>"
      ],
      "text/plain": [
       "recommendations finished on 8000/11066 queries. users per second: 3875.28"
      ]
     },
     "metadata": {},
     "output_type": "display_data"
    },
    {
     "data": {
      "text/html": [
       "<pre>recommendations finished on 9000/11066 queries. users per second: 3922.65</pre>"
      ],
      "text/plain": [
       "recommendations finished on 9000/11066 queries. users per second: 3922.65"
      ]
     },
     "metadata": {},
     "output_type": "display_data"
    },
    {
     "data": {
      "text/html": [
       "<pre>recommendations finished on 10000/11066 queries. users per second: 3899.59</pre>"
      ],
      "text/plain": [
       "recommendations finished on 10000/11066 queries. users per second: 3899.59"
      ]
     },
     "metadata": {},
     "output_type": "display_data"
    },
    {
     "data": {
      "text/html": [
       "<pre>recommendations finished on 11000/11066 queries. users per second: 3757.55</pre>"
      ],
      "text/plain": [
       "recommendations finished on 11000/11066 queries. users per second: 3757.55"
      ]
     },
     "metadata": {},
     "output_type": "display_data"
    },
    {
     "name": "stdout",
     "output_type": "stream",
     "text": [
      "+-------------------------------+------------+-------+------+\n",
      "|          customer_id          | article_id | score | rank |\n",
      "+-------------------------------+------------+-------+------+\n",
      "| 250039015607871019994d80d9... | 698296002  |  1.0  |  1   |\n",
      "| 250039015607871019994d80d9... | 665082001  |  1.0  |  2   |\n",
      "| 250039015607871019994d80d9... | 790644001  |  1.0  |  3   |\n",
      "| 250039015607871019994d80d9... | 732842008  |  1.0  |  4   |\n",
      "| 250039015607871019994d80d9... | 824079001  |  1.0  |  5   |\n",
      "| 250039015607871019994d80d9... | 658298007  |  1.0  |  6   |\n",
      "| 250039015607871019994d80d9... | 632832006  |  1.0  |  7   |\n",
      "| 250039015607871019994d80d9... | 663564006  |  1.0  |  8   |\n",
      "| eae27980951a8e176ee6721ba1... | 665082001  |  1.0  |  1   |\n",
      "| eae27980951a8e176ee6721ba1... | 790644001  |  1.0  |  2   |\n",
      "| eae27980951a8e176ee6721ba1... | 732842008  |  1.0  |  3   |\n",
      "| eae27980951a8e176ee6721ba1... | 824079001  |  1.0  |  4   |\n",
      "| eae27980951a8e176ee6721ba1... | 854043006  |  1.0  |  5   |\n",
      "| eae27980951a8e176ee6721ba1... | 658298007  |  1.0  |  6   |\n",
      "| eae27980951a8e176ee6721ba1... | 632832006  |  1.0  |  7   |\n",
      "| eae27980951a8e176ee6721ba1... | 663564006  |  1.0  |  8   |\n",
      "| 77c980e1d7894da46146746d3b... | 665082001  |  1.0  |  1   |\n",
      "| 77c980e1d7894da46146746d3b... | 790644001  |  1.0  |  2   |\n",
      "| 77c980e1d7894da46146746d3b... | 732842008  |  1.0  |  3   |\n",
      "| 77c980e1d7894da46146746d3b... | 824079001  |  1.0  |  4   |\n",
      "| 77c980e1d7894da46146746d3b... | 854043006  |  1.0  |  5   |\n",
      "| 77c980e1d7894da46146746d3b... | 658298007  |  1.0  |  6   |\n",
      "| 77c980e1d7894da46146746d3b... | 632832006  |  1.0  |  7   |\n",
      "| 77c980e1d7894da46146746d3b... | 663564006  |  1.0  |  8   |\n",
      "+-------------------------------+------------+-------+------+\n",
      "[88528 rows x 4 columns]\n",
      "\n"
     ]
    }
   ],
   "source": [
    "name = 'popularity'\n",
    "target = 'dummy'\n",
    "\n",
    "popularity_dummy, _ = model(train_dummy, name, user_id, item_id, target, customers_to_rec, n_rec, n_display)"
   ]
  },
  {
   "cell_type": "markdown",
   "id": "e0c7ca0c",
   "metadata": {},
   "source": [
    "### Train_norm table"
   ]
  },
  {
   "cell_type": "code",
   "execution_count": 57,
   "id": "ca1be122",
   "metadata": {
    "scrolled": false
   },
   "outputs": [
    {
     "data": {
      "text/html": [
       "<pre>Preparing data set.</pre>"
      ],
      "text/plain": [
       "Preparing data set."
      ]
     },
     "metadata": {},
     "output_type": "display_data"
    },
    {
     "data": {
      "text/html": [
       "<pre>    Data has 1319192 observations with 11066 users and 31917 items.</pre>"
      ],
      "text/plain": [
       "    Data has 1319192 observations with 11066 users and 31917 items."
      ]
     },
     "metadata": {},
     "output_type": "display_data"
    },
    {
     "data": {
      "text/html": [
       "<pre>    Data prepared in: 1.64801s</pre>"
      ],
      "text/plain": [
       "    Data prepared in: 1.64801s"
      ]
     },
     "metadata": {},
     "output_type": "display_data"
    },
    {
     "data": {
      "text/html": [
       "<pre>1319192 observations to process; with 31917 unique items.</pre>"
      ],
      "text/plain": [
       "1319192 observations to process; with 31917 unique items."
      ]
     },
     "metadata": {},
     "output_type": "display_data"
    },
    {
     "data": {
      "text/html": [
       "<pre>recommendations finished on 1000/11066 queries. users per second: 9661.18</pre>"
      ],
      "text/plain": [
       "recommendations finished on 1000/11066 queries. users per second: 9661.18"
      ]
     },
     "metadata": {},
     "output_type": "display_data"
    },
    {
     "data": {
      "text/html": [
       "<pre>recommendations finished on 2000/11066 queries. users per second: 11123</pre>"
      ],
      "text/plain": [
       "recommendations finished on 2000/11066 queries. users per second: 11123"
      ]
     },
     "metadata": {},
     "output_type": "display_data"
    },
    {
     "data": {
      "text/html": [
       "<pre>recommendations finished on 3000/11066 queries. users per second: 11885.9</pre>"
      ],
      "text/plain": [
       "recommendations finished on 3000/11066 queries. users per second: 11885.9"
      ]
     },
     "metadata": {},
     "output_type": "display_data"
    },
    {
     "data": {
      "text/html": [
       "<pre>recommendations finished on 4000/11066 queries. users per second: 11928.9</pre>"
      ],
      "text/plain": [
       "recommendations finished on 4000/11066 queries. users per second: 11928.9"
      ]
     },
     "metadata": {},
     "output_type": "display_data"
    },
    {
     "data": {
      "text/html": [
       "<pre>recommendations finished on 5000/11066 queries. users per second: 12200</pre>"
      ],
      "text/plain": [
       "recommendations finished on 5000/11066 queries. users per second: 12200"
      ]
     },
     "metadata": {},
     "output_type": "display_data"
    },
    {
     "data": {
      "text/html": [
       "<pre>recommendations finished on 6000/11066 queries. users per second: 12497.5</pre>"
      ],
      "text/plain": [
       "recommendations finished on 6000/11066 queries. users per second: 12497.5"
      ]
     },
     "metadata": {},
     "output_type": "display_data"
    },
    {
     "data": {
      "text/html": [
       "<pre>recommendations finished on 7000/11066 queries. users per second: 12756.5</pre>"
      ],
      "text/plain": [
       "recommendations finished on 7000/11066 queries. users per second: 12756.5"
      ]
     },
     "metadata": {},
     "output_type": "display_data"
    },
    {
     "data": {
      "text/html": [
       "<pre>recommendations finished on 8000/11066 queries. users per second: 12809.5</pre>"
      ],
      "text/plain": [
       "recommendations finished on 8000/11066 queries. users per second: 12809.5"
      ]
     },
     "metadata": {},
     "output_type": "display_data"
    },
    {
     "data": {
      "text/html": [
       "<pre>recommendations finished on 9000/11066 queries. users per second: 12782.1</pre>"
      ],
      "text/plain": [
       "recommendations finished on 9000/11066 queries. users per second: 12782.1"
      ]
     },
     "metadata": {},
     "output_type": "display_data"
    },
    {
     "data": {
      "text/html": [
       "<pre>recommendations finished on 10000/11066 queries. users per second: 12568.2</pre>"
      ],
      "text/plain": [
       "recommendations finished on 10000/11066 queries. users per second: 12568.2"
      ]
     },
     "metadata": {},
     "output_type": "display_data"
    },
    {
     "data": {
      "text/html": [
       "<pre>recommendations finished on 11000/11066 queries. users per second: 12570.6</pre>"
      ],
      "text/plain": [
       "recommendations finished on 11000/11066 queries. users per second: 12570.6"
      ]
     },
     "metadata": {},
     "output_type": "display_data"
    },
    {
     "name": "stdout",
     "output_type": "stream",
     "text": [
      "+-------------------------------+------------+-------+------+\n",
      "|          customer_id          | article_id | score | rank |\n",
      "+-------------------------------+------------+-------+------+\n",
      "| 250039015607871019994d80d9... | 634786001  |  1.0  |  1   |\n",
      "| 250039015607871019994d80d9... | 787039001  |  1.0  |  2   |\n",
      "| 250039015607871019994d80d9... | 708487003  |  1.0  |  3   |\n",
      "| 250039015607871019994d80d9... | 855809001  |  1.0  |  4   |\n",
      "| 250039015607871019994d80d9... | 782616026  |  1.0  |  5   |\n",
      "| 250039015607871019994d80d9... | 627174001  |  1.0  |  6   |\n",
      "| 250039015607871019994d80d9... | 886603001  |  1.0  |  7   |\n",
      "| 250039015607871019994d80d9... | 810407001  |  1.0  |  8   |\n",
      "| eae27980951a8e176ee6721ba1... | 634786001  |  1.0  |  1   |\n",
      "| eae27980951a8e176ee6721ba1... | 787039001  |  1.0  |  2   |\n",
      "| eae27980951a8e176ee6721ba1... | 708487003  |  1.0  |  3   |\n",
      "| eae27980951a8e176ee6721ba1... | 855809001  |  1.0  |  4   |\n",
      "| eae27980951a8e176ee6721ba1... | 782616026  |  1.0  |  5   |\n",
      "| eae27980951a8e176ee6721ba1... | 627174001  |  1.0  |  6   |\n",
      "| eae27980951a8e176ee6721ba1... | 886603001  |  1.0  |  7   |\n",
      "| eae27980951a8e176ee6721ba1... | 810407001  |  1.0  |  8   |\n",
      "| 77c980e1d7894da46146746d3b... | 634786001  |  1.0  |  1   |\n",
      "| 77c980e1d7894da46146746d3b... | 787039001  |  1.0  |  2   |\n",
      "| 77c980e1d7894da46146746d3b... | 708487003  |  1.0  |  3   |\n",
      "| 77c980e1d7894da46146746d3b... | 855809001  |  1.0  |  4   |\n",
      "| 77c980e1d7894da46146746d3b... | 782616026  |  1.0  |  5   |\n",
      "| 77c980e1d7894da46146746d3b... | 627174001  |  1.0  |  6   |\n",
      "| 77c980e1d7894da46146746d3b... | 886603001  |  1.0  |  7   |\n",
      "| 77c980e1d7894da46146746d3b... | 810407001  |  1.0  |  8   |\n",
      "+-------------------------------+------------+-------+------+\n",
      "[88528 rows x 4 columns]\n",
      "\n"
     ]
    }
   ],
   "source": [
    "name = 'popularity'\n",
    "target = 'scaled_purchase_freq'\n",
    "\n",
    "popularity_normalized, _ = model(train_normalized, name, user_id, item_id, target, customers_to_rec, n_rec, n_display)"
   ]
  },
  {
   "cell_type": "markdown",
   "id": "2d9b6194",
   "metadata": {},
   "source": [
    "## Cosine similarity"
   ]
  },
  {
   "cell_type": "markdown",
   "id": "3f8fa69c",
   "metadata": {},
   "source": [
    "### Train_purchases table"
   ]
  },
  {
   "cell_type": "code",
   "execution_count": 58,
   "id": "bb7106d4",
   "metadata": {
    "scrolled": false
   },
   "outputs": [
    {
     "data": {
      "text/html": [
       "<pre>Preparing data set.</pre>"
      ],
      "text/plain": [
       "Preparing data set."
      ]
     },
     "metadata": {},
     "output_type": "display_data"
    },
    {
     "data": {
      "text/html": [
       "<pre>    Data has 1504763 observations with 11066 users and 72482 items.</pre>"
      ],
      "text/plain": [
       "    Data has 1504763 observations with 11066 users and 72482 items."
      ]
     },
     "metadata": {},
     "output_type": "display_data"
    },
    {
     "data": {
      "text/html": [
       "<pre>    Data prepared in: 1.04585s</pre>"
      ],
      "text/plain": [
       "    Data prepared in: 1.04585s"
      ]
     },
     "metadata": {},
     "output_type": "display_data"
    },
    {
     "data": {
      "text/html": [
       "<pre>Training model from provided data.</pre>"
      ],
      "text/plain": [
       "Training model from provided data."
      ]
     },
     "metadata": {},
     "output_type": "display_data"
    },
    {
     "data": {
      "text/html": [
       "<pre>Gathering per-item and per-user statistics.</pre>"
      ],
      "text/plain": [
       "Gathering per-item and per-user statistics."
      ]
     },
     "metadata": {},
     "output_type": "display_data"
    },
    {
     "data": {
      "text/html": [
       "<pre>+--------------------------------+------------+</pre>"
      ],
      "text/plain": [
       "+--------------------------------+------------+"
      ]
     },
     "metadata": {},
     "output_type": "display_data"
    },
    {
     "data": {
      "text/html": [
       "<pre>| Elapsed Time (Item Statistics) | % Complete |</pre>"
      ],
      "text/plain": [
       "| Elapsed Time (Item Statistics) | % Complete |"
      ]
     },
     "metadata": {},
     "output_type": "display_data"
    },
    {
     "data": {
      "text/html": [
       "<pre>+--------------------------------+------------+</pre>"
      ],
      "text/plain": [
       "+--------------------------------+------------+"
      ]
     },
     "metadata": {},
     "output_type": "display_data"
    },
    {
     "data": {
      "text/html": [
       "<pre>| 11.669ms                       | 9          |</pre>"
      ],
      "text/plain": [
       "| 11.669ms                       | 9          |"
      ]
     },
     "metadata": {},
     "output_type": "display_data"
    },
    {
     "data": {
      "text/html": [
       "<pre>| 34.716ms                       | 100        |</pre>"
      ],
      "text/plain": [
       "| 34.716ms                       | 100        |"
      ]
     },
     "metadata": {},
     "output_type": "display_data"
    },
    {
     "data": {
      "text/html": [
       "<pre>+--------------------------------+------------+</pre>"
      ],
      "text/plain": [
       "+--------------------------------+------------+"
      ]
     },
     "metadata": {},
     "output_type": "display_data"
    },
    {
     "data": {
      "text/html": [
       "<pre>Setting up lookup tables.</pre>"
      ],
      "text/plain": [
       "Setting up lookup tables."
      ]
     },
     "metadata": {},
     "output_type": "display_data"
    },
    {
     "data": {
      "text/html": [
       "<pre>Processing data in 3 passes using dense lookup tables.</pre>"
      ],
      "text/plain": [
       "Processing data in 3 passes using dense lookup tables."
      ]
     },
     "metadata": {},
     "output_type": "display_data"
    },
    {
     "data": {
      "text/html": [
       "<pre>+-------------------------------------+------------------+-----------------+</pre>"
      ],
      "text/plain": [
       "+-------------------------------------+------------------+-----------------+"
      ]
     },
     "metadata": {},
     "output_type": "display_data"
    },
    {
     "data": {
      "text/html": [
       "<pre>| Elapsed Time (Constructing Lookups) | Total % Complete | Items Processed |</pre>"
      ],
      "text/plain": [
       "| Elapsed Time (Constructing Lookups) | Total % Complete | Items Processed |"
      ]
     },
     "metadata": {},
     "output_type": "display_data"
    },
    {
     "data": {
      "text/html": [
       "<pre>+-------------------------------------+------------------+-----------------+</pre>"
      ],
      "text/plain": [
       "+-------------------------------------+------------------+-----------------+"
      ]
     },
     "metadata": {},
     "output_type": "display_data"
    },
    {
     "data": {
      "text/html": [
       "<pre>| 3.60s                               | 0                | 1               |</pre>"
      ],
      "text/plain": [
       "| 3.60s                               | 0                | 1               |"
      ]
     },
     "metadata": {},
     "output_type": "display_data"
    },
    {
     "data": {
      "text/html": [
       "<pre>| 19.74s                              | 33.25            | 24163           |</pre>"
      ],
      "text/plain": [
       "| 19.74s                              | 33.25            | 24163           |"
      ]
     },
     "metadata": {},
     "output_type": "display_data"
    },
    {
     "data": {
      "text/html": [
       "<pre>| 31.64s                              | 66.5             | 48322           |</pre>"
      ],
      "text/plain": [
       "| 31.64s                              | 66.5             | 48322           |"
      ]
     },
     "metadata": {},
     "output_type": "display_data"
    },
    {
     "data": {
      "text/html": [
       "<pre>| 34.92s                              | 100              | 72482           |</pre>"
      ],
      "text/plain": [
       "| 34.92s                              | 100              | 72482           |"
      ]
     },
     "metadata": {},
     "output_type": "display_data"
    },
    {
     "data": {
      "text/html": [
       "<pre>+-------------------------------------+------------------+-----------------+</pre>"
      ],
      "text/plain": [
       "+-------------------------------------+------------------+-----------------+"
      ]
     },
     "metadata": {},
     "output_type": "display_data"
    },
    {
     "data": {
      "text/html": [
       "<pre>Finalizing lookup tables.</pre>"
      ],
      "text/plain": [
       "Finalizing lookup tables."
      ]
     },
     "metadata": {},
     "output_type": "display_data"
    },
    {
     "data": {
      "text/html": [
       "<pre>Generating candidate set for working with new users.</pre>"
      ],
      "text/plain": [
       "Generating candidate set for working with new users."
      ]
     },
     "metadata": {},
     "output_type": "display_data"
    },
    {
     "data": {
      "text/html": [
       "<pre>Finished training in 36.0299s</pre>"
      ],
      "text/plain": [
       "Finished training in 36.0299s"
      ]
     },
     "metadata": {},
     "output_type": "display_data"
    },
    {
     "data": {
      "text/html": [
       "<pre>recommendations finished on 1000/11066 queries. users per second: 2697.15</pre>"
      ],
      "text/plain": [
       "recommendations finished on 1000/11066 queries. users per second: 2697.15"
      ]
     },
     "metadata": {},
     "output_type": "display_data"
    },
    {
     "data": {
      "text/html": [
       "<pre>recommendations finished on 2000/11066 queries. users per second: 2729.04</pre>"
      ],
      "text/plain": [
       "recommendations finished on 2000/11066 queries. users per second: 2729.04"
      ]
     },
     "metadata": {},
     "output_type": "display_data"
    },
    {
     "data": {
      "text/html": [
       "<pre>recommendations finished on 3000/11066 queries. users per second: 2742.11</pre>"
      ],
      "text/plain": [
       "recommendations finished on 3000/11066 queries. users per second: 2742.11"
      ]
     },
     "metadata": {},
     "output_type": "display_data"
    },
    {
     "data": {
      "text/html": [
       "<pre>recommendations finished on 4000/11066 queries. users per second: 2747.69</pre>"
      ],
      "text/plain": [
       "recommendations finished on 4000/11066 queries. users per second: 2747.69"
      ]
     },
     "metadata": {},
     "output_type": "display_data"
    },
    {
     "data": {
      "text/html": [
       "<pre>recommendations finished on 5000/11066 queries. users per second: 2743.35</pre>"
      ],
      "text/plain": [
       "recommendations finished on 5000/11066 queries. users per second: 2743.35"
      ]
     },
     "metadata": {},
     "output_type": "display_data"
    },
    {
     "data": {
      "text/html": [
       "<pre>recommendations finished on 6000/11066 queries. users per second: 2748.35</pre>"
      ],
      "text/plain": [
       "recommendations finished on 6000/11066 queries. users per second: 2748.35"
      ]
     },
     "metadata": {},
     "output_type": "display_data"
    },
    {
     "data": {
      "text/html": [
       "<pre>recommendations finished on 7000/11066 queries. users per second: 2753.52</pre>"
      ],
      "text/plain": [
       "recommendations finished on 7000/11066 queries. users per second: 2753.52"
      ]
     },
     "metadata": {},
     "output_type": "display_data"
    },
    {
     "data": {
      "text/html": [
       "<pre>recommendations finished on 8000/11066 queries. users per second: 2750.2</pre>"
      ],
      "text/plain": [
       "recommendations finished on 8000/11066 queries. users per second: 2750.2"
      ]
     },
     "metadata": {},
     "output_type": "display_data"
    },
    {
     "data": {
      "text/html": [
       "<pre>recommendations finished on 9000/11066 queries. users per second: 2750.27</pre>"
      ],
      "text/plain": [
       "recommendations finished on 9000/11066 queries. users per second: 2750.27"
      ]
     },
     "metadata": {},
     "output_type": "display_data"
    },
    {
     "data": {
      "text/html": [
       "<pre>recommendations finished on 10000/11066 queries. users per second: 2756.31</pre>"
      ],
      "text/plain": [
       "recommendations finished on 10000/11066 queries. users per second: 2756.31"
      ]
     },
     "metadata": {},
     "output_type": "display_data"
    },
    {
     "data": {
      "text/html": [
       "<pre>recommendations finished on 11000/11066 queries. users per second: 2759.68</pre>"
      ],
      "text/plain": [
       "recommendations finished on 11000/11066 queries. users per second: 2759.68"
      ]
     },
     "metadata": {},
     "output_type": "display_data"
    },
    {
     "name": "stdout",
     "output_type": "stream",
     "text": [
      "+-------------------------------+------------+-----------------------+------+\n",
      "|          customer_id          | article_id |         score         | rank |\n",
      "+-------------------------------+------------+-----------------------+------+\n",
      "| 250039015607871019994d80d9... | 611030001  |  0.010002143091435056 |  1   |\n",
      "| 250039015607871019994d80d9... | 506410009  |  0.010002143091435056 |  2   |\n",
      "| 250039015607871019994d80d9... | 866578002  |  0.008726678306250263 |  3   |\n",
      "| 250039015607871019994d80d9... | 844906001  |  0.008699242588427428 |  4   |\n",
      "| 250039015607871019994d80d9... | 832815003  |  0.00792233720957804  |  5   |\n",
      "| 250039015607871019994d80d9... | 801621001  | 0.0076560155093241085 |  6   |\n",
      "| 250039015607871019994d80d9... | 861836006  | 0.0076560155093241085 |  7   |\n",
      "| 250039015607871019994d80d9... | 817130001  | 0.0076560155093241085 |  8   |\n",
      "| eae27980951a8e176ee6721ba1... | 716673001  |  0.017499503336454694 |  1   |\n",
      "| eae27980951a8e176ee6721ba1... | 565379002  |  0.016227803732219496 |  2   |\n",
      "| eae27980951a8e176ee6721ba1... | 573284053  |  0.015047093232472738 |  3   |\n",
      "| eae27980951a8e176ee6721ba1... | 532956002  |   0.0150037920265867  |  4   |\n",
      "| eae27980951a8e176ee6721ba1... | 868672002  |  0.013457668455023514 |  5   |\n",
      "| eae27980951a8e176ee6721ba1... | 802009001  |  0.013457668455023514 |  6   |\n",
      "| eae27980951a8e176ee6721ba1... | 834552006  |  0.013457668455023514 |  7   |\n",
      "| eae27980951a8e176ee6721ba1... | 788261001  |  0.013279928449998823 |  8   |\n",
      "| 77c980e1d7894da46146746d3b... | 706016003  |  0.010356799761454264 |  1   |\n",
      "| 77c980e1d7894da46146746d3b... | 706016006  |  0.010199975356077537 |  2   |\n",
      "| 77c980e1d7894da46146746d3b... | 706016015  |  0.00972578647809151  |  3   |\n",
      "| 77c980e1d7894da46146746d3b... | 806388003  |  0.00926274733665662  |  4   |\n",
      "| 77c980e1d7894da46146746d3b... | 539723001  |  0.00782616077325283  |  5   |\n",
      "| 77c980e1d7894da46146746d3b... | 448509014  |  0.007078907428643642 |  6   |\n",
      "| 77c980e1d7894da46146746d3b... | 539723005  |  0.007067274435972556 |  7   |\n",
      "| 77c980e1d7894da46146746d3b... | 903929002  |  0.006882939888880803 |  8   |\n",
      "+-------------------------------+------------+-----------------------+------+\n",
      "[88528 rows x 4 columns]\n",
      "\n"
     ]
    }
   ],
   "source": [
    "name = 'cosine'\n",
    "target = 'article_purchase_count'\n",
    "\n",
    "cosine_purchase, _ = model(train_purchases, name, user_id, item_id, target, customers_to_rec, n_rec, n_display)"
   ]
  },
  {
   "cell_type": "markdown",
   "id": "c514ec8d",
   "metadata": {},
   "source": [
    "### Train_dummy table"
   ]
  },
  {
   "cell_type": "code",
   "execution_count": 59,
   "id": "c927de06",
   "metadata": {
    "scrolled": true
   },
   "outputs": [
    {
     "data": {
      "text/html": [
       "<pre>Warning: Ignoring columns article_purchase_count;</pre>"
      ],
      "text/plain": [
       "Warning: Ignoring columns article_purchase_count;"
      ]
     },
     "metadata": {},
     "output_type": "display_data"
    },
    {
     "data": {
      "text/html": [
       "<pre>    To use these columns in scoring predictions, use a model that allows the use of additional features.</pre>"
      ],
      "text/plain": [
       "    To use these columns in scoring predictions, use a model that allows the use of additional features."
      ]
     },
     "metadata": {},
     "output_type": "display_data"
    },
    {
     "data": {
      "text/html": [
       "<pre>Preparing data set.</pre>"
      ],
      "text/plain": [
       "Preparing data set."
      ]
     },
     "metadata": {},
     "output_type": "display_data"
    },
    {
     "data": {
      "text/html": [
       "<pre>    Data has 1504763 observations with 11066 users and 72420 items.</pre>"
      ],
      "text/plain": [
       "    Data has 1504763 observations with 11066 users and 72420 items."
      ]
     },
     "metadata": {},
     "output_type": "display_data"
    },
    {
     "data": {
      "text/html": [
       "<pre>    Data prepared in: 0.870572s</pre>"
      ],
      "text/plain": [
       "    Data prepared in: 0.870572s"
      ]
     },
     "metadata": {},
     "output_type": "display_data"
    },
    {
     "data": {
      "text/html": [
       "<pre>Training model from provided data.</pre>"
      ],
      "text/plain": [
       "Training model from provided data."
      ]
     },
     "metadata": {},
     "output_type": "display_data"
    },
    {
     "data": {
      "text/html": [
       "<pre>Gathering per-item and per-user statistics.</pre>"
      ],
      "text/plain": [
       "Gathering per-item and per-user statistics."
      ]
     },
     "metadata": {},
     "output_type": "display_data"
    },
    {
     "data": {
      "text/html": [
       "<pre>+--------------------------------+------------+</pre>"
      ],
      "text/plain": [
       "+--------------------------------+------------+"
      ]
     },
     "metadata": {},
     "output_type": "display_data"
    },
    {
     "data": {
      "text/html": [
       "<pre>| Elapsed Time (Item Statistics) | % Complete |</pre>"
      ],
      "text/plain": [
       "| Elapsed Time (Item Statistics) | % Complete |"
      ]
     },
     "metadata": {},
     "output_type": "display_data"
    },
    {
     "data": {
      "text/html": [
       "<pre>+--------------------------------+------------+</pre>"
      ],
      "text/plain": [
       "+--------------------------------+------------+"
      ]
     },
     "metadata": {},
     "output_type": "display_data"
    },
    {
     "data": {
      "text/html": [
       "<pre>| 2.927ms                        | 9          |</pre>"
      ],
      "text/plain": [
       "| 2.927ms                        | 9          |"
      ]
     },
     "metadata": {},
     "output_type": "display_data"
    },
    {
     "data": {
      "text/html": [
       "<pre>| 20.666ms                       | 100        |</pre>"
      ],
      "text/plain": [
       "| 20.666ms                       | 100        |"
      ]
     },
     "metadata": {},
     "output_type": "display_data"
    },
    {
     "data": {
      "text/html": [
       "<pre>+--------------------------------+------------+</pre>"
      ],
      "text/plain": [
       "+--------------------------------+------------+"
      ]
     },
     "metadata": {},
     "output_type": "display_data"
    },
    {
     "data": {
      "text/html": [
       "<pre>Setting up lookup tables.</pre>"
      ],
      "text/plain": [
       "Setting up lookup tables."
      ]
     },
     "metadata": {},
     "output_type": "display_data"
    },
    {
     "data": {
      "text/html": [
       "<pre>Processing data in 3 passes using dense lookup tables.</pre>"
      ],
      "text/plain": [
       "Processing data in 3 passes using dense lookup tables."
      ]
     },
     "metadata": {},
     "output_type": "display_data"
    },
    {
     "data": {
      "text/html": [
       "<pre>+-------------------------------------+------------------+-----------------+</pre>"
      ],
      "text/plain": [
       "+-------------------------------------+------------------+-----------------+"
      ]
     },
     "metadata": {},
     "output_type": "display_data"
    },
    {
     "data": {
      "text/html": [
       "<pre>| Elapsed Time (Constructing Lookups) | Total % Complete | Items Processed |</pre>"
      ],
      "text/plain": [
       "| Elapsed Time (Constructing Lookups) | Total % Complete | Items Processed |"
      ]
     },
     "metadata": {},
     "output_type": "display_data"
    },
    {
     "data": {
      "text/html": [
       "<pre>+-------------------------------------+------------------+-----------------+</pre>"
      ],
      "text/plain": [
       "+-------------------------------------+------------------+-----------------+"
      ]
     },
     "metadata": {},
     "output_type": "display_data"
    },
    {
     "data": {
      "text/html": [
       "<pre>| 3.33s                               | 0                | 1               |</pre>"
      ],
      "text/plain": [
       "| 3.33s                               | 0                | 1               |"
      ]
     },
     "metadata": {},
     "output_type": "display_data"
    },
    {
     "data": {
      "text/html": [
       "<pre>| 14.05s                              | 33.25            | 24143           |</pre>"
      ],
      "text/plain": [
       "| 14.05s                              | 33.25            | 24143           |"
      ]
     },
     "metadata": {},
     "output_type": "display_data"
    },
    {
     "data": {
      "text/html": [
       "<pre>| 23.81s                              | 66.5             | 48282           |</pre>"
      ],
      "text/plain": [
       "| 23.81s                              | 66.5             | 48282           |"
      ]
     },
     "metadata": {},
     "output_type": "display_data"
    },
    {
     "data": {
      "text/html": [
       "<pre>| 27.29s                              | 100              | 72420           |</pre>"
      ],
      "text/plain": [
       "| 27.29s                              | 100              | 72420           |"
      ]
     },
     "metadata": {},
     "output_type": "display_data"
    },
    {
     "data": {
      "text/html": [
       "<pre>+-------------------------------------+------------------+-----------------+</pre>"
      ],
      "text/plain": [
       "+-------------------------------------+------------------+-----------------+"
      ]
     },
     "metadata": {},
     "output_type": "display_data"
    },
    {
     "data": {
      "text/html": [
       "<pre>Finalizing lookup tables.</pre>"
      ],
      "text/plain": [
       "Finalizing lookup tables."
      ]
     },
     "metadata": {},
     "output_type": "display_data"
    },
    {
     "data": {
      "text/html": [
       "<pre>Generating candidate set for working with new users.</pre>"
      ],
      "text/plain": [
       "Generating candidate set for working with new users."
      ]
     },
     "metadata": {},
     "output_type": "display_data"
    },
    {
     "data": {
      "text/html": [
       "<pre>Finished training in 27.386s</pre>"
      ],
      "text/plain": [
       "Finished training in 27.386s"
      ]
     },
     "metadata": {},
     "output_type": "display_data"
    },
    {
     "data": {
      "text/html": [
       "<pre>recommendations finished on 1000/11066 queries. users per second: 2815.91</pre>"
      ],
      "text/plain": [
       "recommendations finished on 1000/11066 queries. users per second: 2815.91"
      ]
     },
     "metadata": {},
     "output_type": "display_data"
    },
    {
     "data": {
      "text/html": [
       "<pre>recommendations finished on 2000/11066 queries. users per second: 2859.27</pre>"
      ],
      "text/plain": [
       "recommendations finished on 2000/11066 queries. users per second: 2859.27"
      ]
     },
     "metadata": {},
     "output_type": "display_data"
    },
    {
     "data": {
      "text/html": [
       "<pre>recommendations finished on 3000/11066 queries. users per second: 2863.43</pre>"
      ],
      "text/plain": [
       "recommendations finished on 3000/11066 queries. users per second: 2863.43"
      ]
     },
     "metadata": {},
     "output_type": "display_data"
    },
    {
     "data": {
      "text/html": [
       "<pre>recommendations finished on 4000/11066 queries. users per second: 2863.95</pre>"
      ],
      "text/plain": [
       "recommendations finished on 4000/11066 queries. users per second: 2863.95"
      ]
     },
     "metadata": {},
     "output_type": "display_data"
    },
    {
     "data": {
      "text/html": [
       "<pre>recommendations finished on 5000/11066 queries. users per second: 2695.51</pre>"
      ],
      "text/plain": [
       "recommendations finished on 5000/11066 queries. users per second: 2695.51"
      ]
     },
     "metadata": {},
     "output_type": "display_data"
    },
    {
     "data": {
      "text/html": [
       "<pre>recommendations finished on 6000/11066 queries. users per second: 2647.27</pre>"
      ],
      "text/plain": [
       "recommendations finished on 6000/11066 queries. users per second: 2647.27"
      ]
     },
     "metadata": {},
     "output_type": "display_data"
    },
    {
     "data": {
      "text/html": [
       "<pre>recommendations finished on 7000/11066 queries. users per second: 2582.38</pre>"
      ],
      "text/plain": [
       "recommendations finished on 7000/11066 queries. users per second: 2582.38"
      ]
     },
     "metadata": {},
     "output_type": "display_data"
    },
    {
     "data": {
      "text/html": [
       "<pre>recommendations finished on 8000/11066 queries. users per second: 2563.8</pre>"
      ],
      "text/plain": [
       "recommendations finished on 8000/11066 queries. users per second: 2563.8"
      ]
     },
     "metadata": {},
     "output_type": "display_data"
    },
    {
     "data": {
      "text/html": [
       "<pre>recommendations finished on 9000/11066 queries. users per second: 2548.12</pre>"
      ],
      "text/plain": [
       "recommendations finished on 9000/11066 queries. users per second: 2548.12"
      ]
     },
     "metadata": {},
     "output_type": "display_data"
    },
    {
     "data": {
      "text/html": [
       "<pre>recommendations finished on 10000/11066 queries. users per second: 2505.41</pre>"
      ],
      "text/plain": [
       "recommendations finished on 10000/11066 queries. users per second: 2505.41"
      ]
     },
     "metadata": {},
     "output_type": "display_data"
    },
    {
     "data": {
      "text/html": [
       "<pre>recommendations finished on 11000/11066 queries. users per second: 2497.24</pre>"
      ],
      "text/plain": [
       "recommendations finished on 11000/11066 queries. users per second: 2497.24"
      ]
     },
     "metadata": {},
     "output_type": "display_data"
    },
    {
     "name": "stdout",
     "output_type": "stream",
     "text": [
      "+-------------------------------+------------+-----------------------+------+\n",
      "|          customer_id          | article_id |         score         | rank |\n",
      "+-------------------------------+------------+-----------------------+------+\n",
      "| 250039015607871019994d80d9... | 706016001  |  0.008599273968433989 |  1   |\n",
      "| 250039015607871019994d80d9... | 610776002  | 0.0072324738122414856 |  2   |\n",
      "| 250039015607871019994d80d9... | 693651005  |  0.007073987653290016 |  3   |\n",
      "| 250039015607871019994d80d9... | 820190001  |  0.007073987653290016 |  4   |\n",
      "| 250039015607871019994d80d9... | 663277003  |  0.006845822800760684 |  5   |\n",
      "| 250039015607871019994d80d9... | 706016002  |  0.006827744452849678 |  6   |\n",
      "| 250039015607871019994d80d9... | 633219005  |  0.006676051495731741 |  7   |\n",
      "| 250039015607871019994d80d9... | 697531002  |  0.006676051495731741 |  8   |\n",
      "| eae27980951a8e176ee6721ba1... | 572797001  |  0.014213631195681435 |  1   |\n",
      "| eae27980951a8e176ee6721ba1... | 565379002  |  0.011668566082205092 |  2   |\n",
      "| eae27980951a8e176ee6721ba1... | 832815003  |  0.010921652827944075 |  3   |\n",
      "| eae27980951a8e176ee6721ba1... | 892700001  |  0.010921652827944075 |  4   |\n",
      "| eae27980951a8e176ee6721ba1... | 844906001  |  0.010921652827944075 |  5   |\n",
      "| eae27980951a8e176ee6721ba1... | 866578002  |  0.010921652827944075 |  6   |\n",
      "| eae27980951a8e176ee6721ba1... | 788261001  |  0.010638524379049028 |  7   |\n",
      "| eae27980951a8e176ee6721ba1... | 868230019  |  0.010255677359444755 |  8   |\n",
      "| 77c980e1d7894da46146746d3b... | 759871002  |  0.012111474108952348 |  1   |\n",
      "| 77c980e1d7894da46146746d3b... | 732712002  |  0.009397365393177155 |  2   |\n",
      "| 77c980e1d7894da46146746d3b... | 871005003  |  0.009041308395324214 |  3   |\n",
      "| 77c980e1d7894da46146746d3b... | 706016003  |  0.008914640834254603 |  4   |\n",
      "| 77c980e1d7894da46146746d3b... | 610776002  |  0.008617644668907248 |  5   |\n",
      "| 77c980e1d7894da46146746d3b... | 610776001  | 0.0068862845179855185 |  6   |\n",
      "| 77c980e1d7894da46146746d3b... | 720125001  |  0.006883688511386994 |  7   |\n",
      "| 77c980e1d7894da46146746d3b... | 893106001  |  0.006547794547132267 |  8   |\n",
      "+-------------------------------+------------+-----------------------+------+\n",
      "[88528 rows x 4 columns]\n",
      "\n"
     ]
    }
   ],
   "source": [
    "name = 'cosine'\n",
    "target = 'dummy'\n",
    "\n",
    "cosine_dummy, _ = model(train_dummy, name, user_id, item_id, target, customers_to_rec, n_rec, n_display)\n"
   ]
  },
  {
   "cell_type": "markdown",
   "id": "c7693f9b",
   "metadata": {},
   "source": [
    "### Train_normalized table"
   ]
  },
  {
   "cell_type": "code",
   "execution_count": 60,
   "id": "9d7c4c86",
   "metadata": {
    "scrolled": true
   },
   "outputs": [
    {
     "data": {
      "text/html": [
       "<pre>Preparing data set.</pre>"
      ],
      "text/plain": [
       "Preparing data set."
      ]
     },
     "metadata": {},
     "output_type": "display_data"
    },
    {
     "data": {
      "text/html": [
       "<pre>    Data has 1319192 observations with 11066 users and 31917 items.</pre>"
      ],
      "text/plain": [
       "    Data has 1319192 observations with 11066 users and 31917 items."
      ]
     },
     "metadata": {},
     "output_type": "display_data"
    },
    {
     "data": {
      "text/html": [
       "<pre>    Data prepared in: 0.920824s</pre>"
      ],
      "text/plain": [
       "    Data prepared in: 0.920824s"
      ]
     },
     "metadata": {},
     "output_type": "display_data"
    },
    {
     "data": {
      "text/html": [
       "<pre>Training model from provided data.</pre>"
      ],
      "text/plain": [
       "Training model from provided data."
      ]
     },
     "metadata": {},
     "output_type": "display_data"
    },
    {
     "data": {
      "text/html": [
       "<pre>Gathering per-item and per-user statistics.</pre>"
      ],
      "text/plain": [
       "Gathering per-item and per-user statistics."
      ]
     },
     "metadata": {},
     "output_type": "display_data"
    },
    {
     "data": {
      "text/html": [
       "<pre>+--------------------------------+------------+</pre>"
      ],
      "text/plain": [
       "+--------------------------------+------------+"
      ]
     },
     "metadata": {},
     "output_type": "display_data"
    },
    {
     "data": {
      "text/html": [
       "<pre>| Elapsed Time (Item Statistics) | % Complete |</pre>"
      ],
      "text/plain": [
       "| Elapsed Time (Item Statistics) | % Complete |"
      ]
     },
     "metadata": {},
     "output_type": "display_data"
    },
    {
     "data": {
      "text/html": [
       "<pre>+--------------------------------+------------+</pre>"
      ],
      "text/plain": [
       "+--------------------------------+------------+"
      ]
     },
     "metadata": {},
     "output_type": "display_data"
    },
    {
     "data": {
      "text/html": [
       "<pre>| 4.559ms                        | 9          |</pre>"
      ],
      "text/plain": [
       "| 4.559ms                        | 9          |"
      ]
     },
     "metadata": {},
     "output_type": "display_data"
    },
    {
     "data": {
      "text/html": [
       "<pre>| 41.084ms                       | 100        |</pre>"
      ],
      "text/plain": [
       "| 41.084ms                       | 100        |"
      ]
     },
     "metadata": {},
     "output_type": "display_data"
    },
    {
     "data": {
      "text/html": [
       "<pre>+--------------------------------+------------+</pre>"
      ],
      "text/plain": [
       "+--------------------------------+------------+"
      ]
     },
     "metadata": {},
     "output_type": "display_data"
    },
    {
     "data": {
      "text/html": [
       "<pre>Setting up lookup tables.</pre>"
      ],
      "text/plain": [
       "Setting up lookup tables."
      ]
     },
     "metadata": {},
     "output_type": "display_data"
    },
    {
     "data": {
      "text/html": [
       "<pre>Processing data in one pass using dense lookup tables.</pre>"
      ],
      "text/plain": [
       "Processing data in one pass using dense lookup tables."
      ]
     },
     "metadata": {},
     "output_type": "display_data"
    },
    {
     "data": {
      "text/html": [
       "<pre>+-------------------------------------+------------------+-----------------+</pre>"
      ],
      "text/plain": [
       "+-------------------------------------+------------------+-----------------+"
      ]
     },
     "metadata": {},
     "output_type": "display_data"
    },
    {
     "data": {
      "text/html": [
       "<pre>| Elapsed Time (Constructing Lookups) | Total % Complete | Items Processed |</pre>"
      ],
      "text/plain": [
       "| Elapsed Time (Constructing Lookups) | Total % Complete | Items Processed |"
      ]
     },
     "metadata": {},
     "output_type": "display_data"
    },
    {
     "data": {
      "text/html": [
       "<pre>+-------------------------------------+------------------+-----------------+</pre>"
      ],
      "text/plain": [
       "+-------------------------------------+------------------+-----------------+"
      ]
     },
     "metadata": {},
     "output_type": "display_data"
    },
    {
     "data": {
      "text/html": [
       "<pre>| 1.66s                               | 0                | 8               |</pre>"
      ],
      "text/plain": [
       "| 1.66s                               | 0                | 8               |"
      ]
     },
     "metadata": {},
     "output_type": "display_data"
    },
    {
     "data": {
      "text/html": [
       "<pre>| 5.86s                               | 100              | 31917           |</pre>"
      ],
      "text/plain": [
       "| 5.86s                               | 100              | 31917           |"
      ]
     },
     "metadata": {},
     "output_type": "display_data"
    },
    {
     "data": {
      "text/html": [
       "<pre>+-------------------------------------+------------------+-----------------+</pre>"
      ],
      "text/plain": [
       "+-------------------------------------+------------------+-----------------+"
      ]
     },
     "metadata": {},
     "output_type": "display_data"
    },
    {
     "data": {
      "text/html": [
       "<pre>Finalizing lookup tables.</pre>"
      ],
      "text/plain": [
       "Finalizing lookup tables."
      ]
     },
     "metadata": {},
     "output_type": "display_data"
    },
    {
     "data": {
      "text/html": [
       "<pre>Generating candidate set for working with new users.</pre>"
      ],
      "text/plain": [
       "Generating candidate set for working with new users."
      ]
     },
     "metadata": {},
     "output_type": "display_data"
    },
    {
     "data": {
      "text/html": [
       "<pre>Finished training in 5.92571s</pre>"
      ],
      "text/plain": [
       "Finished training in 5.92571s"
      ]
     },
     "metadata": {},
     "output_type": "display_data"
    },
    {
     "data": {
      "text/html": [
       "<pre>recommendations finished on 1000/11066 queries. users per second: 10559</pre>"
      ],
      "text/plain": [
       "recommendations finished on 1000/11066 queries. users per second: 10559"
      ]
     },
     "metadata": {},
     "output_type": "display_data"
    },
    {
     "data": {
      "text/html": [
       "<pre>recommendations finished on 2000/11066 queries. users per second: 10949.8</pre>"
      ],
      "text/plain": [
       "recommendations finished on 2000/11066 queries. users per second: 10949.8"
      ]
     },
     "metadata": {},
     "output_type": "display_data"
    },
    {
     "data": {
      "text/html": [
       "<pre>recommendations finished on 3000/11066 queries. users per second: 10955.3</pre>"
      ],
      "text/plain": [
       "recommendations finished on 3000/11066 queries. users per second: 10955.3"
      ]
     },
     "metadata": {},
     "output_type": "display_data"
    },
    {
     "data": {
      "text/html": [
       "<pre>recommendations finished on 4000/11066 queries. users per second: 10938.1</pre>"
      ],
      "text/plain": [
       "recommendations finished on 4000/11066 queries. users per second: 10938.1"
      ]
     },
     "metadata": {},
     "output_type": "display_data"
    },
    {
     "data": {
      "text/html": [
       "<pre>recommendations finished on 5000/11066 queries. users per second: 10879.2</pre>"
      ],
      "text/plain": [
       "recommendations finished on 5000/11066 queries. users per second: 10879.2"
      ]
     },
     "metadata": {},
     "output_type": "display_data"
    },
    {
     "data": {
      "text/html": [
       "<pre>recommendations finished on 6000/11066 queries. users per second: 10892.4</pre>"
      ],
      "text/plain": [
       "recommendations finished on 6000/11066 queries. users per second: 10892.4"
      ]
     },
     "metadata": {},
     "output_type": "display_data"
    },
    {
     "data": {
      "text/html": [
       "<pre>recommendations finished on 7000/11066 queries. users per second: 10917.1</pre>"
      ],
      "text/plain": [
       "recommendations finished on 7000/11066 queries. users per second: 10917.1"
      ]
     },
     "metadata": {},
     "output_type": "display_data"
    },
    {
     "data": {
      "text/html": [
       "<pre>recommendations finished on 8000/11066 queries. users per second: 10877.3</pre>"
      ],
      "text/plain": [
       "recommendations finished on 8000/11066 queries. users per second: 10877.3"
      ]
     },
     "metadata": {},
     "output_type": "display_data"
    },
    {
     "data": {
      "text/html": [
       "<pre>recommendations finished on 9000/11066 queries. users per second: 10867</pre>"
      ],
      "text/plain": [
       "recommendations finished on 9000/11066 queries. users per second: 10867"
      ]
     },
     "metadata": {},
     "output_type": "display_data"
    },
    {
     "data": {
      "text/html": [
       "<pre>recommendations finished on 10000/11066 queries. users per second: 10857.5</pre>"
      ],
      "text/plain": [
       "recommendations finished on 10000/11066 queries. users per second: 10857.5"
      ]
     },
     "metadata": {},
     "output_type": "display_data"
    },
    {
     "data": {
      "text/html": [
       "<pre>recommendations finished on 11000/11066 queries. users per second: 10865.9</pre>"
      ],
      "text/plain": [
       "recommendations finished on 11000/11066 queries. users per second: 10865.9"
      ]
     },
     "metadata": {},
     "output_type": "display_data"
    },
    {
     "name": "stdout",
     "output_type": "stream",
     "text": [
      "+-------------------------------+------------+-----------------------+------+\n",
      "|          customer_id          | article_id |         score         | rank |\n",
      "+-------------------------------+------------+-----------------------+------+\n",
      "| 250039015607871019994d80d9... | 827500005  |  0.004201680672268907 |  1   |\n",
      "| 250039015607871019994d80d9... | 638355009  |  0.004201680672268907 |  2   |\n",
      "| 250039015607871019994d80d9... | 821911001  |  0.004201680672268907 |  3   |\n",
      "| 250039015607871019994d80d9... | 806243004  | 0.0038557267990432867 |  4   |\n",
      "| 250039015607871019994d80d9... | 654758001  |  0.003758097396177404 |  5   |\n",
      "| 250039015607871019994d80d9... | 747204008  |  0.003176172240441587 |  6   |\n",
      "| 250039015607871019994d80d9... | 847086001  | 0.0029710370953343495 |  7   |\n",
      "| 250039015607871019994d80d9... | 688764001  | 0.0029710370953343495 |  8   |\n",
      "| eae27980951a8e176ee6721ba1... | 783707151  |  0.007011891797531483 |  1   |\n",
      "| eae27980951a8e176ee6721ba1... | 188183009  |  0.007011891797531483 |  2   |\n",
      "| eae27980951a8e176ee6721ba1... | 309864012  |  0.007011891797531483 |  3   |\n",
      "| eae27980951a8e176ee6721ba1... | 575347010  |  0.007011891797531483 |  4   |\n",
      "| eae27980951a8e176ee6721ba1... | 868283001  |  0.004958155543305153 |  5   |\n",
      "| eae27980951a8e176ee6721ba1... | 707983002  |  0.004958155543305153 |  6   |\n",
      "| eae27980951a8e176ee6721ba1... | 849883001  |  0.004958155543305153 |  7   |\n",
      "| eae27980951a8e176ee6721ba1... | 708466001  |  0.004958155543305153 |  8   |\n",
      "| 77c980e1d7894da46146746d3b... | 647431001  | 0.0037248403795303838 |  1   |\n",
      "| 77c980e1d7894da46146746d3b... | 850549001  | 0.0037248403795303838 |  2   |\n",
      "| 77c980e1d7894da46146746d3b... | 874547004  | 0.0037248403795303838 |  3   |\n",
      "| 77c980e1d7894da46146746d3b... | 760667004  | 0.0037248403795303838 |  4   |\n",
      "| 77c980e1d7894da46146746d3b... | 617534018  | 0.0037248403795303838 |  5   |\n",
      "| 77c980e1d7894da46146746d3b... | 833973004  | 0.0037248403795303838 |  6   |\n",
      "| 77c980e1d7894da46146746d3b... | 811913007  | 0.0037248403795303838 |  7   |\n",
      "| 77c980e1d7894da46146746d3b... | 739529008  | 0.0037248403795303838 |  8   |\n",
      "+-------------------------------+------------+-----------------------+------+\n",
      "[88528 rows x 4 columns]\n",
      "\n"
     ]
    }
   ],
   "source": [
    "name = 'cosine'\n",
    "target = 'scaled_purchase_freq'\n",
    "\n",
    "cosine_normalized, _ = model(train_normalized, name, user_id, item_id, target, customers_to_rec, n_rec, n_display)"
   ]
  },
  {
   "cell_type": "markdown",
   "id": "359db3a8",
   "metadata": {},
   "source": [
    "## Pearson model"
   ]
  },
  {
   "cell_type": "markdown",
   "id": "5bd755c9",
   "metadata": {},
   "source": [
    "### Train purchases table"
   ]
  },
  {
   "cell_type": "code",
   "execution_count": 61,
   "id": "97282718",
   "metadata": {
    "scrolled": true
   },
   "outputs": [
    {
     "data": {
      "text/html": [
       "<pre>Preparing data set.</pre>"
      ],
      "text/plain": [
       "Preparing data set."
      ]
     },
     "metadata": {},
     "output_type": "display_data"
    },
    {
     "data": {
      "text/html": [
       "<pre>    Data has 1504763 observations with 11066 users and 72482 items.</pre>"
      ],
      "text/plain": [
       "    Data has 1504763 observations with 11066 users and 72482 items."
      ]
     },
     "metadata": {},
     "output_type": "display_data"
    },
    {
     "data": {
      "text/html": [
       "<pre>    Data prepared in: 0.86829s</pre>"
      ],
      "text/plain": [
       "    Data prepared in: 0.86829s"
      ]
     },
     "metadata": {},
     "output_type": "display_data"
    },
    {
     "data": {
      "text/html": [
       "<pre>Training model from provided data.</pre>"
      ],
      "text/plain": [
       "Training model from provided data."
      ]
     },
     "metadata": {},
     "output_type": "display_data"
    },
    {
     "data": {
      "text/html": [
       "<pre>Gathering per-item and per-user statistics.</pre>"
      ],
      "text/plain": [
       "Gathering per-item and per-user statistics."
      ]
     },
     "metadata": {},
     "output_type": "display_data"
    },
    {
     "data": {
      "text/html": [
       "<pre>+--------------------------------+------------+</pre>"
      ],
      "text/plain": [
       "+--------------------------------+------------+"
      ]
     },
     "metadata": {},
     "output_type": "display_data"
    },
    {
     "data": {
      "text/html": [
       "<pre>| Elapsed Time (Item Statistics) | % Complete |</pre>"
      ],
      "text/plain": [
       "| Elapsed Time (Item Statistics) | % Complete |"
      ]
     },
     "metadata": {},
     "output_type": "display_data"
    },
    {
     "data": {
      "text/html": [
       "<pre>+--------------------------------+------------+</pre>"
      ],
      "text/plain": [
       "+--------------------------------+------------+"
      ]
     },
     "metadata": {},
     "output_type": "display_data"
    },
    {
     "data": {
      "text/html": [
       "<pre>| 4.798ms                        | 9          |</pre>"
      ],
      "text/plain": [
       "| 4.798ms                        | 9          |"
      ]
     },
     "metadata": {},
     "output_type": "display_data"
    },
    {
     "data": {
      "text/html": [
       "<pre>| 42.251ms                       | 100        |</pre>"
      ],
      "text/plain": [
       "| 42.251ms                       | 100        |"
      ]
     },
     "metadata": {},
     "output_type": "display_data"
    },
    {
     "data": {
      "text/html": [
       "<pre>+--------------------------------+------------+</pre>"
      ],
      "text/plain": [
       "+--------------------------------+------------+"
      ]
     },
     "metadata": {},
     "output_type": "display_data"
    },
    {
     "data": {
      "text/html": [
       "<pre>Setting up lookup tables.</pre>"
      ],
      "text/plain": [
       "Setting up lookup tables."
      ]
     },
     "metadata": {},
     "output_type": "display_data"
    },
    {
     "data": {
      "text/html": [
       "<pre>Processing data in 3 passes using dense lookup tables.</pre>"
      ],
      "text/plain": [
       "Processing data in 3 passes using dense lookup tables."
      ]
     },
     "metadata": {},
     "output_type": "display_data"
    },
    {
     "data": {
      "text/html": [
       "<pre>+-------------------------------------+------------------+-----------------+</pre>"
      ],
      "text/plain": [
       "+-------------------------------------+------------------+-----------------+"
      ]
     },
     "metadata": {},
     "output_type": "display_data"
    },
    {
     "data": {
      "text/html": [
       "<pre>| Elapsed Time (Constructing Lookups) | Total % Complete | Items Processed |</pre>"
      ],
      "text/plain": [
       "| Elapsed Time (Constructing Lookups) | Total % Complete | Items Processed |"
      ]
     },
     "metadata": {},
     "output_type": "display_data"
    },
    {
     "data": {
      "text/html": [
       "<pre>+-------------------------------------+------------------+-----------------+</pre>"
      ],
      "text/plain": [
       "+-------------------------------------+------------------+-----------------+"
      ]
     },
     "metadata": {},
     "output_type": "display_data"
    },
    {
     "data": {
      "text/html": [
       "<pre>| 3.47s                               | 0                | 1               |</pre>"
      ],
      "text/plain": [
       "| 3.47s                               | 0                | 1               |"
      ]
     },
     "metadata": {},
     "output_type": "display_data"
    },
    {
     "data": {
      "text/html": [
       "<pre>| 6.47s                               | 30.25            | 22020           |</pre>"
      ],
      "text/plain": [
       "| 6.47s                               | 30.25            | 22020           |"
      ]
     },
     "metadata": {},
     "output_type": "display_data"
    },
    {
     "data": {
      "text/html": [
       "<pre>| 15.57s                              | 33.25            | 24161           |</pre>"
      ],
      "text/plain": [
       "| 15.57s                              | 33.25            | 24161           |"
      ]
     },
     "metadata": {},
     "output_type": "display_data"
    },
    {
     "data": {
      "text/html": [
       "<pre>| 24.33s                              | 66.5             | 48321           |</pre>"
      ],
      "text/plain": [
       "| 24.33s                              | 66.5             | 48321           |"
      ]
     },
     "metadata": {},
     "output_type": "display_data"
    },
    {
     "data": {
      "text/html": [
       "<pre>| 27.80s                              | 100              | 72482           |</pre>"
      ],
      "text/plain": [
       "| 27.80s                              | 100              | 72482           |"
      ]
     },
     "metadata": {},
     "output_type": "display_data"
    },
    {
     "data": {
      "text/html": [
       "<pre>+-------------------------------------+------------------+-----------------+</pre>"
      ],
      "text/plain": [
       "+-------------------------------------+------------------+-----------------+"
      ]
     },
     "metadata": {},
     "output_type": "display_data"
    },
    {
     "data": {
      "text/html": [
       "<pre>Finalizing lookup tables.</pre>"
      ],
      "text/plain": [
       "Finalizing lookup tables."
      ]
     },
     "metadata": {},
     "output_type": "display_data"
    },
    {
     "data": {
      "text/html": [
       "<pre>Generating candidate set for working with new users.</pre>"
      ],
      "text/plain": [
       "Generating candidate set for working with new users."
      ]
     },
     "metadata": {},
     "output_type": "display_data"
    },
    {
     "data": {
      "text/html": [
       "<pre>Finished training in 27.8929s</pre>"
      ],
      "text/plain": [
       "Finished training in 27.8929s"
      ]
     },
     "metadata": {},
     "output_type": "display_data"
    },
    {
     "data": {
      "text/html": [
       "<pre>recommendations finished on 1000/11066 queries. users per second: 2605.65</pre>"
      ],
      "text/plain": [
       "recommendations finished on 1000/11066 queries. users per second: 2605.65"
      ]
     },
     "metadata": {},
     "output_type": "display_data"
    },
    {
     "data": {
      "text/html": [
       "<pre>recommendations finished on 2000/11066 queries. users per second: 2651.18</pre>"
      ],
      "text/plain": [
       "recommendations finished on 2000/11066 queries. users per second: 2651.18"
      ]
     },
     "metadata": {},
     "output_type": "display_data"
    },
    {
     "data": {
      "text/html": [
       "<pre>recommendations finished on 3000/11066 queries. users per second: 2667.15</pre>"
      ],
      "text/plain": [
       "recommendations finished on 3000/11066 queries. users per second: 2667.15"
      ]
     },
     "metadata": {},
     "output_type": "display_data"
    },
    {
     "data": {
      "text/html": [
       "<pre>recommendations finished on 4000/11066 queries. users per second: 2671.66</pre>"
      ],
      "text/plain": [
       "recommendations finished on 4000/11066 queries. users per second: 2671.66"
      ]
     },
     "metadata": {},
     "output_type": "display_data"
    },
    {
     "data": {
      "text/html": [
       "<pre>recommendations finished on 5000/11066 queries. users per second: 2670.71</pre>"
      ],
      "text/plain": [
       "recommendations finished on 5000/11066 queries. users per second: 2670.71"
      ]
     },
     "metadata": {},
     "output_type": "display_data"
    },
    {
     "data": {
      "text/html": [
       "<pre>recommendations finished on 6000/11066 queries. users per second: 2672.3</pre>"
      ],
      "text/plain": [
       "recommendations finished on 6000/11066 queries. users per second: 2672.3"
      ]
     },
     "metadata": {},
     "output_type": "display_data"
    },
    {
     "data": {
      "text/html": [
       "<pre>recommendations finished on 7000/11066 queries. users per second: 2676.37</pre>"
      ],
      "text/plain": [
       "recommendations finished on 7000/11066 queries. users per second: 2676.37"
      ]
     },
     "metadata": {},
     "output_type": "display_data"
    },
    {
     "data": {
      "text/html": [
       "<pre>recommendations finished on 8000/11066 queries. users per second: 2672.06</pre>"
      ],
      "text/plain": [
       "recommendations finished on 8000/11066 queries. users per second: 2672.06"
      ]
     },
     "metadata": {},
     "output_type": "display_data"
    },
    {
     "data": {
      "text/html": [
       "<pre>recommendations finished on 9000/11066 queries. users per second: 2617.82</pre>"
      ],
      "text/plain": [
       "recommendations finished on 9000/11066 queries. users per second: 2617.82"
      ]
     },
     "metadata": {},
     "output_type": "display_data"
    },
    {
     "data": {
      "text/html": [
       "<pre>recommendations finished on 10000/11066 queries. users per second: 2582.14</pre>"
      ],
      "text/plain": [
       "recommendations finished on 10000/11066 queries. users per second: 2582.14"
      ]
     },
     "metadata": {},
     "output_type": "display_data"
    },
    {
     "data": {
      "text/html": [
       "<pre>recommendations finished on 11000/11066 queries. users per second: 2574.22</pre>"
      ],
      "text/plain": [
       "recommendations finished on 11000/11066 queries. users per second: 2574.22"
      ]
     },
     "metadata": {},
     "output_type": "display_data"
    },
    {
     "name": "stdout",
     "output_type": "stream",
     "text": [
      "+-------------------------------+------------+-------------------+------+\n",
      "|          customer_id          | article_id |       score       | rank |\n",
      "+-------------------------------+------------+-------------------+------+\n",
      "| 250039015607871019994d80d9... | 554141018  |        8.0        |  1   |\n",
      "| 250039015607871019994d80d9... | 822161001  |        5.0        |  2   |\n",
      "| 250039015607871019994d80d9... | 653358001  |        4.5        |  3   |\n",
      "| 250039015607871019994d80d9... | 618112001  |        4.0        |  4   |\n",
      "| 250039015607871019994d80d9... | 644032001  |        4.0        |  5   |\n",
      "| 250039015607871019994d80d9... | 652671001  |        4.0        |  6   |\n",
      "| 250039015607871019994d80d9... | 237222016  |        4.0        |  7   |\n",
      "| 250039015607871019994d80d9... | 703737003  |        4.0        |  8   |\n",
      "| eae27980951a8e176ee6721ba1... | 554141018  |        8.0        |  1   |\n",
      "| eae27980951a8e176ee6721ba1... | 822161001  |        5.0        |  2   |\n",
      "| eae27980951a8e176ee6721ba1... | 653358001  |        4.5        |  3   |\n",
      "| eae27980951a8e176ee6721ba1... | 644032001  |        4.0        |  4   |\n",
      "| eae27980951a8e176ee6721ba1... | 652671001  |        4.0        |  5   |\n",
      "| eae27980951a8e176ee6721ba1... | 237222016  |        4.0        |  6   |\n",
      "| eae27980951a8e176ee6721ba1... | 703737003  |        4.0        |  7   |\n",
      "| eae27980951a8e176ee6721ba1... | 647837001  |        4.0        |  8   |\n",
      "| 77c980e1d7894da46146746d3b... | 554141018  |        8.0        |  1   |\n",
      "| 77c980e1d7894da46146746d3b... | 822161001  |        5.0        |  2   |\n",
      "| 77c980e1d7894da46146746d3b... | 653358001  | 4.500050967778915 |  3   |\n",
      "| 77c980e1d7894da46146746d3b... | 618112001  |        4.0        |  4   |\n",
      "| 77c980e1d7894da46146746d3b... | 644032001  |        4.0        |  5   |\n",
      "| 77c980e1d7894da46146746d3b... | 237222016  |        4.0        |  6   |\n",
      "| 77c980e1d7894da46146746d3b... | 703737003  |        4.0        |  7   |\n",
      "| 77c980e1d7894da46146746d3b... | 647837001  |        4.0        |  8   |\n",
      "+-------------------------------+------------+-------------------+------+\n",
      "[88528 rows x 4 columns]\n",
      "\n"
     ]
    }
   ],
   "source": [
    "name = 'pearson'\n",
    "target = 'article_purchase_count'\n",
    "\n",
    "pearson_purchase, _ = model(train_purchases, name, user_id, item_id, target, customers_to_rec, n_rec, n_display)"
   ]
  },
  {
   "cell_type": "code",
   "execution_count": 62,
   "id": "b597ac21",
   "metadata": {
    "scrolled": true
   },
   "outputs": [
    {
     "data": {
      "text/html": [
       "<div style=\"max-height:1000px;max-width:1500px;overflow:auto;\"><table frame=\"box\" rules=\"cols\">\n",
       "    <tr>\n",
       "        <th style=\"padding-left: 1em; padding-right: 1em; text-align: center\">customer_id</th>\n",
       "        <th style=\"padding-left: 1em; padding-right: 1em; text-align: center\">article_id</th>\n",
       "        <th style=\"padding-left: 1em; padding-right: 1em; text-align: center\">article_purchase_count</th>\n",
       "    </tr>\n",
       "    <tr>\n",
       "        <td style=\"padding-left: 1em; padding-right: 1em; text-align: center; vertical-align: top\">d734b8669438f34b1878dc078<br>1f540dd889deb02f939f6 ...</td>\n",
       "        <td style=\"padding-left: 1em; padding-right: 1em; text-align: center; vertical-align: top\">516859002</td>\n",
       "        <td style=\"padding-left: 1em; padding-right: 1em; text-align: center; vertical-align: top\">1</td>\n",
       "    </tr>\n",
       "    <tr>\n",
       "        <td style=\"padding-left: 1em; padding-right: 1em; text-align: center; vertical-align: top\">cae43013ac28d76c74c98fd77<br>caaea2f937da1c2f743c7 ...</td>\n",
       "        <td style=\"padding-left: 1em; padding-right: 1em; text-align: center; vertical-align: top\">721762002</td>\n",
       "        <td style=\"padding-left: 1em; padding-right: 1em; text-align: center; vertical-align: top\">1</td>\n",
       "    </tr>\n",
       "    <tr>\n",
       "        <td style=\"padding-left: 1em; padding-right: 1em; text-align: center; vertical-align: top\">214375b663ccc87230c66d96d<br>8963a132ae0cb5c07a40c ...</td>\n",
       "        <td style=\"padding-left: 1em; padding-right: 1em; text-align: center; vertical-align: top\">894135001</td>\n",
       "        <td style=\"padding-left: 1em; padding-right: 1em; text-align: center; vertical-align: top\">1</td>\n",
       "    </tr>\n",
       "    <tr>\n",
       "        <td style=\"padding-left: 1em; padding-right: 1em; text-align: center; vertical-align: top\">ff0709a27864e67ae3eaef133<br>6da05d0f93a742a9f0e01 ...</td>\n",
       "        <td style=\"padding-left: 1em; padding-right: 1em; text-align: center; vertical-align: top\">697054008</td>\n",
       "        <td style=\"padding-left: 1em; padding-right: 1em; text-align: center; vertical-align: top\">1</td>\n",
       "    </tr>\n",
       "    <tr>\n",
       "        <td style=\"padding-left: 1em; padding-right: 1em; text-align: center; vertical-align: top\">1f21c6fe5ac3385492780d488<br>54d3cb02e378cfef7f83e ...</td>\n",
       "        <td style=\"padding-left: 1em; padding-right: 1em; text-align: center; vertical-align: top\">456163053</td>\n",
       "        <td style=\"padding-left: 1em; padding-right: 1em; text-align: center; vertical-align: top\">1</td>\n",
       "    </tr>\n",
       "    <tr>\n",
       "        <td style=\"padding-left: 1em; padding-right: 1em; text-align: center; vertical-align: top\">a6e1e553ca1df628a9ef6d209<br>350077b531c82aa3ab185 ...</td>\n",
       "        <td style=\"padding-left: 1em; padding-right: 1em; text-align: center; vertical-align: top\">649397006</td>\n",
       "        <td style=\"padding-left: 1em; padding-right: 1em; text-align: center; vertical-align: top\">2</td>\n",
       "    </tr>\n",
       "    <tr>\n",
       "        <td style=\"padding-left: 1em; padding-right: 1em; text-align: center; vertical-align: top\">682604048737103df0e40f176<br>e7530a1c604e77c35bb79 ...</td>\n",
       "        <td style=\"padding-left: 1em; padding-right: 1em; text-align: center; vertical-align: top\">160442043</td>\n",
       "        <td style=\"padding-left: 1em; padding-right: 1em; text-align: center; vertical-align: top\">1</td>\n",
       "    </tr>\n",
       "    <tr>\n",
       "        <td style=\"padding-left: 1em; padding-right: 1em; text-align: center; vertical-align: top\">4a8be1df5f257d049cce39cb6<br>69aab869980b13e93482b ...</td>\n",
       "        <td style=\"padding-left: 1em; padding-right: 1em; text-align: center; vertical-align: top\">625773003</td>\n",
       "        <td style=\"padding-left: 1em; padding-right: 1em; text-align: center; vertical-align: top\">1</td>\n",
       "    </tr>\n",
       "    <tr>\n",
       "        <td style=\"padding-left: 1em; padding-right: 1em; text-align: center; vertical-align: top\">823a95fecfa24a9b3ab371398<br>f0b897c95727e245475b6 ...</td>\n",
       "        <td style=\"padding-left: 1em; padding-right: 1em; text-align: center; vertical-align: top\">448509018</td>\n",
       "        <td style=\"padding-left: 1em; padding-right: 1em; text-align: center; vertical-align: top\">1</td>\n",
       "    </tr>\n",
       "    <tr>\n",
       "        <td style=\"padding-left: 1em; padding-right: 1em; text-align: center; vertical-align: top\">5a7e208f8b34f09b7ba95c267<br>225075a4062f64ff43a4e ...</td>\n",
       "        <td style=\"padding-left: 1em; padding-right: 1em; text-align: center; vertical-align: top\">661610001</td>\n",
       "        <td style=\"padding-left: 1em; padding-right: 1em; text-align: center; vertical-align: top\">1</td>\n",
       "    </tr>\n",
       "</table>\n",
       "[1504763 rows x 3 columns]<br/>Note: Only the head of the SFrame is printed.<br/>You can use print_rows(num_rows=m, num_columns=n) to print more rows and columns.\n",
       "</div>"
      ],
      "text/plain": [
       "Columns:\n",
       "\tcustomer_id\tstr\n",
       "\tarticle_id\tint\n",
       "\tarticle_purchase_count\tint\n",
       "\n",
       "Rows: 1504763\n",
       "\n",
       "Data:\n",
       "+-------------------------------+------------+------------------------+\n",
       "|          customer_id          | article_id | article_purchase_count |\n",
       "+-------------------------------+------------+------------------------+\n",
       "| d734b8669438f34b1878dc0781... | 516859002  |           1            |\n",
       "| cae43013ac28d76c74c98fd77c... | 721762002  |           1            |\n",
       "| 214375b663ccc87230c66d96d8... | 894135001  |           1            |\n",
       "| ff0709a27864e67ae3eaef1336... | 697054008  |           1            |\n",
       "| 1f21c6fe5ac3385492780d4885... | 456163053  |           1            |\n",
       "| a6e1e553ca1df628a9ef6d2093... | 649397006  |           2            |\n",
       "| 682604048737103df0e40f176e... | 160442043  |           1            |\n",
       "| 4a8be1df5f257d049cce39cb66... | 625773003  |           1            |\n",
       "| 823a95fecfa24a9b3ab371398f... | 448509018  |           1            |\n",
       "| 5a7e208f8b34f09b7ba95c2672... | 661610001  |           1            |\n",
       "+-------------------------------+------------+------------------------+\n",
       "[1504763 rows x 3 columns]\n",
       "Note: Only the head of the SFrame is printed.\n",
       "You can use print_rows(num_rows=m, num_columns=n) to print more rows and columns."
      ]
     },
     "execution_count": 62,
     "metadata": {},
     "output_type": "execute_result"
    }
   ],
   "source": [
    "train_purchases"
   ]
  },
  {
   "cell_type": "markdown",
   "id": "3499cc50",
   "metadata": {},
   "source": [
    "### Train_dummy table"
   ]
  },
  {
   "cell_type": "code",
   "execution_count": 63,
   "id": "ff0c4fcd",
   "metadata": {
    "scrolled": true
   },
   "outputs": [
    {
     "data": {
      "text/html": [
       "<pre>Warning: Ignoring columns article_purchase_count;</pre>"
      ],
      "text/plain": [
       "Warning: Ignoring columns article_purchase_count;"
      ]
     },
     "metadata": {},
     "output_type": "display_data"
    },
    {
     "data": {
      "text/html": [
       "<pre>    To use these columns in scoring predictions, use a model that allows the use of additional features.</pre>"
      ],
      "text/plain": [
       "    To use these columns in scoring predictions, use a model that allows the use of additional features."
      ]
     },
     "metadata": {},
     "output_type": "display_data"
    },
    {
     "data": {
      "text/html": [
       "<pre>Preparing data set.</pre>"
      ],
      "text/plain": [
       "Preparing data set."
      ]
     },
     "metadata": {},
     "output_type": "display_data"
    },
    {
     "data": {
      "text/html": [
       "<pre>    Data has 1504763 observations with 11066 users and 72420 items.</pre>"
      ],
      "text/plain": [
       "    Data has 1504763 observations with 11066 users and 72420 items."
      ]
     },
     "metadata": {},
     "output_type": "display_data"
    },
    {
     "data": {
      "text/html": [
       "<pre>    Data prepared in: 0.986357s</pre>"
      ],
      "text/plain": [
       "    Data prepared in: 0.986357s"
      ]
     },
     "metadata": {},
     "output_type": "display_data"
    },
    {
     "data": {
      "text/html": [
       "<pre>Training model from provided data.</pre>"
      ],
      "text/plain": [
       "Training model from provided data."
      ]
     },
     "metadata": {},
     "output_type": "display_data"
    },
    {
     "data": {
      "text/html": [
       "<pre>Gathering per-item and per-user statistics.</pre>"
      ],
      "text/plain": [
       "Gathering per-item and per-user statistics."
      ]
     },
     "metadata": {},
     "output_type": "display_data"
    },
    {
     "data": {
      "text/html": [
       "<pre>+--------------------------------+------------+</pre>"
      ],
      "text/plain": [
       "+--------------------------------+------------+"
      ]
     },
     "metadata": {},
     "output_type": "display_data"
    },
    {
     "data": {
      "text/html": [
       "<pre>| Elapsed Time (Item Statistics) | % Complete |</pre>"
      ],
      "text/plain": [
       "| Elapsed Time (Item Statistics) | % Complete |"
      ]
     },
     "metadata": {},
     "output_type": "display_data"
    },
    {
     "data": {
      "text/html": [
       "<pre>+--------------------------------+------------+</pre>"
      ],
      "text/plain": [
       "+--------------------------------+------------+"
      ]
     },
     "metadata": {},
     "output_type": "display_data"
    },
    {
     "data": {
      "text/html": [
       "<pre>| 4.662ms                        | 9          |</pre>"
      ],
      "text/plain": [
       "| 4.662ms                        | 9          |"
      ]
     },
     "metadata": {},
     "output_type": "display_data"
    },
    {
     "data": {
      "text/html": [
       "<pre>| 49.335ms                       | 100        |</pre>"
      ],
      "text/plain": [
       "| 49.335ms                       | 100        |"
      ]
     },
     "metadata": {},
     "output_type": "display_data"
    },
    {
     "data": {
      "text/html": [
       "<pre>+--------------------------------+------------+</pre>"
      ],
      "text/plain": [
       "+--------------------------------+------------+"
      ]
     },
     "metadata": {},
     "output_type": "display_data"
    },
    {
     "data": {
      "text/html": [
       "<pre>Setting up lookup tables.</pre>"
      ],
      "text/plain": [
       "Setting up lookup tables."
      ]
     },
     "metadata": {},
     "output_type": "display_data"
    },
    {
     "data": {
      "text/html": [
       "<pre>Processing data in 3 passes using dense lookup tables.</pre>"
      ],
      "text/plain": [
       "Processing data in 3 passes using dense lookup tables."
      ]
     },
     "metadata": {},
     "output_type": "display_data"
    },
    {
     "data": {
      "text/html": [
       "<pre>+-------------------------------------+------------------+-----------------+</pre>"
      ],
      "text/plain": [
       "+-------------------------------------+------------------+-----------------+"
      ]
     },
     "metadata": {},
     "output_type": "display_data"
    },
    {
     "data": {
      "text/html": [
       "<pre>| Elapsed Time (Constructing Lookups) | Total % Complete | Items Processed |</pre>"
      ],
      "text/plain": [
       "| Elapsed Time (Constructing Lookups) | Total % Complete | Items Processed |"
      ]
     },
     "metadata": {},
     "output_type": "display_data"
    },
    {
     "data": {
      "text/html": [
       "<pre>+-------------------------------------+------------------+-----------------+</pre>"
      ],
      "text/plain": [
       "+-------------------------------------+------------------+-----------------+"
      ]
     },
     "metadata": {},
     "output_type": "display_data"
    },
    {
     "data": {
      "text/html": [
       "<pre>| 3.60s                               | 0                | 2               |</pre>"
      ],
      "text/plain": [
       "| 3.60s                               | 0                | 2               |"
      ]
     },
     "metadata": {},
     "output_type": "display_data"
    },
    {
     "data": {
      "text/html": [
       "<pre>| 6.60s                               | 27               | 19621           |</pre>"
      ],
      "text/plain": [
       "| 6.60s                               | 27               | 19621           |"
      ]
     },
     "metadata": {},
     "output_type": "display_data"
    },
    {
     "data": {
      "text/html": [
       "<pre>| 16.10s                              | 33.25            | 24142           |</pre>"
      ],
      "text/plain": [
       "| 16.10s                              | 33.25            | 24142           |"
      ]
     },
     "metadata": {},
     "output_type": "display_data"
    },
    {
     "data": {
      "text/html": [
       "<pre>| 24.71s                              | 66.5             | 48282           |</pre>"
      ],
      "text/plain": [
       "| 24.71s                              | 66.5             | 48282           |"
      ]
     },
     "metadata": {},
     "output_type": "display_data"
    },
    {
     "data": {
      "text/html": [
       "<pre>| 27.99s                              | 100              | 72420           |</pre>"
      ],
      "text/plain": [
       "| 27.99s                              | 100              | 72420           |"
      ]
     },
     "metadata": {},
     "output_type": "display_data"
    },
    {
     "data": {
      "text/html": [
       "<pre>+-------------------------------------+------------------+-----------------+</pre>"
      ],
      "text/plain": [
       "+-------------------------------------+------------------+-----------------+"
      ]
     },
     "metadata": {},
     "output_type": "display_data"
    },
    {
     "data": {
      "text/html": [
       "<pre>Finalizing lookup tables.</pre>"
      ],
      "text/plain": [
       "Finalizing lookup tables."
      ]
     },
     "metadata": {},
     "output_type": "display_data"
    },
    {
     "data": {
      "text/html": [
       "<pre>Generating candidate set for working with new users.</pre>"
      ],
      "text/plain": [
       "Generating candidate set for working with new users."
      ]
     },
     "metadata": {},
     "output_type": "display_data"
    },
    {
     "data": {
      "text/html": [
       "<pre>Finished training in 28.0616s</pre>"
      ],
      "text/plain": [
       "Finished training in 28.0616s"
      ]
     },
     "metadata": {},
     "output_type": "display_data"
    },
    {
     "data": {
      "text/html": [
       "<pre>recommendations finished on 1000/11066 queries. users per second: 1692.59</pre>"
      ],
      "text/plain": [
       "recommendations finished on 1000/11066 queries. users per second: 1692.59"
      ]
     },
     "metadata": {},
     "output_type": "display_data"
    },
    {
     "data": {
      "text/html": [
       "<pre>recommendations finished on 2000/11066 queries. users per second: 1781.05</pre>"
      ],
      "text/plain": [
       "recommendations finished on 2000/11066 queries. users per second: 1781.05"
      ]
     },
     "metadata": {},
     "output_type": "display_data"
    },
    {
     "data": {
      "text/html": [
       "<pre>recommendations finished on 3000/11066 queries. users per second: 1722.18</pre>"
      ],
      "text/plain": [
       "recommendations finished on 3000/11066 queries. users per second: 1722.18"
      ]
     },
     "metadata": {},
     "output_type": "display_data"
    },
    {
     "data": {
      "text/html": [
       "<pre>recommendations finished on 4000/11066 queries. users per second: 1661.65</pre>"
      ],
      "text/plain": [
       "recommendations finished on 4000/11066 queries. users per second: 1661.65"
      ]
     },
     "metadata": {},
     "output_type": "display_data"
    },
    {
     "data": {
      "text/html": [
       "<pre>recommendations finished on 5000/11066 queries. users per second: 1639.31</pre>"
      ],
      "text/plain": [
       "recommendations finished on 5000/11066 queries. users per second: 1639.31"
      ]
     },
     "metadata": {},
     "output_type": "display_data"
    },
    {
     "data": {
      "text/html": [
       "<pre>recommendations finished on 6000/11066 queries. users per second: 1651.75</pre>"
      ],
      "text/plain": [
       "recommendations finished on 6000/11066 queries. users per second: 1651.75"
      ]
     },
     "metadata": {},
     "output_type": "display_data"
    },
    {
     "data": {
      "text/html": [
       "<pre>recommendations finished on 7000/11066 queries. users per second: 1674.49</pre>"
      ],
      "text/plain": [
       "recommendations finished on 7000/11066 queries. users per second: 1674.49"
      ]
     },
     "metadata": {},
     "output_type": "display_data"
    },
    {
     "data": {
      "text/html": [
       "<pre>recommendations finished on 8000/11066 queries. users per second: 1682.34</pre>"
      ],
      "text/plain": [
       "recommendations finished on 8000/11066 queries. users per second: 1682.34"
      ]
     },
     "metadata": {},
     "output_type": "display_data"
    },
    {
     "data": {
      "text/html": [
       "<pre>recommendations finished on 9000/11066 queries. users per second: 1670.33</pre>"
      ],
      "text/plain": [
       "recommendations finished on 9000/11066 queries. users per second: 1670.33"
      ]
     },
     "metadata": {},
     "output_type": "display_data"
    },
    {
     "data": {
      "text/html": [
       "<pre>recommendations finished on 10000/11066 queries. users per second: 1650.58</pre>"
      ],
      "text/plain": [
       "recommendations finished on 10000/11066 queries. users per second: 1650.58"
      ]
     },
     "metadata": {},
     "output_type": "display_data"
    },
    {
     "data": {
      "text/html": [
       "<pre>recommendations finished on 11000/11066 queries. users per second: 1623.94</pre>"
      ],
      "text/plain": [
       "recommendations finished on 11000/11066 queries. users per second: 1623.94"
      ]
     },
     "metadata": {},
     "output_type": "display_data"
    },
    {
     "name": "stdout",
     "output_type": "stream",
     "text": [
      "+-------------------------------+------------+-------+------+\n",
      "|          customer_id          | article_id | score | rank |\n",
      "+-------------------------------+------------+-------+------+\n",
      "| 250039015607871019994d80d9... | 698296002  |  0.0  |  1   |\n",
      "| 250039015607871019994d80d9... | 665082001  |  0.0  |  2   |\n",
      "| 250039015607871019994d80d9... | 790644001  |  0.0  |  3   |\n",
      "| 250039015607871019994d80d9... | 732842008  |  0.0  |  4   |\n",
      "| 250039015607871019994d80d9... | 824079001  |  0.0  |  5   |\n",
      "| 250039015607871019994d80d9... | 658298007  |  0.0  |  6   |\n",
      "| 250039015607871019994d80d9... | 632832006  |  0.0  |  7   |\n",
      "| 250039015607871019994d80d9... | 663564006  |  0.0  |  8   |\n",
      "| eae27980951a8e176ee6721ba1... | 665082001  |  0.0  |  1   |\n",
      "| eae27980951a8e176ee6721ba1... | 790644001  |  0.0  |  2   |\n",
      "| eae27980951a8e176ee6721ba1... | 732842008  |  0.0  |  3   |\n",
      "| eae27980951a8e176ee6721ba1... | 824079001  |  0.0  |  4   |\n",
      "| eae27980951a8e176ee6721ba1... | 854043006  |  0.0  |  5   |\n",
      "| eae27980951a8e176ee6721ba1... | 658298007  |  0.0  |  6   |\n",
      "| eae27980951a8e176ee6721ba1... | 632832006  |  0.0  |  7   |\n",
      "| eae27980951a8e176ee6721ba1... | 663564006  |  0.0  |  8   |\n",
      "| 77c980e1d7894da46146746d3b... | 665082001  |  0.0  |  1   |\n",
      "| 77c980e1d7894da46146746d3b... | 790644001  |  0.0  |  2   |\n",
      "| 77c980e1d7894da46146746d3b... | 732842008  |  0.0  |  3   |\n",
      "| 77c980e1d7894da46146746d3b... | 824079001  |  0.0  |  4   |\n",
      "| 77c980e1d7894da46146746d3b... | 854043006  |  0.0  |  5   |\n",
      "| 77c980e1d7894da46146746d3b... | 658298007  |  0.0  |  6   |\n",
      "| 77c980e1d7894da46146746d3b... | 632832006  |  0.0  |  7   |\n",
      "| 77c980e1d7894da46146746d3b... | 663564006  |  0.0  |  8   |\n",
      "+-------------------------------+------------+-------+------+\n",
      "[88528 rows x 4 columns]\n",
      "\n"
     ]
    }
   ],
   "source": [
    "name = 'pearson'\n",
    "target = 'dummy'\n",
    "\n",
    "pearson_dummy, _ = model(train_dummy, name, user_id, item_id, target, customers_to_rec, n_rec, n_display)"
   ]
  },
  {
   "cell_type": "markdown",
   "id": "9f69a96a",
   "metadata": {},
   "source": [
    "### Train_normalized table"
   ]
  },
  {
   "cell_type": "code",
   "execution_count": 64,
   "id": "25ce7d1d",
   "metadata": {
    "scrolled": false
   },
   "outputs": [
    {
     "data": {
      "text/html": [
       "<pre>Preparing data set.</pre>"
      ],
      "text/plain": [
       "Preparing data set."
      ]
     },
     "metadata": {},
     "output_type": "display_data"
    },
    {
     "data": {
      "text/html": [
       "<pre>    Data has 1319192 observations with 11066 users and 31917 items.</pre>"
      ],
      "text/plain": [
       "    Data has 1319192 observations with 11066 users and 31917 items."
      ]
     },
     "metadata": {},
     "output_type": "display_data"
    },
    {
     "data": {
      "text/html": [
       "<pre>    Data prepared in: 0.899408s</pre>"
      ],
      "text/plain": [
       "    Data prepared in: 0.899408s"
      ]
     },
     "metadata": {},
     "output_type": "display_data"
    },
    {
     "data": {
      "text/html": [
       "<pre>Training model from provided data.</pre>"
      ],
      "text/plain": [
       "Training model from provided data."
      ]
     },
     "metadata": {},
     "output_type": "display_data"
    },
    {
     "data": {
      "text/html": [
       "<pre>Gathering per-item and per-user statistics.</pre>"
      ],
      "text/plain": [
       "Gathering per-item and per-user statistics."
      ]
     },
     "metadata": {},
     "output_type": "display_data"
    },
    {
     "data": {
      "text/html": [
       "<pre>+--------------------------------+------------+</pre>"
      ],
      "text/plain": [
       "+--------------------------------+------------+"
      ]
     },
     "metadata": {},
     "output_type": "display_data"
    },
    {
     "data": {
      "text/html": [
       "<pre>| Elapsed Time (Item Statistics) | % Complete |</pre>"
      ],
      "text/plain": [
       "| Elapsed Time (Item Statistics) | % Complete |"
      ]
     },
     "metadata": {},
     "output_type": "display_data"
    },
    {
     "data": {
      "text/html": [
       "<pre>+--------------------------------+------------+</pre>"
      ],
      "text/plain": [
       "+--------------------------------+------------+"
      ]
     },
     "metadata": {},
     "output_type": "display_data"
    },
    {
     "data": {
      "text/html": [
       "<pre>| 9.34ms                         | 9          |</pre>"
      ],
      "text/plain": [
       "| 9.34ms                         | 9          |"
      ]
     },
     "metadata": {},
     "output_type": "display_data"
    },
    {
     "data": {
      "text/html": [
       "<pre>| 49.57ms                        | 100        |</pre>"
      ],
      "text/plain": [
       "| 49.57ms                        | 100        |"
      ]
     },
     "metadata": {},
     "output_type": "display_data"
    },
    {
     "data": {
      "text/html": [
       "<pre>+--------------------------------+------------+</pre>"
      ],
      "text/plain": [
       "+--------------------------------+------------+"
      ]
     },
     "metadata": {},
     "output_type": "display_data"
    },
    {
     "data": {
      "text/html": [
       "<pre>Setting up lookup tables.</pre>"
      ],
      "text/plain": [
       "Setting up lookup tables."
      ]
     },
     "metadata": {},
     "output_type": "display_data"
    },
    {
     "data": {
      "text/html": [
       "<pre>Processing data in one pass using dense lookup tables.</pre>"
      ],
      "text/plain": [
       "Processing data in one pass using dense lookup tables."
      ]
     },
     "metadata": {},
     "output_type": "display_data"
    },
    {
     "data": {
      "text/html": [
       "<pre>+-------------------------------------+------------------+-----------------+</pre>"
      ],
      "text/plain": [
       "+-------------------------------------+------------------+-----------------+"
      ]
     },
     "metadata": {},
     "output_type": "display_data"
    },
    {
     "data": {
      "text/html": [
       "<pre>| Elapsed Time (Constructing Lookups) | Total % Complete | Items Processed |</pre>"
      ],
      "text/plain": [
       "| Elapsed Time (Constructing Lookups) | Total % Complete | Items Processed |"
      ]
     },
     "metadata": {},
     "output_type": "display_data"
    },
    {
     "data": {
      "text/html": [
       "<pre>+-------------------------------------+------------------+-----------------+</pre>"
      ],
      "text/plain": [
       "+-------------------------------------+------------------+-----------------+"
      ]
     },
     "metadata": {},
     "output_type": "display_data"
    },
    {
     "data": {
      "text/html": [
       "<pre>| 1.65s                               | 0                | 0               |</pre>"
      ],
      "text/plain": [
       "| 1.65s                               | 0                | 0               |"
      ]
     },
     "metadata": {},
     "output_type": "display_data"
    },
    {
     "data": {
      "text/html": [
       "<pre>| 4.65s                               | 91.25            | 29128           |</pre>"
      ],
      "text/plain": [
       "| 4.65s                               | 91.25            | 29128           |"
      ]
     },
     "metadata": {},
     "output_type": "display_data"
    },
    {
     "data": {
      "text/html": [
       "<pre>| 8.71s                               | 100              | 31917           |</pre>"
      ],
      "text/plain": [
       "| 8.71s                               | 100              | 31917           |"
      ]
     },
     "metadata": {},
     "output_type": "display_data"
    },
    {
     "data": {
      "text/html": [
       "<pre>+-------------------------------------+------------------+-----------------+</pre>"
      ],
      "text/plain": [
       "+-------------------------------------+------------------+-----------------+"
      ]
     },
     "metadata": {},
     "output_type": "display_data"
    },
    {
     "data": {
      "text/html": [
       "<pre>Finalizing lookup tables.</pre>"
      ],
      "text/plain": [
       "Finalizing lookup tables."
      ]
     },
     "metadata": {},
     "output_type": "display_data"
    },
    {
     "data": {
      "text/html": [
       "<pre>Generating candidate set for working with new users.</pre>"
      ],
      "text/plain": [
       "Generating candidate set for working with new users."
      ]
     },
     "metadata": {},
     "output_type": "display_data"
    },
    {
     "data": {
      "text/html": [
       "<pre>Finished training in 8.83999s</pre>"
      ],
      "text/plain": [
       "Finished training in 8.83999s"
      ]
     },
     "metadata": {},
     "output_type": "display_data"
    },
    {
     "data": {
      "text/html": [
       "<pre>recommendations finished on 1000/11066 queries. users per second: 8919.49</pre>"
      ],
      "text/plain": [
       "recommendations finished on 1000/11066 queries. users per second: 8919.49"
      ]
     },
     "metadata": {},
     "output_type": "display_data"
    },
    {
     "data": {
      "text/html": [
       "<pre>recommendations finished on 2000/11066 queries. users per second: 9217.57</pre>"
      ],
      "text/plain": [
       "recommendations finished on 2000/11066 queries. users per second: 9217.57"
      ]
     },
     "metadata": {},
     "output_type": "display_data"
    },
    {
     "data": {
      "text/html": [
       "<pre>recommendations finished on 3000/11066 queries. users per second: 9198.67</pre>"
      ],
      "text/plain": [
       "recommendations finished on 3000/11066 queries. users per second: 9198.67"
      ]
     },
     "metadata": {},
     "output_type": "display_data"
    },
    {
     "data": {
      "text/html": [
       "<pre>recommendations finished on 4000/11066 queries. users per second: 9128.94</pre>"
      ],
      "text/plain": [
       "recommendations finished on 4000/11066 queries. users per second: 9128.94"
      ]
     },
     "metadata": {},
     "output_type": "display_data"
    },
    {
     "data": {
      "text/html": [
       "<pre>recommendations finished on 5000/11066 queries. users per second: 9180.04</pre>"
      ],
      "text/plain": [
       "recommendations finished on 5000/11066 queries. users per second: 9180.04"
      ]
     },
     "metadata": {},
     "output_type": "display_data"
    },
    {
     "data": {
      "text/html": [
       "<pre>recommendations finished on 6000/11066 queries. users per second: 9263.91</pre>"
      ],
      "text/plain": [
       "recommendations finished on 6000/11066 queries. users per second: 9263.91"
      ]
     },
     "metadata": {},
     "output_type": "display_data"
    },
    {
     "data": {
      "text/html": [
       "<pre>recommendations finished on 7000/11066 queries. users per second: 9158.43</pre>"
      ],
      "text/plain": [
       "recommendations finished on 7000/11066 queries. users per second: 9158.43"
      ]
     },
     "metadata": {},
     "output_type": "display_data"
    },
    {
     "data": {
      "text/html": [
       "<pre>recommendations finished on 8000/11066 queries. users per second: 9006.31</pre>"
      ],
      "text/plain": [
       "recommendations finished on 8000/11066 queries. users per second: 9006.31"
      ]
     },
     "metadata": {},
     "output_type": "display_data"
    },
    {
     "data": {
      "text/html": [
       "<pre>recommendations finished on 9000/11066 queries. users per second: 8928.41</pre>"
      ],
      "text/plain": [
       "recommendations finished on 9000/11066 queries. users per second: 8928.41"
      ]
     },
     "metadata": {},
     "output_type": "display_data"
    },
    {
     "data": {
      "text/html": [
       "<pre>recommendations finished on 10000/11066 queries. users per second: 8715.21</pre>"
      ],
      "text/plain": [
       "recommendations finished on 10000/11066 queries. users per second: 8715.21"
      ]
     },
     "metadata": {},
     "output_type": "display_data"
    },
    {
     "data": {
      "text/html": [
       "<pre>recommendations finished on 11000/11066 queries. users per second: 8539.51</pre>"
      ],
      "text/plain": [
       "recommendations finished on 11000/11066 queries. users per second: 8539.51"
      ]
     },
     "metadata": {},
     "output_type": "display_data"
    },
    {
     "name": "stdout",
     "output_type": "stream",
     "text": [
      "+-------------------------------+------------+-------+------+\n",
      "|          customer_id          | article_id | score | rank |\n",
      "+-------------------------------+------------+-------+------+\n",
      "| 250039015607871019994d80d9... | 903728002  |  1.0  |  1   |\n",
      "| 250039015607871019994d80d9... | 787039001  |  1.0  |  2   |\n",
      "| 250039015607871019994d80d9... | 886603001  |  1.0  |  3   |\n",
      "| 250039015607871019994d80d9... | 634786001  |  1.0  |  4   |\n",
      "| 250039015607871019994d80d9... | 767473009  |  1.0  |  5   |\n",
      "| 250039015607871019994d80d9... | 708487003  |  1.0  |  6   |\n",
      "| 250039015607871019994d80d9... | 855809001  |  1.0  |  7   |\n",
      "| 250039015607871019994d80d9... | 810407001  |  1.0  |  8   |\n",
      "| eae27980951a8e176ee6721ba1... | 903728002  |  1.0  |  1   |\n",
      "| eae27980951a8e176ee6721ba1... | 787039001  |  1.0  |  2   |\n",
      "| eae27980951a8e176ee6721ba1... | 886603001  |  1.0  |  3   |\n",
      "| eae27980951a8e176ee6721ba1... | 634786001  |  1.0  |  4   |\n",
      "| eae27980951a8e176ee6721ba1... | 767473009  |  1.0  |  5   |\n",
      "| eae27980951a8e176ee6721ba1... | 708487003  |  1.0  |  6   |\n",
      "| eae27980951a8e176ee6721ba1... | 855809001  |  1.0  |  7   |\n",
      "| eae27980951a8e176ee6721ba1... | 810407001  |  1.0  |  8   |\n",
      "| 77c980e1d7894da46146746d3b... | 903728002  |  1.0  |  1   |\n",
      "| 77c980e1d7894da46146746d3b... | 787039001  |  1.0  |  2   |\n",
      "| 77c980e1d7894da46146746d3b... | 886603001  |  1.0  |  3   |\n",
      "| 77c980e1d7894da46146746d3b... | 634786001  |  1.0  |  4   |\n",
      "| 77c980e1d7894da46146746d3b... | 767473009  |  1.0  |  5   |\n",
      "| 77c980e1d7894da46146746d3b... | 708487003  |  1.0  |  6   |\n",
      "| 77c980e1d7894da46146746d3b... | 855809001  |  1.0  |  7   |\n",
      "| 77c980e1d7894da46146746d3b... | 810407001  |  1.0  |  8   |\n",
      "+-------------------------------+------------+-------+------+\n",
      "[88528 rows x 4 columns]\n",
      "\n"
     ]
    }
   ],
   "source": [
    "name = 'pearson'\n",
    "target = 'scaled_purchase_freq'\n",
    "\n",
    "pearson_normalized, _ = model(train_normalized, name, user_id, item_id, target, customers_to_rec, n_rec, n_display)"
   ]
  },
  {
   "cell_type": "markdown",
   "id": "a074e6d6",
   "metadata": {},
   "source": [
    "## Model Evaluation"
   ]
  },
  {
   "cell_type": "code",
   "execution_count": 65,
   "id": "508886f3",
   "metadata": {},
   "outputs": [],
   "source": [
    "models_purchases = [popularity_purchase, cosine_purchase, pearson_purchase]\n",
    "models_w_dummy = [popularity_dummy, cosine_dummy, pearson_dummy]\n",
    "models_w_norm = [popularity_normalized, cosine_normalized, pearson_normalized]\n",
    "\n"
   ]
  },
  {
   "cell_type": "code",
   "execution_count": 66,
   "id": "8da31d34",
   "metadata": {},
   "outputs": [],
   "source": [
    "names_w_counts = ['Popularity Model on Purchase Counts', 'Cosine Similarity on Purchase Counts', 'Pearson Similarity on Purchase Counts']\n",
    "names_w_dummy = ['Popularity Model on Purchase Dummy', 'Cosine Similarity on Purchase Dummy', 'Pearson Similarity on Purchase Dummy']\n",
    "names_w_norm = ['Popularity Model on Scaled Purchase Counts', 'Cosine Similarity on Scaled Purchase Counts', 'Pearson Similarity on Scaled Purchase Counts']"
   ]
  },
  {
   "cell_type": "code",
   "execution_count": 67,
   "id": "cdac2cda",
   "metadata": {
    "scrolled": true
   },
   "outputs": [
    {
     "name": "stdout",
     "output_type": "stream",
     "text": [
      "PROGRESS: Evaluate model Popularity Model on Purchase Counts\n"
     ]
    },
    {
     "data": {
      "text/html": [
       "<pre>recommendations finished on 1000/11066 queries. users per second: 2700.48</pre>"
      ],
      "text/plain": [
       "recommendations finished on 1000/11066 queries. users per second: 2700.48"
      ]
     },
     "metadata": {},
     "output_type": "display_data"
    },
    {
     "data": {
      "text/html": [
       "<pre>recommendations finished on 2000/11066 queries. users per second: 3080.61</pre>"
      ],
      "text/plain": [
       "recommendations finished on 2000/11066 queries. users per second: 3080.61"
      ]
     },
     "metadata": {},
     "output_type": "display_data"
    },
    {
     "data": {
      "text/html": [
       "<pre>recommendations finished on 3000/11066 queries. users per second: 3159.56</pre>"
      ],
      "text/plain": [
       "recommendations finished on 3000/11066 queries. users per second: 3159.56"
      ]
     },
     "metadata": {},
     "output_type": "display_data"
    },
    {
     "data": {
      "text/html": [
       "<pre>recommendations finished on 4000/11066 queries. users per second: 3127.53</pre>"
      ],
      "text/plain": [
       "recommendations finished on 4000/11066 queries. users per second: 3127.53"
      ]
     },
     "metadata": {},
     "output_type": "display_data"
    },
    {
     "data": {
      "text/html": [
       "<pre>recommendations finished on 5000/11066 queries. users per second: 3057.21</pre>"
      ],
      "text/plain": [
       "recommendations finished on 5000/11066 queries. users per second: 3057.21"
      ]
     },
     "metadata": {},
     "output_type": "display_data"
    },
    {
     "data": {
      "text/html": [
       "<pre>recommendations finished on 6000/11066 queries. users per second: 3140.48</pre>"
      ],
      "text/plain": [
       "recommendations finished on 6000/11066 queries. users per second: 3140.48"
      ]
     },
     "metadata": {},
     "output_type": "display_data"
    },
    {
     "data": {
      "text/html": [
       "<pre>recommendations finished on 7000/11066 queries. users per second: 3138.71</pre>"
      ],
      "text/plain": [
       "recommendations finished on 7000/11066 queries. users per second: 3138.71"
      ]
     },
     "metadata": {},
     "output_type": "display_data"
    },
    {
     "data": {
      "text/html": [
       "<pre>recommendations finished on 8000/11066 queries. users per second: 3209.69</pre>"
      ],
      "text/plain": [
       "recommendations finished on 8000/11066 queries. users per second: 3209.69"
      ]
     },
     "metadata": {},
     "output_type": "display_data"
    },
    {
     "data": {
      "text/html": [
       "<pre>recommendations finished on 9000/11066 queries. users per second: 3239.52</pre>"
      ],
      "text/plain": [
       "recommendations finished on 9000/11066 queries. users per second: 3239.52"
      ]
     },
     "metadata": {},
     "output_type": "display_data"
    },
    {
     "data": {
      "text/html": [
       "<pre>recommendations finished on 10000/11066 queries. users per second: 3282.91</pre>"
      ],
      "text/plain": [
       "recommendations finished on 10000/11066 queries. users per second: 3282.91"
      ]
     },
     "metadata": {},
     "output_type": "display_data"
    },
    {
     "data": {
      "text/html": [
       "<pre>recommendations finished on 11000/11066 queries. users per second: 3311.95</pre>"
      ],
      "text/plain": [
       "recommendations finished on 11000/11066 queries. users per second: 3311.95"
      ]
     },
     "metadata": {},
     "output_type": "display_data"
    },
    {
     "name": "stdout",
     "output_type": "stream",
     "text": [
      "\n",
      "Precision and recall summary statistics by cutoff\n",
      "+--------+------------------------+------------------------+\n",
      "| cutoff |     mean_precision     |      mean_recall       |\n",
      "+--------+------------------------+------------------------+\n",
      "|   1    |          0.0           |          0.0           |\n",
      "|   2    | 4.518344478583048e-05  | 1.7378247994550204e-06 |\n",
      "|   3    | 6.0244593047773936e-05 | 3.5451625908882356e-06 |\n",
      "|   4    | 4.5183444785830404e-05 | 3.5451625908882356e-06 |\n",
      "|   5    | 3.6146755828664334e-05 | 3.5451625908882407e-06 |\n",
      "|   6    | 3.0122296523886964e-05 | 3.5451625908882394e-06 |\n",
      "|   7    | 2.5819111306188846e-05 | 3.5451625908882356e-06 |\n",
      "|   8    | 2.2591722392915206e-05 | 3.5451625908882292e-06 |\n",
      "|   9    | 2.008153101592466e-05  | 3.5451625908882343e-06 |\n",
      "|   10   | 2.7110066871498268e-05 | 5.103212411089296e-06  |\n",
      "+--------+------------------------+------------------------+\n",
      "[10 rows x 3 columns]\n",
      "\n",
      "\n",
      "Overall RMSE: 0.3910901341478688\n",
      "\n",
      "Per User RMSE (best)\n",
      "+-------------------------------+--------------------+-------+\n",
      "|          customer_id          |        rmse        | count |\n",
      "+-------------------------------+--------------------+-------+\n",
      "| 228af0890d5a26919d8b4586dc... | 0.0577239931941658 |   8   |\n",
      "+-------------------------------+--------------------+-------+\n",
      "[1 rows x 3 columns]\n",
      "\n",
      "\n",
      "Per User RMSE (worst)\n",
      "+-------------------------------+--------------------+-------+\n",
      "|          customer_id          |        rmse        | count |\n",
      "+-------------------------------+--------------------+-------+\n",
      "| 9d50687e366b49577c13695261... | 7.6431654349363916 |   19  |\n",
      "+-------------------------------+--------------------+-------+\n",
      "[1 rows x 3 columns]\n",
      "\n",
      "\n",
      "Per Item RMSE (best)\n",
      "+------------+------+-------+\n",
      "| article_id | rmse | count |\n",
      "+------------+------+-------+\n",
      "| 703367005  | 0.0  |   2   |\n",
      "+------------+------+-------+\n",
      "[1 rows x 3 columns]\n",
      "\n",
      "\n",
      "Per Item RMSE (worst)\n",
      "+------------+------+-------+\n",
      "| article_id | rmse | count |\n",
      "+------------+------+-------+\n",
      "| 691149002  | 11.0 |   1   |\n",
      "+------------+------+-------+\n",
      "[1 rows x 3 columns]\n",
      "\n",
      "PROGRESS: Evaluate model Cosine Similarity on Purchase Counts\n"
     ]
    },
    {
     "data": {
      "text/html": [
       "<pre>recommendations finished on 1000/11066 queries. users per second: 2182.71</pre>"
      ],
      "text/plain": [
       "recommendations finished on 1000/11066 queries. users per second: 2182.71"
      ]
     },
     "metadata": {},
     "output_type": "display_data"
    },
    {
     "data": {
      "text/html": [
       "<pre>recommendations finished on 2000/11066 queries. users per second: 2317.75</pre>"
      ],
      "text/plain": [
       "recommendations finished on 2000/11066 queries. users per second: 2317.75"
      ]
     },
     "metadata": {},
     "output_type": "display_data"
    },
    {
     "data": {
      "text/html": [
       "<pre>recommendations finished on 3000/11066 queries. users per second: 2398.79</pre>"
      ],
      "text/plain": [
       "recommendations finished on 3000/11066 queries. users per second: 2398.79"
      ]
     },
     "metadata": {},
     "output_type": "display_data"
    },
    {
     "data": {
      "text/html": [
       "<pre>recommendations finished on 4000/11066 queries. users per second: 2334.63</pre>"
      ],
      "text/plain": [
       "recommendations finished on 4000/11066 queries. users per second: 2334.63"
      ]
     },
     "metadata": {},
     "output_type": "display_data"
    },
    {
     "data": {
      "text/html": [
       "<pre>recommendations finished on 5000/11066 queries. users per second: 2401</pre>"
      ],
      "text/plain": [
       "recommendations finished on 5000/11066 queries. users per second: 2401"
      ]
     },
     "metadata": {},
     "output_type": "display_data"
    },
    {
     "data": {
      "text/html": [
       "<pre>recommendations finished on 6000/11066 queries. users per second: 2419.02</pre>"
      ],
      "text/plain": [
       "recommendations finished on 6000/11066 queries. users per second: 2419.02"
      ]
     },
     "metadata": {},
     "output_type": "display_data"
    },
    {
     "data": {
      "text/html": [
       "<pre>recommendations finished on 7000/11066 queries. users per second: 2428.24</pre>"
      ],
      "text/plain": [
       "recommendations finished on 7000/11066 queries. users per second: 2428.24"
      ]
     },
     "metadata": {},
     "output_type": "display_data"
    },
    {
     "data": {
      "text/html": [
       "<pre>recommendations finished on 8000/11066 queries. users per second: 2439.01</pre>"
      ],
      "text/plain": [
       "recommendations finished on 8000/11066 queries. users per second: 2439.01"
      ]
     },
     "metadata": {},
     "output_type": "display_data"
    },
    {
     "data": {
      "text/html": [
       "<pre>recommendations finished on 9000/11066 queries. users per second: 2409.76</pre>"
      ],
      "text/plain": [
       "recommendations finished on 9000/11066 queries. users per second: 2409.76"
      ]
     },
     "metadata": {},
     "output_type": "display_data"
    },
    {
     "data": {
      "text/html": [
       "<pre>recommendations finished on 10000/11066 queries. users per second: 2396.31</pre>"
      ],
      "text/plain": [
       "recommendations finished on 10000/11066 queries. users per second: 2396.31"
      ]
     },
     "metadata": {},
     "output_type": "display_data"
    },
    {
     "data": {
      "text/html": [
       "<pre>recommendations finished on 11000/11066 queries. users per second: 2396.15</pre>"
      ],
      "text/plain": [
       "recommendations finished on 11000/11066 queries. users per second: 2396.15"
      ]
     },
     "metadata": {},
     "output_type": "display_data"
    },
    {
     "name": "stdout",
     "output_type": "stream",
     "text": [
      "\n",
      "Precision and recall summary statistics by cutoff\n",
      "+--------+----------------------+-----------------------+\n",
      "| cutoff |    mean_precision    |      mean_recall      |\n",
      "+--------+----------------------+-----------------------+\n",
      "|   1    | 0.11377191397072113  | 0.0037185739785528375 |\n",
      "|   2    | 0.08526116031086203  |  0.005606717438742665 |\n",
      "|   3    | 0.06901018133622522  |  0.006855413492126627 |\n",
      "|   4    | 0.05880625338875835  |  0.00782147460842744  |\n",
      "|   5    | 0.05199710825953347  |  0.008633698178370211 |\n",
      "|   6    | 0.04687029339116831  |  0.009360517041297435 |\n",
      "|   7    | 0.043027548991763975 |  0.009999741282206947 |\n",
      "|   8    | 0.04029233688776431  |  0.010710571656971356 |\n",
      "|   9    | 0.03758258529630285  |  0.011240983471420406 |\n",
      "|   10   | 0.03534249051147663  |  0.011749843274191889 |\n",
      "+--------+----------------------+-----------------------+\n",
      "[10 rows x 3 columns]\n",
      "\n",
      "\n",
      "Overall RMSE: 1.1697217631391916\n",
      "\n",
      "Per User RMSE (best)\n",
      "+-------------------------------+--------------------+-------+\n",
      "|          customer_id          |        rmse        | count |\n",
      "+-------------------------------+--------------------+-------+\n",
      "| 6ecbeeb54b9bb6d949254fda06... | 0.9909682587606525 |   13  |\n",
      "+-------------------------------+--------------------+-------+\n",
      "[1 rows x 3 columns]\n",
      "\n",
      "\n",
      "Per User RMSE (worst)\n",
      "+-------------------------------+-------------------+-------+\n",
      "|          customer_id          |        rmse       | count |\n",
      "+-------------------------------+-------------------+-------+\n",
      "| 9d50687e366b49577c13695261... | 8.466802741402175 |   19  |\n",
      "+-------------------------------+-------------------+-------+\n",
      "[1 rows x 3 columns]\n",
      "\n",
      "\n",
      "Per Item RMSE (best)\n",
      "+------------+--------------------+-------+\n",
      "| article_id |        rmse        | count |\n",
      "+------------+--------------------+-------+\n",
      "| 655437001  | 0.9218470337914257 |   1   |\n",
      "+------------+--------------------+-------+\n",
      "[1 rows x 3 columns]\n",
      "\n",
      "\n",
      "Per Item RMSE (worst)\n",
      "+------------+------+-------+\n",
      "| article_id | rmse | count |\n",
      "+------------+------+-------+\n",
      "| 691149002  | 12.0 |   1   |\n",
      "+------------+------+-------+\n",
      "[1 rows x 3 columns]\n",
      "\n",
      "PROGRESS: Evaluate model Pearson Similarity on Purchase Counts\n"
     ]
    },
    {
     "data": {
      "text/html": [
       "<pre>recommendations finished on 1000/11066 queries. users per second: 1940.26</pre>"
      ],
      "text/plain": [
       "recommendations finished on 1000/11066 queries. users per second: 1940.26"
      ]
     },
     "metadata": {},
     "output_type": "display_data"
    },
    {
     "data": {
      "text/html": [
       "<pre>recommendations finished on 2000/11066 queries. users per second: 2066.44</pre>"
      ],
      "text/plain": [
       "recommendations finished on 2000/11066 queries. users per second: 2066.44"
      ]
     },
     "metadata": {},
     "output_type": "display_data"
    },
    {
     "data": {
      "text/html": [
       "<pre>recommendations finished on 3000/11066 queries. users per second: 2071.39</pre>"
      ],
      "text/plain": [
       "recommendations finished on 3000/11066 queries. users per second: 2071.39"
      ]
     },
     "metadata": {},
     "output_type": "display_data"
    },
    {
     "data": {
      "text/html": [
       "<pre>recommendations finished on 4000/11066 queries. users per second: 2060.42</pre>"
      ],
      "text/plain": [
       "recommendations finished on 4000/11066 queries. users per second: 2060.42"
      ]
     },
     "metadata": {},
     "output_type": "display_data"
    },
    {
     "data": {
      "text/html": [
       "<pre>recommendations finished on 5000/11066 queries. users per second: 2124.69</pre>"
      ],
      "text/plain": [
       "recommendations finished on 5000/11066 queries. users per second: 2124.69"
      ]
     },
     "metadata": {},
     "output_type": "display_data"
    },
    {
     "data": {
      "text/html": [
       "<pre>recommendations finished on 6000/11066 queries. users per second: 2140.89</pre>"
      ],
      "text/plain": [
       "recommendations finished on 6000/11066 queries. users per second: 2140.89"
      ]
     },
     "metadata": {},
     "output_type": "display_data"
    },
    {
     "data": {
      "text/html": [
       "<pre>recommendations finished on 7000/11066 queries. users per second: 2171.5</pre>"
      ],
      "text/plain": [
       "recommendations finished on 7000/11066 queries. users per second: 2171.5"
      ]
     },
     "metadata": {},
     "output_type": "display_data"
    },
    {
     "data": {
      "text/html": [
       "<pre>recommendations finished on 8000/11066 queries. users per second: 2200.81</pre>"
      ],
      "text/plain": [
       "recommendations finished on 8000/11066 queries. users per second: 2200.81"
      ]
     },
     "metadata": {},
     "output_type": "display_data"
    },
    {
     "data": {
      "text/html": [
       "<pre>recommendations finished on 9000/11066 queries. users per second: 2225.89</pre>"
      ],
      "text/plain": [
       "recommendations finished on 9000/11066 queries. users per second: 2225.89"
      ]
     },
     "metadata": {},
     "output_type": "display_data"
    },
    {
     "data": {
      "text/html": [
       "<pre>recommendations finished on 10000/11066 queries. users per second: 2245.18</pre>"
      ],
      "text/plain": [
       "recommendations finished on 10000/11066 queries. users per second: 2245.18"
      ]
     },
     "metadata": {},
     "output_type": "display_data"
    },
    {
     "data": {
      "text/html": [
       "<pre>recommendations finished on 11000/11066 queries. users per second: 2262.66</pre>"
      ],
      "text/plain": [
       "recommendations finished on 11000/11066 queries. users per second: 2262.66"
      ]
     },
     "metadata": {},
     "output_type": "display_data"
    },
    {
     "name": "stdout",
     "output_type": "stream",
     "text": [
      "\n",
      "Precision and recall summary statistics by cutoff\n",
      "+--------+------------------------+------------------------+\n",
      "| cutoff |     mean_precision     |      mean_recall       |\n",
      "+--------+------------------------+------------------------+\n",
      "|   1    |          0.0           |          0.0           |\n",
      "|   2    | 4.518344478583048e-05  | 1.7378247994550174e-06 |\n",
      "|   3    | 6.0244593047773956e-05 | 3.5451625908882318e-06 |\n",
      "|   4    | 4.518344478583048e-05  | 3.545162590888235e-06  |\n",
      "|   5    | 3.614675582866423e-05  | 3.5451625908882313e-06 |\n",
      "|   6    | 3.0122296523886964e-05 | 3.5451625908882394e-06 |\n",
      "|   7    | 2.581911130618883e-05  | 3.545162590888241e-06  |\n",
      "|   8    | 2.259172239291524e-05  | 3.5451625908882343e-06 |\n",
      "|   9    | 2.0081531015924662e-05 | 3.5451625908882343e-06 |\n",
      "|   10   |  2.71100668714983e-05  | 5.103212411089293e-06  |\n",
      "+--------+------------------------+------------------------+\n",
      "[10 rows x 3 columns]\n",
      "\n",
      "\n",
      "Overall RMSE: 0.4041120042920001\n",
      "\n",
      "Per User RMSE (best)\n",
      "+-------------------------------+--------------------+-------+\n",
      "|          customer_id          |        rmse        | count |\n",
      "+-------------------------------+--------------------+-------+\n",
      "| 228af0890d5a26919d8b4586dc... | 0.0573957191332846 |   8   |\n",
      "+-------------------------------+--------------------+-------+\n",
      "[1 rows x 3 columns]\n",
      "\n",
      "\n",
      "Per User RMSE (worst)\n",
      "+-------------------------------+-------------------+-------+\n",
      "|          customer_id          |        rmse       | count |\n",
      "+-------------------------------+-------------------+-------+\n",
      "| 9d50687e366b49577c13695261... | 7.697929815320969 |   19  |\n",
      "+-------------------------------+-------------------+-------+\n",
      "[1 rows x 3 columns]\n",
      "\n",
      "\n",
      "Per Item RMSE (best)\n",
      "+------------+------+-------+\n",
      "| article_id | rmse | count |\n",
      "+------------+------+-------+\n",
      "| 703367005  | 0.0  |   2   |\n",
      "+------------+------+-------+\n",
      "[1 rows x 3 columns]\n",
      "\n",
      "\n",
      "Per Item RMSE (worst)\n",
      "+------------+------+-------+\n",
      "| article_id | rmse | count |\n",
      "+------------+------+-------+\n",
      "| 691149002  | 11.0 |   1   |\n",
      "+------------+------+-------+\n",
      "[1 rows x 3 columns]\n",
      "\n",
      "PROGRESS: Evaluate model Popularity Model on Purchase Dummy\n"
     ]
    },
    {
     "data": {
      "text/html": [
       "<pre>recommendations finished on 1000/11066 queries. users per second: 2914.76</pre>"
      ],
      "text/plain": [
       "recommendations finished on 1000/11066 queries. users per second: 2914.76"
      ]
     },
     "metadata": {},
     "output_type": "display_data"
    },
    {
     "data": {
      "text/html": [
       "<pre>recommendations finished on 2000/11066 queries. users per second: 2996.01</pre>"
      ],
      "text/plain": [
       "recommendations finished on 2000/11066 queries. users per second: 2996.01"
      ]
     },
     "metadata": {},
     "output_type": "display_data"
    },
    {
     "data": {
      "text/html": [
       "<pre>recommendations finished on 3000/11066 queries. users per second: 3020.1</pre>"
      ],
      "text/plain": [
       "recommendations finished on 3000/11066 queries. users per second: 3020.1"
      ]
     },
     "metadata": {},
     "output_type": "display_data"
    },
    {
     "data": {
      "text/html": [
       "<pre>recommendations finished on 4000/11066 queries. users per second: 3058.82</pre>"
      ],
      "text/plain": [
       "recommendations finished on 4000/11066 queries. users per second: 3058.82"
      ]
     },
     "metadata": {},
     "output_type": "display_data"
    },
    {
     "data": {
      "text/html": [
       "<pre>recommendations finished on 5000/11066 queries. users per second: 3202.16</pre>"
      ],
      "text/plain": [
       "recommendations finished on 5000/11066 queries. users per second: 3202.16"
      ]
     },
     "metadata": {},
     "output_type": "display_data"
    },
    {
     "data": {
      "text/html": [
       "<pre>recommendations finished on 6000/11066 queries. users per second: 3242.97</pre>"
      ],
      "text/plain": [
       "recommendations finished on 6000/11066 queries. users per second: 3242.97"
      ]
     },
     "metadata": {},
     "output_type": "display_data"
    },
    {
     "data": {
      "text/html": [
       "<pre>recommendations finished on 7000/11066 queries. users per second: 3280.86</pre>"
      ],
      "text/plain": [
       "recommendations finished on 7000/11066 queries. users per second: 3280.86"
      ]
     },
     "metadata": {},
     "output_type": "display_data"
    },
    {
     "data": {
      "text/html": [
       "<pre>recommendations finished on 8000/11066 queries. users per second: 3360.71</pre>"
      ],
      "text/plain": [
       "recommendations finished on 8000/11066 queries. users per second: 3360.71"
      ]
     },
     "metadata": {},
     "output_type": "display_data"
    },
    {
     "data": {
      "text/html": [
       "<pre>recommendations finished on 9000/11066 queries. users per second: 3386.82</pre>"
      ],
      "text/plain": [
       "recommendations finished on 9000/11066 queries. users per second: 3386.82"
      ]
     },
     "metadata": {},
     "output_type": "display_data"
    },
    {
     "data": {
      "text/html": [
       "<pre>recommendations finished on 10000/11066 queries. users per second: 3432.48</pre>"
      ],
      "text/plain": [
       "recommendations finished on 10000/11066 queries. users per second: 3432.48"
      ]
     },
     "metadata": {},
     "output_type": "display_data"
    },
    {
     "data": {
      "text/html": [
       "<pre>recommendations finished on 11000/11066 queries. users per second: 3459.57</pre>"
      ],
      "text/plain": [
       "recommendations finished on 11000/11066 queries. users per second: 3459.57"
      ]
     },
     "metadata": {},
     "output_type": "display_data"
    },
    {
     "name": "stdout",
     "output_type": "stream",
     "text": [
      "\n",
      "Precision and recall summary statistics by cutoff\n",
      "+--------+-----------------------+------------------------+\n",
      "| cutoff |     mean_precision    |      mean_recall       |\n",
      "+--------+-----------------------+------------------------+\n",
      "|   1    | 0.0029821073558648106 | 5.791959072644346e-05  |\n",
      "|   2    | 0.0018073377914332167 | 7.277407918122313e-05  |\n",
      "|   3    |  0.004759322850774141 | 0.00033426657583933813 |\n",
      "|   4    |  0.004563527923368877 | 0.00042744009882202615 |\n",
      "|   5    |  0.003723115850352434 | 0.00043390991729698854 |\n",
      "|   6    |  0.003509247545032831 | 0.0004969192335062776  |\n",
      "|   7    | 0.0032661175802328885 | 0.0005334910796344751  |\n",
      "|   8    | 0.0028804446050966935 | 0.0005358735665216986  |\n",
      "|   9    | 0.0029319035283249893 | 0.0006129377411978416  |\n",
      "|   10   | 0.0038767395626242754 | 0.0009003977189694016  |\n",
      "+--------+-----------------------+------------------------+\n",
      "[10 rows x 3 columns]\n",
      "\n",
      "\n",
      "Overall RMSE: 0.0\n",
      "\n",
      "Per User RMSE (best)\n",
      "+-------------------------------+------+-------+\n",
      "|          customer_id          | rmse | count |\n",
      "+-------------------------------+------+-------+\n",
      "| 81cc3178e4920987f05363d927... | 0.0  |   39  |\n",
      "+-------------------------------+------+-------+\n",
      "[1 rows x 3 columns]\n",
      "\n",
      "\n",
      "Per User RMSE (worst)\n",
      "+-------------------------------+------+-------+\n",
      "|          customer_id          | rmse | count |\n",
      "+-------------------------------+------+-------+\n",
      "| 250039015607871019994d80d9... | 0.0  |   40  |\n",
      "+-------------------------------+------+-------+\n",
      "[1 rows x 3 columns]\n",
      "\n",
      "\n",
      "Per Item RMSE (best)\n",
      "+------------+------+-------+\n",
      "| article_id | rmse | count |\n",
      "+------------+------+-------+\n",
      "| 741366001  | 0.0  |   2   |\n",
      "+------------+------+-------+\n",
      "[1 rows x 3 columns]\n",
      "\n",
      "\n",
      "Per Item RMSE (worst)\n",
      "+------------+------+-------+\n",
      "| article_id | rmse | count |\n",
      "+------------+------+-------+\n",
      "| 215303002  | 0.0  |   4   |\n",
      "+------------+------+-------+\n",
      "[1 rows x 3 columns]\n",
      "\n",
      "PROGRESS: Evaluate model Cosine Similarity on Purchase Dummy\n"
     ]
    },
    {
     "data": {
      "text/html": [
       "<pre>recommendations finished on 1000/11066 queries. users per second: 2116.94</pre>"
      ],
      "text/plain": [
       "recommendations finished on 1000/11066 queries. users per second: 2116.94"
      ]
     },
     "metadata": {},
     "output_type": "display_data"
    },
    {
     "data": {
      "text/html": [
       "<pre>recommendations finished on 2000/11066 queries. users per second: 2353.62</pre>"
      ],
      "text/plain": [
       "recommendations finished on 2000/11066 queries. users per second: 2353.62"
      ]
     },
     "metadata": {},
     "output_type": "display_data"
    },
    {
     "data": {
      "text/html": [
       "<pre>recommendations finished on 3000/11066 queries. users per second: 2369.98</pre>"
      ],
      "text/plain": [
       "recommendations finished on 3000/11066 queries. users per second: 2369.98"
      ]
     },
     "metadata": {},
     "output_type": "display_data"
    },
    {
     "data": {
      "text/html": [
       "<pre>recommendations finished on 4000/11066 queries. users per second: 2320.55</pre>"
      ],
      "text/plain": [
       "recommendations finished on 4000/11066 queries. users per second: 2320.55"
      ]
     },
     "metadata": {},
     "output_type": "display_data"
    },
    {
     "data": {
      "text/html": [
       "<pre>recommendations finished on 5000/11066 queries. users per second: 2304.36</pre>"
      ],
      "text/plain": [
       "recommendations finished on 5000/11066 queries. users per second: 2304.36"
      ]
     },
     "metadata": {},
     "output_type": "display_data"
    },
    {
     "data": {
      "text/html": [
       "<pre>recommendations finished on 6000/11066 queries. users per second: 2328.44</pre>"
      ],
      "text/plain": [
       "recommendations finished on 6000/11066 queries. users per second: 2328.44"
      ]
     },
     "metadata": {},
     "output_type": "display_data"
    },
    {
     "data": {
      "text/html": [
       "<pre>recommendations finished on 7000/11066 queries. users per second: 2341.47</pre>"
      ],
      "text/plain": [
       "recommendations finished on 7000/11066 queries. users per second: 2341.47"
      ]
     },
     "metadata": {},
     "output_type": "display_data"
    },
    {
     "data": {
      "text/html": [
       "<pre>recommendations finished on 8000/11066 queries. users per second: 2363.91</pre>"
      ],
      "text/plain": [
       "recommendations finished on 8000/11066 queries. users per second: 2363.91"
      ]
     },
     "metadata": {},
     "output_type": "display_data"
    },
    {
     "data": {
      "text/html": [
       "<pre>recommendations finished on 9000/11066 queries. users per second: 2390.75</pre>"
      ],
      "text/plain": [
       "recommendations finished on 9000/11066 queries. users per second: 2390.75"
      ]
     },
     "metadata": {},
     "output_type": "display_data"
    },
    {
     "data": {
      "text/html": [
       "<pre>recommendations finished on 10000/11066 queries. users per second: 2413.84</pre>"
      ],
      "text/plain": [
       "recommendations finished on 10000/11066 queries. users per second: 2413.84"
      ]
     },
     "metadata": {},
     "output_type": "display_data"
    },
    {
     "data": {
      "text/html": [
       "<pre>recommendations finished on 11000/11066 queries. users per second: 2442.05</pre>"
      ],
      "text/plain": [
       "recommendations finished on 11000/11066 queries. users per second: 2442.05"
      ]
     },
     "metadata": {},
     "output_type": "display_data"
    },
    {
     "name": "stdout",
     "output_type": "stream",
     "text": [
      "\n",
      "Precision and recall summary statistics by cutoff\n",
      "+--------+---------------------+-----------------------+\n",
      "| cutoff |    mean_precision   |      mean_recall      |\n",
      "+--------+---------------------+-----------------------+\n",
      "|   1    | 0.11738658955358756 | 0.0037714049358669875 |\n",
      "|   2    | 0.09786734140610882 |  0.006195835077316818 |\n",
      "|   3    |  0.0866618470992228 |  0.00830031147639314  |\n",
      "|   4    | 0.07809958431230786 |  0.010014832932082477 |\n",
      "|   5    | 0.07191397072112785 |  0.01157767153186948  |\n",
      "|   6    | 0.06658533646605179 |  0.012872574183222808 |\n",
      "|   7    | 0.06209496269138438 |  0.014011995990967764 |\n",
      "|   8    | 0.05862551960961504 |  0.015136627413709802 |\n",
      "|   9    | 0.05576641163122245 |  0.016192631335151943 |\n",
      "|   10   | 0.05320802457979405 |  0.01719839233114133  |\n",
      "+--------+---------------------+-----------------------+\n",
      "[10 rows x 3 columns]\n",
      "\n",
      "\n",
      "Overall RMSE: 0.9993247882398781\n",
      "\n",
      "Per User RMSE (best)\n",
      "+-------------------------------+--------------------+-------+\n",
      "|          customer_id          |        rmse        | count |\n",
      "+-------------------------------+--------------------+-------+\n",
      "| 2c6a4f6c98d1533c948984a4ee... | 0.9568657547524501 |   3   |\n",
      "+-------------------------------+--------------------+-------+\n",
      "[1 rows x 3 columns]\n",
      "\n",
      "\n",
      "Per User RMSE (worst)\n",
      "+-------------------------------+------+-------+\n",
      "|          customer_id          | rmse | count |\n",
      "+-------------------------------+------+-------+\n",
      "| 462f48e30609f8e2fd13f1dc57... | 1.0  |   9   |\n",
      "+-------------------------------+------+-------+\n",
      "[1 rows x 3 columns]\n",
      "\n",
      "\n",
      "Per Item RMSE (best)\n",
      "+------------+--------------------+-------+\n",
      "| article_id |        rmse        | count |\n",
      "+------------+--------------------+-------+\n",
      "| 652708002  | 0.9404977337986815 |   1   |\n",
      "+------------+--------------------+-------+\n",
      "[1 rows x 3 columns]\n",
      "\n",
      "\n",
      "Per Item RMSE (worst)\n",
      "+------------+------+-------+\n",
      "| article_id | rmse | count |\n",
      "+------------+------+-------+\n",
      "| 215303002  | 1.0  |   4   |\n",
      "+------------+------+-------+\n",
      "[1 rows x 3 columns]\n",
      "\n",
      "PROGRESS: Evaluate model Pearson Similarity on Purchase Dummy\n"
     ]
    },
    {
     "data": {
      "text/html": [
       "<pre>recommendations finished on 1000/11066 queries. users per second: 1686.76</pre>"
      ],
      "text/plain": [
       "recommendations finished on 1000/11066 queries. users per second: 1686.76"
      ]
     },
     "metadata": {},
     "output_type": "display_data"
    },
    {
     "data": {
      "text/html": [
       "<pre>recommendations finished on 2000/11066 queries. users per second: 1664.79</pre>"
      ],
      "text/plain": [
       "recommendations finished on 2000/11066 queries. users per second: 1664.79"
      ]
     },
     "metadata": {},
     "output_type": "display_data"
    },
    {
     "data": {
      "text/html": [
       "<pre>recommendations finished on 3000/11066 queries. users per second: 1679.61</pre>"
      ],
      "text/plain": [
       "recommendations finished on 3000/11066 queries. users per second: 1679.61"
      ]
     },
     "metadata": {},
     "output_type": "display_data"
    },
    {
     "data": {
      "text/html": [
       "<pre>recommendations finished on 4000/11066 queries. users per second: 1693.11</pre>"
      ],
      "text/plain": [
       "recommendations finished on 4000/11066 queries. users per second: 1693.11"
      ]
     },
     "metadata": {},
     "output_type": "display_data"
    },
    {
     "data": {
      "text/html": [
       "<pre>recommendations finished on 5000/11066 queries. users per second: 1700.49</pre>"
      ],
      "text/plain": [
       "recommendations finished on 5000/11066 queries. users per second: 1700.49"
      ]
     },
     "metadata": {},
     "output_type": "display_data"
    },
    {
     "data": {
      "text/html": [
       "<pre>recommendations finished on 6000/11066 queries. users per second: 1699.76</pre>"
      ],
      "text/plain": [
       "recommendations finished on 6000/11066 queries. users per second: 1699.76"
      ]
     },
     "metadata": {},
     "output_type": "display_data"
    },
    {
     "data": {
      "text/html": [
       "<pre>recommendations finished on 7000/11066 queries. users per second: 1697.14</pre>"
      ],
      "text/plain": [
       "recommendations finished on 7000/11066 queries. users per second: 1697.14"
      ]
     },
     "metadata": {},
     "output_type": "display_data"
    },
    {
     "data": {
      "text/html": [
       "<pre>recommendations finished on 8000/11066 queries. users per second: 1701.85</pre>"
      ],
      "text/plain": [
       "recommendations finished on 8000/11066 queries. users per second: 1701.85"
      ]
     },
     "metadata": {},
     "output_type": "display_data"
    },
    {
     "data": {
      "text/html": [
       "<pre>recommendations finished on 9000/11066 queries. users per second: 1704.59</pre>"
      ],
      "text/plain": [
       "recommendations finished on 9000/11066 queries. users per second: 1704.59"
      ]
     },
     "metadata": {},
     "output_type": "display_data"
    },
    {
     "data": {
      "text/html": [
       "<pre>recommendations finished on 10000/11066 queries. users per second: 1705.1</pre>"
      ],
      "text/plain": [
       "recommendations finished on 10000/11066 queries. users per second: 1705.1"
      ]
     },
     "metadata": {},
     "output_type": "display_data"
    },
    {
     "data": {
      "text/html": [
       "<pre>recommendations finished on 11000/11066 queries. users per second: 1699.43</pre>"
      ],
      "text/plain": [
       "recommendations finished on 11000/11066 queries. users per second: 1699.43"
      ]
     },
     "metadata": {},
     "output_type": "display_data"
    },
    {
     "name": "stdout",
     "output_type": "stream",
     "text": [
      "\n",
      "Precision and recall summary statistics by cutoff\n",
      "+--------+-----------------------+------------------------+\n",
      "| cutoff |     mean_precision    |      mean_recall       |\n",
      "+--------+-----------------------+------------------------+\n",
      "|   1    | 0.0029821073558648084 | 5.791959072644343e-05  |\n",
      "|   2    | 0.0018073377914332174 | 7.277407918122309e-05  |\n",
      "|   3    |  0.004759322850774141 | 0.0003342665758393384  |\n",
      "|   4    |  0.004563527923368881 |  0.000427440098822026  |\n",
      "|   5    |  0.003723115850352434 | 0.00043390991729698865 |\n",
      "|   6    |  0.003509247545032827 |  0.000496919233506277  |\n",
      "|   7    | 0.0032661175802328924 | 0.0005334910796344764  |\n",
      "|   8    |  0.002880444605096693 | 0.0005358735665216982  |\n",
      "|   9    |  0.002931903528324987 | 0.0006129377411978409  |\n",
      "|   10   | 0.0038767395626242837 |  0.000900397718969401  |\n",
      "+--------+-----------------------+------------------------+\n",
      "[10 rows x 3 columns]\n",
      "\n",
      "\n",
      "Overall RMSE: 1.0\n",
      "\n",
      "Per User RMSE (best)\n",
      "+-------------------------------+------+-------+\n",
      "|          customer_id          | rmse | count |\n",
      "+-------------------------------+------+-------+\n",
      "| 81cc3178e4920987f05363d927... | 1.0  |   39  |\n",
      "+-------------------------------+------+-------+\n",
      "[1 rows x 3 columns]\n",
      "\n",
      "\n",
      "Per User RMSE (worst)\n",
      "+-------------------------------+------+-------+\n",
      "|          customer_id          | rmse | count |\n",
      "+-------------------------------+------+-------+\n",
      "| 250039015607871019994d80d9... | 1.0  |   40  |\n",
      "+-------------------------------+------+-------+\n",
      "[1 rows x 3 columns]\n",
      "\n",
      "\n",
      "Per Item RMSE (best)\n",
      "+------------+------+-------+\n",
      "| article_id | rmse | count |\n",
      "+------------+------+-------+\n",
      "| 741366001  | 1.0  |   2   |\n",
      "+------------+------+-------+\n",
      "[1 rows x 3 columns]\n",
      "\n",
      "\n",
      "Per Item RMSE (worst)\n",
      "+------------+------+-------+\n",
      "| article_id | rmse | count |\n",
      "+------------+------+-------+\n",
      "| 215303002  | 1.0  |   4   |\n",
      "+------------+------+-------+\n",
      "[1 rows x 3 columns]\n",
      "\n",
      "PROGRESS: Evaluate model Popularity Model on Scaled Purchase Counts\n"
     ]
    },
    {
     "data": {
      "text/html": [
       "<pre>recommendations finished on 1000/11066 queries. users per second: 10422.9</pre>"
      ],
      "text/plain": [
       "recommendations finished on 1000/11066 queries. users per second: 10422.9"
      ]
     },
     "metadata": {},
     "output_type": "display_data"
    },
    {
     "data": {
      "text/html": [
       "<pre>recommendations finished on 2000/11066 queries. users per second: 10861.6</pre>"
      ],
      "text/plain": [
       "recommendations finished on 2000/11066 queries. users per second: 10861.6"
      ]
     },
     "metadata": {},
     "output_type": "display_data"
    },
    {
     "data": {
      "text/html": [
       "<pre>recommendations finished on 3000/11066 queries. users per second: 10956</pre>"
      ],
      "text/plain": [
       "recommendations finished on 3000/11066 queries. users per second: 10956"
      ]
     },
     "metadata": {},
     "output_type": "display_data"
    },
    {
     "data": {
      "text/html": [
       "<pre>recommendations finished on 4000/11066 queries. users per second: 11103.6</pre>"
      ],
      "text/plain": [
       "recommendations finished on 4000/11066 queries. users per second: 11103.6"
      ]
     },
     "metadata": {},
     "output_type": "display_data"
    },
    {
     "data": {
      "text/html": [
       "<pre>recommendations finished on 5000/11066 queries. users per second: 11196.6</pre>"
      ],
      "text/plain": [
       "recommendations finished on 5000/11066 queries. users per second: 11196.6"
      ]
     },
     "metadata": {},
     "output_type": "display_data"
    },
    {
     "data": {
      "text/html": [
       "<pre>recommendations finished on 6000/11066 queries. users per second: 11221.3</pre>"
      ],
      "text/plain": [
       "recommendations finished on 6000/11066 queries. users per second: 11221.3"
      ]
     },
     "metadata": {},
     "output_type": "display_data"
    },
    {
     "data": {
      "text/html": [
       "<pre>recommendations finished on 7000/11066 queries. users per second: 11094.2</pre>"
      ],
      "text/plain": [
       "recommendations finished on 7000/11066 queries. users per second: 11094.2"
      ]
     },
     "metadata": {},
     "output_type": "display_data"
    },
    {
     "data": {
      "text/html": [
       "<pre>recommendations finished on 8000/11066 queries. users per second: 11152.9</pre>"
      ],
      "text/plain": [
       "recommendations finished on 8000/11066 queries. users per second: 11152.9"
      ]
     },
     "metadata": {},
     "output_type": "display_data"
    },
    {
     "data": {
      "text/html": [
       "<pre>recommendations finished on 9000/11066 queries. users per second: 11064.2</pre>"
      ],
      "text/plain": [
       "recommendations finished on 9000/11066 queries. users per second: 11064.2"
      ]
     },
     "metadata": {},
     "output_type": "display_data"
    },
    {
     "data": {
      "text/html": [
       "<pre>recommendations finished on 10000/11066 queries. users per second: 10915.1</pre>"
      ],
      "text/plain": [
       "recommendations finished on 10000/11066 queries. users per second: 10915.1"
      ]
     },
     "metadata": {},
     "output_type": "display_data"
    },
    {
     "data": {
      "text/html": [
       "<pre>recommendations finished on 11000/11066 queries. users per second: 10829.6</pre>"
      ],
      "text/plain": [
       "recommendations finished on 11000/11066 queries. users per second: 10829.6"
      ]
     },
     "metadata": {},
     "output_type": "display_data"
    },
    {
     "name": "stdout",
     "output_type": "stream",
     "text": [
      "\n",
      "Precision and recall summary statistics by cutoff\n",
      "+--------+------------------------+------------------------+\n",
      "| cutoff |     mean_precision     |      mean_recall       |\n",
      "+--------+------------------------+------------------------+\n",
      "|   1    | 9.036688957166096e-05  | 9.316174182645462e-07  |\n",
      "|   2    | 0.00013555033435749144 | 4.6148522232434556e-06 |\n",
      "|   3    | 0.00012048918609554782 | 1.106963004979066e-05  |\n",
      "|   4    | 0.00015814205675040657 | 1.6671320280548597e-05 |\n",
      "|   5    | 0.0001807337791433218  | 2.4837809560357932e-05 |\n",
      "|   6    | 0.00015061148261943455 | 2.4837809560357966e-05 |\n",
      "|   7    | 0.00014200511218403832 | 2.5809496544999514e-05 |\n",
      "|   8    | 0.00012425447316103362 | 2.5809496544999447e-05 |\n",
      "|   9    | 0.00011044842058758571 | 2.580949654499947e-05  |\n",
      "|   10   | 9.940357852882707e-05  | 2.580949654499948e-05  |\n",
      "+--------+------------------------+------------------------+\n",
      "[10 rows x 3 columns]\n",
      "\n",
      "\n",
      "Overall RMSE: 0.2165021251170643\n",
      "\n",
      "Per User RMSE (best)\n",
      "+-------------------------------+---------------------+-------+\n",
      "|          customer_id          |         rmse        | count |\n",
      "+-------------------------------+---------------------+-------+\n",
      "| 31de1eb54d289d7fffa2048572... | 0.03917716518729402 |   3   |\n",
      "+-------------------------------+---------------------+-------+\n",
      "[1 rows x 3 columns]\n",
      "\n",
      "\n",
      "Per User RMSE (worst)\n",
      "+-------------------------------+--------------------+-------+\n",
      "|          customer_id          |        rmse        | count |\n",
      "+-------------------------------+--------------------+-------+\n",
      "| 9d50687e366b49577c13695261... | 0.9878057687711214 |   13  |\n",
      "+-------------------------------+--------------------+-------+\n",
      "[1 rows x 3 columns]\n",
      "\n",
      "\n",
      "Per Item RMSE (best)\n",
      "+------------+------+-------+\n",
      "| article_id | rmse | count |\n",
      "+------------+------+-------+\n",
      "| 854168001  | 0.0  |   2   |\n",
      "+------------+------+-------+\n",
      "[1 rows x 3 columns]\n",
      "\n",
      "\n",
      "Per Item RMSE (worst)\n",
      "+------------+------+-------+\n",
      "| article_id | rmse | count |\n",
      "+------------+------+-------+\n",
      "| 767577063  | 1.0  |   1   |\n",
      "+------------+------+-------+\n",
      "[1 rows x 3 columns]\n",
      "\n",
      "PROGRESS: Evaluate model Cosine Similarity on Scaled Purchase Counts\n"
     ]
    },
    {
     "data": {
      "text/html": [
       "<pre>recommendations finished on 1000/11066 queries. users per second: 8698.07</pre>"
      ],
      "text/plain": [
       "recommendations finished on 1000/11066 queries. users per second: 8698.07"
      ]
     },
     "metadata": {},
     "output_type": "display_data"
    },
    {
     "data": {
      "text/html": [
       "<pre>recommendations finished on 2000/11066 queries. users per second: 9364.87</pre>"
      ],
      "text/plain": [
       "recommendations finished on 2000/11066 queries. users per second: 9364.87"
      ]
     },
     "metadata": {},
     "output_type": "display_data"
    },
    {
     "data": {
      "text/html": [
       "<pre>recommendations finished on 3000/11066 queries. users per second: 9596.68</pre>"
      ],
      "text/plain": [
       "recommendations finished on 3000/11066 queries. users per second: 9596.68"
      ]
     },
     "metadata": {},
     "output_type": "display_data"
    },
    {
     "data": {
      "text/html": [
       "<pre>recommendations finished on 4000/11066 queries. users per second: 9798.06</pre>"
      ],
      "text/plain": [
       "recommendations finished on 4000/11066 queries. users per second: 9798.06"
      ]
     },
     "metadata": {},
     "output_type": "display_data"
    },
    {
     "data": {
      "text/html": [
       "<pre>recommendations finished on 5000/11066 queries. users per second: 9898.11</pre>"
      ],
      "text/plain": [
       "recommendations finished on 5000/11066 queries. users per second: 9898.11"
      ]
     },
     "metadata": {},
     "output_type": "display_data"
    },
    {
     "data": {
      "text/html": [
       "<pre>recommendations finished on 6000/11066 queries. users per second: 9933.92</pre>"
      ],
      "text/plain": [
       "recommendations finished on 6000/11066 queries. users per second: 9933.92"
      ]
     },
     "metadata": {},
     "output_type": "display_data"
    },
    {
     "data": {
      "text/html": [
       "<pre>recommendations finished on 7000/11066 queries. users per second: 9846.73</pre>"
      ],
      "text/plain": [
       "recommendations finished on 7000/11066 queries. users per second: 9846.73"
      ]
     },
     "metadata": {},
     "output_type": "display_data"
    },
    {
     "data": {
      "text/html": [
       "<pre>recommendations finished on 8000/11066 queries. users per second: 9915.18</pre>"
      ],
      "text/plain": [
       "recommendations finished on 8000/11066 queries. users per second: 9915.18"
      ]
     },
     "metadata": {},
     "output_type": "display_data"
    },
    {
     "data": {
      "text/html": [
       "<pre>recommendations finished on 9000/11066 queries. users per second: 9952.87</pre>"
      ],
      "text/plain": [
       "recommendations finished on 9000/11066 queries. users per second: 9952.87"
      ]
     },
     "metadata": {},
     "output_type": "display_data"
    },
    {
     "data": {
      "text/html": [
       "<pre>recommendations finished on 10000/11066 queries. users per second: 9977.68</pre>"
      ],
      "text/plain": [
       "recommendations finished on 10000/11066 queries. users per second: 9977.68"
      ]
     },
     "metadata": {},
     "output_type": "display_data"
    },
    {
     "data": {
      "text/html": [
       "<pre>recommendations finished on 11000/11066 queries. users per second: 10015.5</pre>"
      ],
      "text/plain": [
       "recommendations finished on 11000/11066 queries. users per second: 10015.5"
      ]
     },
     "metadata": {},
     "output_type": "display_data"
    },
    {
     "name": "stdout",
     "output_type": "stream",
     "text": [
      "\n",
      "Precision and recall summary statistics by cutoff\n",
      "+--------+-----------------------+------------------------+\n",
      "| cutoff |     mean_precision    |      mean_recall       |\n",
      "+--------+-----------------------+------------------------+\n",
      "|   1    |  0.007590818724019523 | 0.00027482298589924227 |\n",
      "|   2    |  0.005828664377372133 | 0.00041585917899409773 |\n",
      "|   3    |  0.004789445147298033 | 0.0004985318205117558  |\n",
      "|   4    |  0.004292427254653901 |  0.000586956480826317  |\n",
      "|   5    |  0.003976143141153085 | 0.0006628763065622877  |\n",
      "|   6    | 0.0037652870654858697 |  0.000744218937244094  |\n",
      "|   7    |  0.003550127804600969 | 0.0008144171001978192  |\n",
      "|   8    |  0.003445237664919574 | 0.0008981887529255231  |\n",
      "|   9    |  0.003373697210675339 | 0.0009863785635454052  |\n",
      "|   10   | 0.0032893547804084735 | 0.0010664103866589272  |\n",
      "+--------+-----------------------+------------------------+\n",
      "[10 rows x 3 columns]\n",
      "\n",
      "\n",
      "Overall RMSE: 0.21829171695495195\n",
      "\n",
      "Per User RMSE (best)\n",
      "+-------------------------------+------+-------+\n",
      "|          customer_id          | rmse | count |\n",
      "+-------------------------------+------+-------+\n",
      "| 019bbf0c4f9e22ad37fc40de60... | 0.0  |   20  |\n",
      "+-------------------------------+------+-------+\n",
      "[1 rows x 3 columns]\n",
      "\n",
      "\n",
      "Per User RMSE (worst)\n",
      "+-------------------------------+--------------------+-------+\n",
      "|          customer_id          |        rmse        | count |\n",
      "+-------------------------------+--------------------+-------+\n",
      "| 9d50687e366b49577c13695261... | 0.9956772002509547 |   13  |\n",
      "+-------------------------------+--------------------+-------+\n",
      "[1 rows x 3 columns]\n",
      "\n",
      "\n",
      "Per Item RMSE (best)\n",
      "+------------+------+-------+\n",
      "| article_id | rmse | count |\n",
      "+------------+------+-------+\n",
      "| 741366001  | 0.0  |   4   |\n",
      "+------------+------+-------+\n",
      "[1 rows x 3 columns]\n",
      "\n",
      "\n",
      "Per Item RMSE (worst)\n",
      "+------------+------+-------+\n",
      "| article_id | rmse | count |\n",
      "+------------+------+-------+\n",
      "| 630450001  | 1.0  |   1   |\n",
      "+------------+------+-------+\n",
      "[1 rows x 3 columns]\n",
      "\n",
      "PROGRESS: Evaluate model Pearson Similarity on Scaled Purchase Counts\n"
     ]
    },
    {
     "data": {
      "text/html": [
       "<pre>recommendations finished on 1000/11066 queries. users per second: 6335.81</pre>"
      ],
      "text/plain": [
       "recommendations finished on 1000/11066 queries. users per second: 6335.81"
      ]
     },
     "metadata": {},
     "output_type": "display_data"
    },
    {
     "data": {
      "text/html": [
       "<pre>recommendations finished on 2000/11066 queries. users per second: 6472.6</pre>"
      ],
      "text/plain": [
       "recommendations finished on 2000/11066 queries. users per second: 6472.6"
      ]
     },
     "metadata": {},
     "output_type": "display_data"
    },
    {
     "data": {
      "text/html": [
       "<pre>recommendations finished on 3000/11066 queries. users per second: 6553.9</pre>"
      ],
      "text/plain": [
       "recommendations finished on 3000/11066 queries. users per second: 6553.9"
      ]
     },
     "metadata": {},
     "output_type": "display_data"
    },
    {
     "data": {
      "text/html": [
       "<pre>recommendations finished on 4000/11066 queries. users per second: 6654.63</pre>"
      ],
      "text/plain": [
       "recommendations finished on 4000/11066 queries. users per second: 6654.63"
      ]
     },
     "metadata": {},
     "output_type": "display_data"
    },
    {
     "data": {
      "text/html": [
       "<pre>recommendations finished on 5000/11066 queries. users per second: 6735.49</pre>"
      ],
      "text/plain": [
       "recommendations finished on 5000/11066 queries. users per second: 6735.49"
      ]
     },
     "metadata": {},
     "output_type": "display_data"
    },
    {
     "data": {
      "text/html": [
       "<pre>recommendations finished on 6000/11066 queries. users per second: 6747.15</pre>"
      ],
      "text/plain": [
       "recommendations finished on 6000/11066 queries. users per second: 6747.15"
      ]
     },
     "metadata": {},
     "output_type": "display_data"
    },
    {
     "data": {
      "text/html": [
       "<pre>recommendations finished on 7000/11066 queries. users per second: 6739.34</pre>"
      ],
      "text/plain": [
       "recommendations finished on 7000/11066 queries. users per second: 6739.34"
      ]
     },
     "metadata": {},
     "output_type": "display_data"
    },
    {
     "data": {
      "text/html": [
       "<pre>recommendations finished on 8000/11066 queries. users per second: 6765.64</pre>"
      ],
      "text/plain": [
       "recommendations finished on 8000/11066 queries. users per second: 6765.64"
      ]
     },
     "metadata": {},
     "output_type": "display_data"
    },
    {
     "data": {
      "text/html": [
       "<pre>recommendations finished on 9000/11066 queries. users per second: 6788.49</pre>"
      ],
      "text/plain": [
       "recommendations finished on 9000/11066 queries. users per second: 6788.49"
      ]
     },
     "metadata": {},
     "output_type": "display_data"
    },
    {
     "data": {
      "text/html": [
       "<pre>recommendations finished on 10000/11066 queries. users per second: 6776.65</pre>"
      ],
      "text/plain": [
       "recommendations finished on 10000/11066 queries. users per second: 6776.65"
      ]
     },
     "metadata": {},
     "output_type": "display_data"
    },
    {
     "data": {
      "text/html": [
       "<pre>recommendations finished on 11000/11066 queries. users per second: 6763.74</pre>"
      ],
      "text/plain": [
       "recommendations finished on 11000/11066 queries. users per second: 6763.74"
      ]
     },
     "metadata": {},
     "output_type": "display_data"
    },
    {
     "name": "stdout",
     "output_type": "stream",
     "text": [
      "\n",
      "Precision and recall summary statistics by cutoff\n",
      "+--------+------------------------+------------------------+\n",
      "| cutoff |     mean_precision     |      mean_recall       |\n",
      "+--------+------------------------+------------------------+\n",
      "|   1    | 9.036688957166096e-05  | 9.316174182645444e-07  |\n",
      "|   2    | 4.518344478583048e-05  | 9.316174182645456e-07  |\n",
      "|   3    | 6.024459304777405e-05  |  3.03317298969852e-06  |\n",
      "|   4    | 9.036688957166098e-05  | 6.311187611415642e-06  |\n",
      "|   5    | 9.036688957166088e-05  | 1.082953208999867e-05  |\n",
      "|   6    | 7.530574130971732e-05  | 1.0829532089998678e-05 |\n",
      "|   7    | 7.745733391856653e-05  | 1.3033602567356265e-05 |\n",
      "|   8    | 9.036688957166092e-05  | 1.6858656094199037e-05 |\n",
      "|   9    | 0.00011044842058758571 | 2.4693495846624237e-05 |\n",
      "|   10   | 0.00010844026748599308 | 2.6616195624744716e-05 |\n",
      "+--------+------------------------+------------------------+\n",
      "[10 rows x 3 columns]\n",
      "\n",
      "\n",
      "Overall RMSE: 0.2165072247726768\n",
      "\n",
      "Per User RMSE (best)\n",
      "+-------------------------------+---------------------+-------+\n",
      "|          customer_id          |         rmse        | count |\n",
      "+-------------------------------+---------------------+-------+\n",
      "| 31de1eb54d289d7fffa2048572... | 0.03909326495028792 |   3   |\n",
      "+-------------------------------+---------------------+-------+\n",
      "[1 rows x 3 columns]\n",
      "\n",
      "\n",
      "Per User RMSE (worst)\n",
      "+-------------------------------+--------------------+-------+\n",
      "|          customer_id          |        rmse        | count |\n",
      "+-------------------------------+--------------------+-------+\n",
      "| 9d50687e366b49577c13695261... | 0.9845193851299306 |   13  |\n",
      "+-------------------------------+--------------------+-------+\n",
      "[1 rows x 3 columns]\n",
      "\n",
      "\n",
      "Per Item RMSE (best)\n",
      "+------------+------------------------+-------+\n",
      "| article_id |          rmse          | count |\n",
      "+------------+------------------------+-------+\n",
      "| 854168001  | 0.00038239450594403486 |   2   |\n",
      "+------------+------------------------+-------+\n",
      "[1 rows x 3 columns]\n",
      "\n",
      "\n",
      "Per Item RMSE (worst)\n",
      "+------------+------+-------+\n",
      "| article_id | rmse | count |\n",
      "+------------+------+-------+\n",
      "| 767577063  | 1.0  |   1   |\n",
      "+------------+------+-------+\n",
      "[1 rows x 3 columns]\n",
      "\n"
     ]
    }
   ],
   "source": [
    "eval_counts = tc.recommender.util.compare_models(test_purchases, models_purchases, model_names=names_w_counts)\n",
    "eval_dummy = tc.recommender.util.compare_models(test_dummy, models_w_dummy, model_names=names_w_dummy)\n",
    "eval_norm = tc.recommender.util.compare_models(test_normalized, models_w_norm, model_names=names_w_norm)"
   ]
  },
  {
   "cell_type": "code",
   "execution_count": 68,
   "id": "29c482cb",
   "metadata": {},
   "outputs": [
    {
     "data": {
      "text/html": [
       "<div style=\"max-height:1000px;max-width:1500px;overflow:auto;\"><table frame=\"box\" rules=\"cols\">\n",
       "    <tr>\n",
       "        <th style=\"padding-left: 1em; padding-right: 1em; text-align: center\">customer_id</th>\n",
       "        <th style=\"padding-left: 1em; padding-right: 1em; text-align: center\">article_id</th>\n",
       "        <th style=\"padding-left: 1em; padding-right: 1em; text-align: center\">article_purchase_count</th>\n",
       "        <th style=\"padding-left: 1em; padding-right: 1em; text-align: center\">dummy</th>\n",
       "    </tr>\n",
       "    <tr>\n",
       "        <td style=\"padding-left: 1em; padding-right: 1em; text-align: center; vertical-align: top\">7c35b6c2d23b6d684492642a6<br>fb15ef1e635f8c08292f6 ...</td>\n",
       "        <td style=\"padding-left: 1em; padding-right: 1em; text-align: center; vertical-align: top\">860367001</td>\n",
       "        <td style=\"padding-left: 1em; padding-right: 1em; text-align: center; vertical-align: top\">1</td>\n",
       "        <td style=\"padding-left: 1em; padding-right: 1em; text-align: center; vertical-align: top\">1</td>\n",
       "    </tr>\n",
       "    <tr>\n",
       "        <td style=\"padding-left: 1em; padding-right: 1em; text-align: center; vertical-align: top\">a94c6acdbaa9bd579fdc8a976<br>b45fb3e232228eca544e8 ...</td>\n",
       "        <td style=\"padding-left: 1em; padding-right: 1em; text-align: center; vertical-align: top\">572797002</td>\n",
       "        <td style=\"padding-left: 1em; padding-right: 1em; text-align: center; vertical-align: top\">1</td>\n",
       "        <td style=\"padding-left: 1em; padding-right: 1em; text-align: center; vertical-align: top\">1</td>\n",
       "    </tr>\n",
       "    <tr>\n",
       "        <td style=\"padding-left: 1em; padding-right: 1em; text-align: center; vertical-align: top\">b0cd9e07f491ad112dfa2f72a<br>2616557b22fddf38e394b ...</td>\n",
       "        <td style=\"padding-left: 1em; padding-right: 1em; text-align: center; vertical-align: top\">636938001</td>\n",
       "        <td style=\"padding-left: 1em; padding-right: 1em; text-align: center; vertical-align: top\">1</td>\n",
       "        <td style=\"padding-left: 1em; padding-right: 1em; text-align: center; vertical-align: top\">1</td>\n",
       "    </tr>\n",
       "    <tr>\n",
       "        <td style=\"padding-left: 1em; padding-right: 1em; text-align: center; vertical-align: top\">4e5430df1a0621f389b09cef9<br>b13e6540564a7170bde4c ...</td>\n",
       "        <td style=\"padding-left: 1em; padding-right: 1em; text-align: center; vertical-align: top\">680391001</td>\n",
       "        <td style=\"padding-left: 1em; padding-right: 1em; text-align: center; vertical-align: top\">1</td>\n",
       "        <td style=\"padding-left: 1em; padding-right: 1em; text-align: center; vertical-align: top\">1</td>\n",
       "    </tr>\n",
       "    <tr>\n",
       "        <td style=\"padding-left: 1em; padding-right: 1em; text-align: center; vertical-align: top\">13d99b8414400684671c065d1<br>7760dcc87e60bc698bc64 ...</td>\n",
       "        <td style=\"padding-left: 1em; padding-right: 1em; text-align: center; vertical-align: top\">719530003</td>\n",
       "        <td style=\"padding-left: 1em; padding-right: 1em; text-align: center; vertical-align: top\">1</td>\n",
       "        <td style=\"padding-left: 1em; padding-right: 1em; text-align: center; vertical-align: top\">1</td>\n",
       "    </tr>\n",
       "    <tr>\n",
       "        <td style=\"padding-left: 1em; padding-right: 1em; text-align: center; vertical-align: top\">b1fcf0344cb9f8bbf6f88f8b0<br>17f4464092895c3a73254 ...</td>\n",
       "        <td style=\"padding-left: 1em; padding-right: 1em; text-align: center; vertical-align: top\">771829002</td>\n",
       "        <td style=\"padding-left: 1em; padding-right: 1em; text-align: center; vertical-align: top\">1</td>\n",
       "        <td style=\"padding-left: 1em; padding-right: 1em; text-align: center; vertical-align: top\">1</td>\n",
       "    </tr>\n",
       "    <tr>\n",
       "        <td style=\"padding-left: 1em; padding-right: 1em; text-align: center; vertical-align: top\">eb58fdb29b4b31371ff469f76<br>4494bcaa4acf73c87ea6e ...</td>\n",
       "        <td style=\"padding-left: 1em; padding-right: 1em; text-align: center; vertical-align: top\">622958016</td>\n",
       "        <td style=\"padding-left: 1em; padding-right: 1em; text-align: center; vertical-align: top\">1</td>\n",
       "        <td style=\"padding-left: 1em; padding-right: 1em; text-align: center; vertical-align: top\">1</td>\n",
       "    </tr>\n",
       "    <tr>\n",
       "        <td style=\"padding-left: 1em; padding-right: 1em; text-align: center; vertical-align: top\">9db98df68653f8ac6509bc8d3<br>fcd7fa4d26c9271698c0d ...</td>\n",
       "        <td style=\"padding-left: 1em; padding-right: 1em; text-align: center; vertical-align: top\">792817003</td>\n",
       "        <td style=\"padding-left: 1em; padding-right: 1em; text-align: center; vertical-align: top\">1</td>\n",
       "        <td style=\"padding-left: 1em; padding-right: 1em; text-align: center; vertical-align: top\">1</td>\n",
       "    </tr>\n",
       "    <tr>\n",
       "        <td style=\"padding-left: 1em; padding-right: 1em; text-align: center; vertical-align: top\">f5f08b8a672add528657f0934<br>52d51b7ca461e1607fcfd ...</td>\n",
       "        <td style=\"padding-left: 1em; padding-right: 1em; text-align: center; vertical-align: top\">713754001</td>\n",
       "        <td style=\"padding-left: 1em; padding-right: 1em; text-align: center; vertical-align: top\">1</td>\n",
       "        <td style=\"padding-left: 1em; padding-right: 1em; text-align: center; vertical-align: top\">1</td>\n",
       "    </tr>\n",
       "    <tr>\n",
       "        <td style=\"padding-left: 1em; padding-right: 1em; text-align: center; vertical-align: top\">72f1e8e3cac079befde45bf3c<br>3570951370d2a545ec43f ...</td>\n",
       "        <td style=\"padding-left: 1em; padding-right: 1em; text-align: center; vertical-align: top\">811398005</td>\n",
       "        <td style=\"padding-left: 1em; padding-right: 1em; text-align: center; vertical-align: top\">1</td>\n",
       "        <td style=\"padding-left: 1em; padding-right: 1em; text-align: center; vertical-align: top\">1</td>\n",
       "    </tr>\n",
       "</table>\n",
       "[501588 rows x 4 columns]<br/>Note: Only the head of the SFrame is printed.<br/>You can use print_rows(num_rows=m, num_columns=n) to print more rows and columns.\n",
       "</div>"
      ],
      "text/plain": [
       "Columns:\n",
       "\tcustomer_id\tstr\n",
       "\tarticle_id\tint\n",
       "\tarticle_purchase_count\tint\n",
       "\tdummy\tint\n",
       "\n",
       "Rows: 501588\n",
       "\n",
       "Data:\n",
       "+-------------------------------+------------+------------------------+-------+\n",
       "|          customer_id          | article_id | article_purchase_count | dummy |\n",
       "+-------------------------------+------------+------------------------+-------+\n",
       "| 7c35b6c2d23b6d684492642a6f... | 860367001  |           1            |   1   |\n",
       "| a94c6acdbaa9bd579fdc8a976b... | 572797002  |           1            |   1   |\n",
       "| b0cd9e07f491ad112dfa2f72a2... | 636938001  |           1            |   1   |\n",
       "| 4e5430df1a0621f389b09cef9b... | 680391001  |           1            |   1   |\n",
       "| 13d99b8414400684671c065d17... | 719530003  |           1            |   1   |\n",
       "| b1fcf0344cb9f8bbf6f88f8b01... | 771829002  |           1            |   1   |\n",
       "| eb58fdb29b4b31371ff469f764... | 622958016  |           1            |   1   |\n",
       "| 9db98df68653f8ac6509bc8d3f... | 792817003  |           1            |   1   |\n",
       "| f5f08b8a672add528657f09345... | 713754001  |           1            |   1   |\n",
       "| 72f1e8e3cac079befde45bf3c3... | 811398005  |           1            |   1   |\n",
       "+-------------------------------+------------+------------------------+-------+\n",
       "[501588 rows x 4 columns]\n",
       "Note: Only the head of the SFrame is printed.\n",
       "You can use print_rows(num_rows=m, num_columns=n) to print more rows and columns."
      ]
     },
     "execution_count": 68,
     "metadata": {},
     "output_type": "execute_result"
    }
   ],
   "source": [
    "test_dummy"
   ]
  },
  {
   "cell_type": "code",
   "execution_count": 69,
   "id": "b13ea23a",
   "metadata": {},
   "outputs": [
    {
     "data": {
      "text/plain": [
       "(501588, 3)"
      ]
     },
     "execution_count": 69,
     "metadata": {},
     "output_type": "execute_result"
    }
   ],
   "source": [
    "test_purchases.shape"
   ]
  },
  {
   "cell_type": "markdown",
   "id": "51988bdb",
   "metadata": {},
   "source": [
    "### Predictions using best model - Cosine similarity dummy purchases"
   ]
  },
  {
   "cell_type": "code",
   "execution_count": 70,
   "id": "f9e39681",
   "metadata": {},
   "outputs": [
    {
     "data": {
      "text/html": [
       "<pre>Warning: Ignoring columns article_purchase_count;</pre>"
      ],
      "text/plain": [
       "Warning: Ignoring columns article_purchase_count;"
      ]
     },
     "metadata": {},
     "output_type": "display_data"
    },
    {
     "data": {
      "text/html": [
       "<pre>    To use these columns in scoring predictions, use a model that allows the use of additional features.</pre>"
      ],
      "text/plain": [
       "    To use these columns in scoring predictions, use a model that allows the use of additional features."
      ]
     },
     "metadata": {},
     "output_type": "display_data"
    },
    {
     "data": {
      "text/html": [
       "<pre>Preparing data set.</pre>"
      ],
      "text/plain": [
       "Preparing data set."
      ]
     },
     "metadata": {},
     "output_type": "display_data"
    },
    {
     "data": {
      "text/html": [
       "<pre>    Data has 2006351 observations with 11066 users and 76548 items.</pre>"
      ],
      "text/plain": [
       "    Data has 2006351 observations with 11066 users and 76548 items."
      ]
     },
     "metadata": {},
     "output_type": "display_data"
    },
    {
     "data": {
      "text/html": [
       "<pre>    Data prepared in: 0.896107s</pre>"
      ],
      "text/plain": [
       "    Data prepared in: 0.896107s"
      ]
     },
     "metadata": {},
     "output_type": "display_data"
    },
    {
     "data": {
      "text/html": [
       "<pre>Training model from provided data.</pre>"
      ],
      "text/plain": [
       "Training model from provided data."
      ]
     },
     "metadata": {},
     "output_type": "display_data"
    },
    {
     "data": {
      "text/html": [
       "<pre>Gathering per-item and per-user statistics.</pre>"
      ],
      "text/plain": [
       "Gathering per-item and per-user statistics."
      ]
     },
     "metadata": {},
     "output_type": "display_data"
    },
    {
     "data": {
      "text/html": [
       "<pre>+--------------------------------+------------+</pre>"
      ],
      "text/plain": [
       "+--------------------------------+------------+"
      ]
     },
     "metadata": {},
     "output_type": "display_data"
    },
    {
     "data": {
      "text/html": [
       "<pre>| Elapsed Time (Item Statistics) | % Complete |</pre>"
      ],
      "text/plain": [
       "| Elapsed Time (Item Statistics) | % Complete |"
      ]
     },
     "metadata": {},
     "output_type": "display_data"
    },
    {
     "data": {
      "text/html": [
       "<pre>+--------------------------------+------------+</pre>"
      ],
      "text/plain": [
       "+--------------------------------+------------+"
      ]
     },
     "metadata": {},
     "output_type": "display_data"
    },
    {
     "data": {
      "text/html": [
       "<pre>| 3.16ms                         | 9          |</pre>"
      ],
      "text/plain": [
       "| 3.16ms                         | 9          |"
      ]
     },
     "metadata": {},
     "output_type": "display_data"
    },
    {
     "data": {
      "text/html": [
       "<pre>| 29.459ms                       | 100        |</pre>"
      ],
      "text/plain": [
       "| 29.459ms                       | 100        |"
      ]
     },
     "metadata": {},
     "output_type": "display_data"
    },
    {
     "data": {
      "text/html": [
       "<pre>+--------------------------------+------------+</pre>"
      ],
      "text/plain": [
       "+--------------------------------+------------+"
      ]
     },
     "metadata": {},
     "output_type": "display_data"
    },
    {
     "data": {
      "text/html": [
       "<pre>Setting up lookup tables.</pre>"
      ],
      "text/plain": [
       "Setting up lookup tables."
      ]
     },
     "metadata": {},
     "output_type": "display_data"
    },
    {
     "data": {
      "text/html": [
       "<pre>Processing data in 3 passes using dense lookup tables.</pre>"
      ],
      "text/plain": [
       "Processing data in 3 passes using dense lookup tables."
      ]
     },
     "metadata": {},
     "output_type": "display_data"
    },
    {
     "data": {
      "text/html": [
       "<pre>+-------------------------------------+------------------+-----------------+</pre>"
      ],
      "text/plain": [
       "+-------------------------------------+------------------+-----------------+"
      ]
     },
     "metadata": {},
     "output_type": "display_data"
    },
    {
     "data": {
      "text/html": [
       "<pre>| Elapsed Time (Constructing Lookups) | Total % Complete | Items Processed |</pre>"
      ],
      "text/plain": [
       "| Elapsed Time (Constructing Lookups) | Total % Complete | Items Processed |"
      ]
     },
     "metadata": {},
     "output_type": "display_data"
    },
    {
     "data": {
      "text/html": [
       "<pre>+-------------------------------------+------------------+-----------------+</pre>"
      ],
      "text/plain": [
       "+-------------------------------------+------------------+-----------------+"
      ]
     },
     "metadata": {},
     "output_type": "display_data"
    },
    {
     "data": {
      "text/html": [
       "<pre>| 3.82s                               | 0                | 9               |</pre>"
      ],
      "text/plain": [
       "| 3.82s                               | 0                | 9               |"
      ]
     },
     "metadata": {},
     "output_type": "display_data"
    },
    {
     "data": {
      "text/html": [
       "<pre>| 6.83s                               | 24.25            | 18606           |</pre>"
      ],
      "text/plain": [
       "| 6.83s                               | 24.25            | 18606           |"
      ]
     },
     "metadata": {},
     "output_type": "display_data"
    },
    {
     "data": {
      "text/html": [
       "<pre>| 18.59s                              | 33.25            | 25525           |</pre>"
      ],
      "text/plain": [
       "| 18.59s                              | 33.25            | 25525           |"
      ]
     },
     "metadata": {},
     "output_type": "display_data"
    },
    {
     "data": {
      "text/html": [
       "<pre>| 28.76s                              | 66.5             | 51032           |</pre>"
      ],
      "text/plain": [
       "| 28.76s                              | 66.5             | 51032           |"
      ]
     },
     "metadata": {},
     "output_type": "display_data"
    },
    {
     "data": {
      "text/html": [
       "<pre>| 33.78s                              | 100              | 76548           |</pre>"
      ],
      "text/plain": [
       "| 33.78s                              | 100              | 76548           |"
      ]
     },
     "metadata": {},
     "output_type": "display_data"
    },
    {
     "data": {
      "text/html": [
       "<pre>+-------------------------------------+------------------+-----------------+</pre>"
      ],
      "text/plain": [
       "+-------------------------------------+------------------+-----------------+"
      ]
     },
     "metadata": {},
     "output_type": "display_data"
    },
    {
     "data": {
      "text/html": [
       "<pre>Finalizing lookup tables.</pre>"
      ],
      "text/plain": [
       "Finalizing lookup tables."
      ]
     },
     "metadata": {},
     "output_type": "display_data"
    },
    {
     "data": {
      "text/html": [
       "<pre>Generating candidate set for working with new users.</pre>"
      ],
      "text/plain": [
       "Generating candidate set for working with new users."
      ]
     },
     "metadata": {},
     "output_type": "display_data"
    },
    {
     "data": {
      "text/html": [
       "<pre>Finished training in 33.9123s</pre>"
      ],
      "text/plain": [
       "Finished training in 33.9123s"
      ]
     },
     "metadata": {},
     "output_type": "display_data"
    },
    {
     "data": {
      "text/html": [
       "<pre>recommendations finished on 1000/11066 queries. users per second: 1751.67</pre>"
      ],
      "text/plain": [
       "recommendations finished on 1000/11066 queries. users per second: 1751.67"
      ]
     },
     "metadata": {},
     "output_type": "display_data"
    },
    {
     "data": {
      "text/html": [
       "<pre>recommendations finished on 2000/11066 queries. users per second: 1883.87</pre>"
      ],
      "text/plain": [
       "recommendations finished on 2000/11066 queries. users per second: 1883.87"
      ]
     },
     "metadata": {},
     "output_type": "display_data"
    },
    {
     "data": {
      "text/html": [
       "<pre>recommendations finished on 3000/11066 queries. users per second: 1926.67</pre>"
      ],
      "text/plain": [
       "recommendations finished on 3000/11066 queries. users per second: 1926.67"
      ]
     },
     "metadata": {},
     "output_type": "display_data"
    },
    {
     "data": {
      "text/html": [
       "<pre>recommendations finished on 4000/11066 queries. users per second: 1905.7</pre>"
      ],
      "text/plain": [
       "recommendations finished on 4000/11066 queries. users per second: 1905.7"
      ]
     },
     "metadata": {},
     "output_type": "display_data"
    },
    {
     "data": {
      "text/html": [
       "<pre>recommendations finished on 5000/11066 queries. users per second: 1901.73</pre>"
      ],
      "text/plain": [
       "recommendations finished on 5000/11066 queries. users per second: 1901.73"
      ]
     },
     "metadata": {},
     "output_type": "display_data"
    },
    {
     "data": {
      "text/html": [
       "<pre>recommendations finished on 6000/11066 queries. users per second: 1931.64</pre>"
      ],
      "text/plain": [
       "recommendations finished on 6000/11066 queries. users per second: 1931.64"
      ]
     },
     "metadata": {},
     "output_type": "display_data"
    },
    {
     "data": {
      "text/html": [
       "<pre>recommendations finished on 7000/11066 queries. users per second: 1997.24</pre>"
      ],
      "text/plain": [
       "recommendations finished on 7000/11066 queries. users per second: 1997.24"
      ]
     },
     "metadata": {},
     "output_type": "display_data"
    },
    {
     "data": {
      "text/html": [
       "<pre>recommendations finished on 8000/11066 queries. users per second: 2016.32</pre>"
      ],
      "text/plain": [
       "recommendations finished on 8000/11066 queries. users per second: 2016.32"
      ]
     },
     "metadata": {},
     "output_type": "display_data"
    },
    {
     "data": {
      "text/html": [
       "<pre>recommendations finished on 9000/11066 queries. users per second: 2029.55</pre>"
      ],
      "text/plain": [
       "recommendations finished on 9000/11066 queries. users per second: 2029.55"
      ]
     },
     "metadata": {},
     "output_type": "display_data"
    },
    {
     "data": {
      "text/html": [
       "<pre>recommendations finished on 10000/11066 queries. users per second: 2071.38</pre>"
      ],
      "text/plain": [
       "recommendations finished on 10000/11066 queries. users per second: 2071.38"
      ]
     },
     "metadata": {},
     "output_type": "display_data"
    },
    {
     "data": {
      "text/html": [
       "<pre>recommendations finished on 11000/11066 queries. users per second: 2098.58</pre>"
      ],
      "text/plain": [
       "recommendations finished on 11000/11066 queries. users per second: 2098.58"
      ]
     },
     "metadata": {},
     "output_type": "display_data"
    }
   ],
   "source": [
    "prediction_model1 = tc.item_similarity_recommender.create(tc.SFrame(dummy_df), \n",
    "                                                    user_id=user_id, \n",
    "                                                    item_id=item_id, \n",
    "                                                    target=\"dummy\",\n",
    "                                                    similarity_type=\"cosine\",\n",
    "                                                    )\n",
    "\n",
    "recommender1 = prediction_model1.recommend(users=customers_to_rec, k=8)"
   ]
  },
  {
   "cell_type": "code",
   "execution_count": 71,
   "id": "45655938",
   "metadata": {},
   "outputs": [],
   "source": [
    "recommender_df1 = recommender1.to_dataframe()"
   ]
  },
  {
   "cell_type": "code",
   "execution_count": 72,
   "id": "9159b375",
   "metadata": {},
   "outputs": [
    {
     "data": {
      "text/html": [
       "<div>\n",
       "<style scoped>\n",
       "    .dataframe tbody tr th:only-of-type {\n",
       "        vertical-align: middle;\n",
       "    }\n",
       "\n",
       "    .dataframe tbody tr th {\n",
       "        vertical-align: top;\n",
       "    }\n",
       "\n",
       "    .dataframe thead th {\n",
       "        text-align: right;\n",
       "    }\n",
       "</style>\n",
       "<table border=\"1\" class=\"dataframe\">\n",
       "  <thead>\n",
       "    <tr style=\"text-align: right;\">\n",
       "      <th></th>\n",
       "      <th>customer_id</th>\n",
       "      <th>article_id</th>\n",
       "      <th>score</th>\n",
       "      <th>rank</th>\n",
       "    </tr>\n",
       "  </thead>\n",
       "  <tbody>\n",
       "    <tr>\n",
       "      <th>0</th>\n",
       "      <td>250039015607871019994d80d94192ef305063f270fb94...</td>\n",
       "      <td>706016001</td>\n",
       "      <td>0.018025</td>\n",
       "      <td>1</td>\n",
       "    </tr>\n",
       "    <tr>\n",
       "      <th>1</th>\n",
       "      <td>250039015607871019994d80d94192ef305063f270fb94...</td>\n",
       "      <td>706016002</td>\n",
       "      <td>0.014460</td>\n",
       "      <td>2</td>\n",
       "    </tr>\n",
       "    <tr>\n",
       "      <th>2</th>\n",
       "      <td>250039015607871019994d80d94192ef305063f270fb94...</td>\n",
       "      <td>610776002</td>\n",
       "      <td>0.014011</td>\n",
       "      <td>3</td>\n",
       "    </tr>\n",
       "    <tr>\n",
       "      <th>3</th>\n",
       "      <td>250039015607871019994d80d94192ef305063f270fb94...</td>\n",
       "      <td>610776001</td>\n",
       "      <td>0.013103</td>\n",
       "      <td>4</td>\n",
       "    </tr>\n",
       "    <tr>\n",
       "      <th>4</th>\n",
       "      <td>250039015607871019994d80d94192ef305063f270fb94...</td>\n",
       "      <td>869232003</td>\n",
       "      <td>0.010265</td>\n",
       "      <td>5</td>\n",
       "    </tr>\n",
       "    <tr>\n",
       "      <th>5</th>\n",
       "      <td>250039015607871019994d80d94192ef305063f270fb94...</td>\n",
       "      <td>866578002</td>\n",
       "      <td>0.010265</td>\n",
       "      <td>6</td>\n",
       "    </tr>\n",
       "    <tr>\n",
       "      <th>6</th>\n",
       "      <td>250039015607871019994d80d94192ef305063f270fb94...</td>\n",
       "      <td>720125001</td>\n",
       "      <td>0.009979</td>\n",
       "      <td>7</td>\n",
       "    </tr>\n",
       "    <tr>\n",
       "      <th>7</th>\n",
       "      <td>250039015607871019994d80d94192ef305063f270fb94...</td>\n",
       "      <td>844906001</td>\n",
       "      <td>0.009897</td>\n",
       "      <td>8</td>\n",
       "    </tr>\n",
       "    <tr>\n",
       "      <th>8</th>\n",
       "      <td>eae27980951a8e176ee6721ba135201a4094c291c1219f...</td>\n",
       "      <td>610776002</td>\n",
       "      <td>0.025319</td>\n",
       "      <td>1</td>\n",
       "    </tr>\n",
       "    <tr>\n",
       "      <th>9</th>\n",
       "      <td>eae27980951a8e176ee6721ba135201a4094c291c1219f...</td>\n",
       "      <td>706016001</td>\n",
       "      <td>0.024215</td>\n",
       "      <td>2</td>\n",
       "    </tr>\n",
       "    <tr>\n",
       "      <th>10</th>\n",
       "      <td>eae27980951a8e176ee6721ba135201a4094c291c1219f...</td>\n",
       "      <td>610776001</td>\n",
       "      <td>0.021149</td>\n",
       "      <td>3</td>\n",
       "    </tr>\n",
       "    <tr>\n",
       "      <th>11</th>\n",
       "      <td>eae27980951a8e176ee6721ba135201a4094c291c1219f...</td>\n",
       "      <td>372860001</td>\n",
       "      <td>0.020235</td>\n",
       "      <td>4</td>\n",
       "    </tr>\n",
       "    <tr>\n",
       "      <th>12</th>\n",
       "      <td>eae27980951a8e176ee6721ba135201a4094c291c1219f...</td>\n",
       "      <td>706016002</td>\n",
       "      <td>0.019879</td>\n",
       "      <td>5</td>\n",
       "    </tr>\n",
       "    <tr>\n",
       "      <th>13</th>\n",
       "      <td>eae27980951a8e176ee6721ba135201a4094c291c1219f...</td>\n",
       "      <td>565379002</td>\n",
       "      <td>0.016406</td>\n",
       "      <td>6</td>\n",
       "    </tr>\n",
       "    <tr>\n",
       "      <th>14</th>\n",
       "      <td>eae27980951a8e176ee6721ba135201a4094c291c1219f...</td>\n",
       "      <td>754404006</td>\n",
       "      <td>0.014473</td>\n",
       "      <td>7</td>\n",
       "    </tr>\n",
       "    <tr>\n",
       "      <th>15</th>\n",
       "      <td>eae27980951a8e176ee6721ba135201a4094c291c1219f...</td>\n",
       "      <td>448509014</td>\n",
       "      <td>0.014315</td>\n",
       "      <td>8</td>\n",
       "    </tr>\n",
       "    <tr>\n",
       "      <th>16</th>\n",
       "      <td>77c980e1d7894da46146746d3bc931a47077fa4d8835a4...</td>\n",
       "      <td>706016003</td>\n",
       "      <td>0.015117</td>\n",
       "      <td>1</td>\n",
       "    </tr>\n",
       "    <tr>\n",
       "      <th>17</th>\n",
       "      <td>77c980e1d7894da46146746d3bc931a47077fa4d8835a4...</td>\n",
       "      <td>610776002</td>\n",
       "      <td>0.014339</td>\n",
       "      <td>2</td>\n",
       "    </tr>\n",
       "    <tr>\n",
       "      <th>18</th>\n",
       "      <td>77c980e1d7894da46146746d3bc931a47077fa4d8835a4...</td>\n",
       "      <td>610776001</td>\n",
       "      <td>0.012610</td>\n",
       "      <td>3</td>\n",
       "    </tr>\n",
       "    <tr>\n",
       "      <th>19</th>\n",
       "      <td>77c980e1d7894da46146746d3bc931a47077fa4d8835a4...</td>\n",
       "      <td>720125001</td>\n",
       "      <td>0.012045</td>\n",
       "      <td>4</td>\n",
       "    </tr>\n",
       "  </tbody>\n",
       "</table>\n",
       "</div>"
      ],
      "text/plain": [
       "                                          customer_id  article_id     score  \\\n",
       "0   250039015607871019994d80d94192ef305063f270fb94...   706016001  0.018025   \n",
       "1   250039015607871019994d80d94192ef305063f270fb94...   706016002  0.014460   \n",
       "2   250039015607871019994d80d94192ef305063f270fb94...   610776002  0.014011   \n",
       "3   250039015607871019994d80d94192ef305063f270fb94...   610776001  0.013103   \n",
       "4   250039015607871019994d80d94192ef305063f270fb94...   869232003  0.010265   \n",
       "5   250039015607871019994d80d94192ef305063f270fb94...   866578002  0.010265   \n",
       "6   250039015607871019994d80d94192ef305063f270fb94...   720125001  0.009979   \n",
       "7   250039015607871019994d80d94192ef305063f270fb94...   844906001  0.009897   \n",
       "8   eae27980951a8e176ee6721ba135201a4094c291c1219f...   610776002  0.025319   \n",
       "9   eae27980951a8e176ee6721ba135201a4094c291c1219f...   706016001  0.024215   \n",
       "10  eae27980951a8e176ee6721ba135201a4094c291c1219f...   610776001  0.021149   \n",
       "11  eae27980951a8e176ee6721ba135201a4094c291c1219f...   372860001  0.020235   \n",
       "12  eae27980951a8e176ee6721ba135201a4094c291c1219f...   706016002  0.019879   \n",
       "13  eae27980951a8e176ee6721ba135201a4094c291c1219f...   565379002  0.016406   \n",
       "14  eae27980951a8e176ee6721ba135201a4094c291c1219f...   754404006  0.014473   \n",
       "15  eae27980951a8e176ee6721ba135201a4094c291c1219f...   448509014  0.014315   \n",
       "16  77c980e1d7894da46146746d3bc931a47077fa4d8835a4...   706016003  0.015117   \n",
       "17  77c980e1d7894da46146746d3bc931a47077fa4d8835a4...   610776002  0.014339   \n",
       "18  77c980e1d7894da46146746d3bc931a47077fa4d8835a4...   610776001  0.012610   \n",
       "19  77c980e1d7894da46146746d3bc931a47077fa4d8835a4...   720125001  0.012045   \n",
       "\n",
       "    rank  \n",
       "0      1  \n",
       "1      2  \n",
       "2      3  \n",
       "3      4  \n",
       "4      5  \n",
       "5      6  \n",
       "6      7  \n",
       "7      8  \n",
       "8      1  \n",
       "9      2  \n",
       "10     3  \n",
       "11     4  \n",
       "12     5  \n",
       "13     6  \n",
       "14     7  \n",
       "15     8  \n",
       "16     1  \n",
       "17     2  \n",
       "18     3  \n",
       "19     4  "
      ]
     },
     "execution_count": 72,
     "metadata": {},
     "output_type": "execute_result"
    }
   ],
   "source": [
    "recommender_df1.head(20)"
   ]
  },
  {
   "cell_type": "code",
   "execution_count": null,
   "id": "3d2b2f22",
   "metadata": {},
   "outputs": [],
   "source": []
  },
  {
   "cell_type": "code",
   "execution_count": null,
   "id": "ffc8d1ac",
   "metadata": {},
   "outputs": [],
   "source": []
  }
 ],
 "metadata": {
  "kernelspec": {
   "display_name": "bigdata_ml",
   "language": "python",
   "name": "bigdata_ml"
  },
  "language_info": {
   "codemirror_mode": {
    "name": "ipython",
    "version": 3
   },
   "file_extension": ".py",
   "mimetype": "text/x-python",
   "name": "python",
   "nbconvert_exporter": "python",
   "pygments_lexer": "ipython3",
   "version": "3.8.16"
  }
 },
 "nbformat": 4,
 "nbformat_minor": 5
}
