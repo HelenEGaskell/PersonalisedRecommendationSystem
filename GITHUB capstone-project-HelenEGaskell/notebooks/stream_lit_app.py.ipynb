{
 "cells": [
  {
   "cell_type": "code",
   "execution_count": 1,
   "id": "e7fa562f",
   "metadata": {},
   "outputs": [],
   "source": [
    "import pandas as pd\n",
    "import numpy as np\n",
    "import streamlit as st\n",
    "import turicreate as tc\n",
    "import joblib"
   ]
  },
  {
   "cell_type": "code",
   "execution_count": 2,
   "id": "7c48774a",
   "metadata": {},
   "outputs": [],
   "source": [
    "df = pd.read_csv('dataframe.csv')"
   ]
  },
  {
   "cell_type": "code",
   "execution_count": 3,
   "id": "0683afac",
   "metadata": {},
   "outputs": [],
   "source": [
    "def get_article_ids(grouped, customer_id):\n",
    "    article_ids = grouped[grouped['customer_id'] == customer_id]['article_id'].tolist()\n",
    "    return article_ids"
   ]
  },
  {
   "cell_type": "code",
   "execution_count": 4,
   "id": "9a4766b3",
   "metadata": {},
   "outputs": [
    {
     "name": "stderr",
     "output_type": "stream",
     "text": [
      "2023-04-12 17:22:21.074 \n",
      "  \u001b[33m\u001b[1mWarning:\u001b[0m to view this Streamlit app on a browser, run it with the following\n",
      "  command:\n",
      "\n",
      "    streamlit run /Users/helengaskell/opt/anaconda3/envs/bigdata_ml/lib/python3.8/site-packages/ipykernel_launcher.py [ARGUMENTS]\n"
     ]
    }
   ],
   "source": [
    "# Define the Streamlit app\n",
    "def app():\n",
    "    # Add a title to the app\n",
    "    st.title('Get Article IDs for Customer')\n",
    "\n",
    "    # Add a text input for the customer ID\n",
    "    customer_id = st.text_input('Enter the customer ID:', '')\n",
    "\n",
    "    # If the user has entered a customer ID\n",
    "    if customer_id:\n",
    "        # Get the article IDs for the customer\n",
    "        article_ids = get_article_ids(grouped, customer_id)\n",
    "\n",
    "        # Display the article IDs\n",
    "        if article_ids:\n",
    "            st.write(f\"Article IDs for customer {customer_id}: {article_ids}\")\n",
    "        else:\n",
    "            st.write(f\"No article IDs found for customer {customer_id}.\")\n",
    "\n",
    "# Run the app\n",
    "if __name__ == '__main__':\n",
    "    app()"
   ]
  },
  {
   "cell_type": "code",
   "execution_count": null,
   "id": "0b7fcb17",
   "metadata": {},
   "outputs": [],
   "source": []
  }
 ],
 "metadata": {
  "kernelspec": {
   "display_name": "bigdata_ml",
   "language": "python",
   "name": "bigdata_ml"
  },
  "language_info": {
   "codemirror_mode": {
    "name": "ipython",
    "version": 3
   },
   "file_extension": ".py",
   "mimetype": "text/x-python",
   "name": "python",
   "nbconvert_exporter": "python",
   "pygments_lexer": "ipython3",
   "version": "3.8.16"
  }
 },
 "nbformat": 4,
 "nbformat_minor": 5
}
